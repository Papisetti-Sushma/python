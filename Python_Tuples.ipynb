{
 "cells": [
  {
   "cell_type": "markdown",
   "id": "24fe4498-3233-463c-a176-6b9d98589fc2",
   "metadata": {},
   "source": [
    "# Define Tuples"
   ]
  },
  {
   "cell_type": "code",
   "execution_count": null,
   "id": "e78cc823-9996-496b-958a-423b1740b8cd",
   "metadata": {},
   "outputs": [],
   "source": [
    "- Python Tuple is a collection of Python Programming objects much like a list.\n",
    "- The data type that represents an ordered, immutable and sequence of elements\n",
    "- Similar to lists but the only difference is tuples and cannot be modified\n",
    "- Defines using paranthesis () \n",
    "- seperated by commas ,."
   ]
  },
  {
   "cell_type": "markdown",
   "id": "82facb28-6126-491e-b477-688768536f09",
   "metadata": {},
   "source": [
    "# Features of tuples"
   ]
  },
  {
   "cell_type": "code",
   "execution_count": null,
   "id": "bbbcc4a8-9c15-4baf-848a-a7d3fa3b4a9d",
   "metadata": {},
   "outputs": [],
   "source": [
    "- Immutable \n",
    "- Each element in a tuple has a specified order that will never change becoz tuples are ordered sequences"
   ]
  },
  {
   "cell_type": "markdown",
   "id": "af3756a4-40f5-46a3-8801-a60c0cc52341",
   "metadata": {},
   "source": [
    "# Creating 10 examples"
   ]
  },
  {
   "cell_type": "code",
   "execution_count": 8,
   "id": "3ca62c24-1dd4-4b15-89f7-e2bd530f629c",
   "metadata": {},
   "outputs": [
    {
     "name": "stdout",
     "output_type": "stream",
     "text": [
      "\n",
      "Tuple with the use of function: \n",
      "('G', 'e', 'e', 'k', 's')\n"
     ]
    }
   ],
   "source": [
    "Tuple1 = tuple('Geeks')\n",
    "print(\"\\nTuple with the use of function: \")\n",
    "print(Tuple1)"
   ]
  },
  {
   "cell_type": "code",
   "execution_count": 10,
   "id": "96c8913f-2148-4846-b9ce-a0b1c98f028c",
   "metadata": {},
   "outputs": [
    {
     "name": "stdout",
     "output_type": "stream",
     "text": [
      "\n",
      "Tuple using List: \n",
      "(1, 2, 4, 5, 6)\n"
     ]
    }
   ],
   "source": [
    "list1 = [1, 2, 4, 5, 6]\n",
    "print(\"\\nTuple using List: \")\n",
    "print(tuple(list1))\n"
   ]
  },
  {
   "cell_type": "code",
   "execution_count": 12,
   "id": "5d0d9ef4-90b2-4b5f-a243-e5af69149e18",
   "metadata": {},
   "outputs": [
    {
     "name": "stdout",
     "output_type": "stream",
     "text": [
      "Initial empty Tuple: \n",
      "()\n"
     ]
    }
   ],
   "source": [
    "Tuple1 = ()\n",
    "print(\"Initial empty Tuple: \")\n",
    "print(Tuple1)"
   ]
  },
  {
   "cell_type": "code",
   "execution_count": 14,
   "id": "04fd9e58-d6f4-4df5-b4c9-15975780b9cc",
   "metadata": {},
   "outputs": [
    {
     "name": "stdout",
     "output_type": "stream",
     "text": [
      "('apple', 'banana', 'cherry')\n"
     ]
    }
   ],
   "source": [
    "mytuple = (\"apple\", \"banana\", \"cherry\")\n",
    "print(mytuple)"
   ]
  },
  {
   "cell_type": "code",
   "execution_count": 16,
   "id": "4cf1860e-8679-4cd0-8367-c2be851fc6f8",
   "metadata": {},
   "outputs": [
    {
     "name": "stdout",
     "output_type": "stream",
     "text": [
      "('apple', 'banana', 'cherry')\n"
     ]
    }
   ],
   "source": [
    "thistuple = (\"apple\", \"banana\", \"cherry\")\n",
    "print(thistuple)\n"
   ]
  },
  {
   "cell_type": "code",
   "execution_count": 18,
   "id": "a9a795d5-efac-4d32-9789-964b245231a5",
   "metadata": {},
   "outputs": [
    {
     "name": "stdout",
     "output_type": "stream",
     "text": [
      "3\n"
     ]
    }
   ],
   "source": [
    "thistuple = (\"apple\", \"banana\", \"cherry\")\n",
    "print(len(thistuple))"
   ]
  },
  {
   "cell_type": "code",
   "execution_count": 20,
   "id": "3cb8bc48-546f-4281-927d-d15701d6c08c",
   "metadata": {},
   "outputs": [
    {
     "name": "stdout",
     "output_type": "stream",
     "text": [
      "<class 'tuple'>\n"
     ]
    }
   ],
   "source": [
    "thistuple = (\"apple\",)\n",
    "print(type(thistuple))\n",
    "\n"
   ]
  },
  {
   "cell_type": "code",
   "execution_count": 22,
   "id": "be7574f0-0c59-4fdb-84dd-38b103657157",
   "metadata": {},
   "outputs": [
    {
     "name": "stdout",
     "output_type": "stream",
     "text": [
      "<class 'str'>\n"
     ]
    }
   ],
   "source": [
    "thistuple = (\"apple\")\n",
    "print(type(thistuple))"
   ]
  },
  {
   "cell_type": "code",
   "execution_count": 24,
   "id": "703ee40e-0026-438a-97f1-515f46a9882c",
   "metadata": {},
   "outputs": [
    {
     "name": "stdout",
     "output_type": "stream",
     "text": [
      "<class 'tuple'>\n",
      "<class 'tuple'>\n",
      "<class 'tuple'>\n"
     ]
    }
   ],
   "source": [
    "tuple1 = (\"apple\", \"banana\", \"cherry\")\n",
    "tuple2 = (1, 5, 7, 9, 3)\n",
    "tuple3 = (True, False, False)\n",
    "print(type(tuple1))\n",
    "print(type(tuple2))\n",
    "print(type(tuple3))"
   ]
  },
  {
   "cell_type": "code",
   "execution_count": 26,
   "id": "7bb9aaf0-7014-4abb-98a5-055f47974099",
   "metadata": {},
   "outputs": [
    {
     "data": {
      "text/plain": [
       "('abc', 34, True, 40, 'male')"
      ]
     },
     "execution_count": 26,
     "metadata": {},
     "output_type": "execute_result"
    }
   ],
   "source": [
    "tuple1 = (\"abc\", 34, True, 40, \"male\")\n",
    "tuple1"
   ]
  },
  {
   "cell_type": "markdown",
   "id": "b063215b-9eb7-4a46-846c-6e04cd142fdd",
   "metadata": {},
   "source": [
    "# Accessing of tuples"
   ]
  },
  {
   "cell_type": "markdown",
   "id": "a406db25-88ed-49d7-8e7d-4ba87620bca9",
   "metadata": {},
   "source": [
    "- supports only indexing and slicing"
   ]
  },
  {
   "cell_type": "code",
   "execution_count": 34,
   "id": "221169f4-4484-407a-984e-a2477ffbb6fe",
   "metadata": {},
   "outputs": [
    {
     "name": "stdout",
     "output_type": "stream",
     "text": [
      "banana\n"
     ]
    }
   ],
   "source": [
    "thistuple = (\"apple\", \"banana\", \"cherry\")\n",
    "print(thistuple[1])"
   ]
  },
  {
   "cell_type": "code",
   "execution_count": 36,
   "id": "ea292b5f-d9fc-4da8-bf8f-d091dc42b01a",
   "metadata": {},
   "outputs": [
    {
     "name": "stdout",
     "output_type": "stream",
     "text": [
      "cherry\n"
     ]
    }
   ],
   "source": [
    "thistuple = (\"apple\", \"banana\", \"cherry\")\n",
    "print(thistuple[-1])"
   ]
  },
  {
   "cell_type": "code",
   "execution_count": 38,
   "id": "76dbb177-6e97-4114-a470-e1d417c94e20",
   "metadata": {},
   "outputs": [
    {
     "name": "stdout",
     "output_type": "stream",
     "text": [
      "('cherry', 'orange', 'kiwi')\n"
     ]
    }
   ],
   "source": [
    "thistuple = (\"apple\", \"banana\", \"cherry\", \"orange\", \"kiwi\", \"melon\", \"mango\")\n",
    "print(thistuple[2:5])"
   ]
  },
  {
   "cell_type": "code",
   "execution_count": 40,
   "id": "3b0e9af5-bdf1-485f-8497-10faefe664a6",
   "metadata": {},
   "outputs": [
    {
     "name": "stdout",
     "output_type": "stream",
     "text": [
      "('apple', 'banana', 'cherry', 'orange')\n"
     ]
    }
   ],
   "source": [
    "thistuple = (\"apple\", \"banana\", \"cherry\", \"orange\", \"kiwi\", \"melon\", \"mango\")\n",
    "print(thistuple[:4])"
   ]
  },
  {
   "cell_type": "code",
   "execution_count": 42,
   "id": "fd523576-a38d-45ec-ae87-fff99c2daf18",
   "metadata": {},
   "outputs": [
    {
     "name": "stdout",
     "output_type": "stream",
     "text": [
      "('apple', 'banana', 'cherry', 'orange')\n"
     ]
    }
   ],
   "source": [
    "thistuple = (\"apple\", \"banana\", \"cherry\", \"orange\", \"kiwi\", \"melon\", \"mango\")\n",
    "print(thistuple[:4])"
   ]
  },
  {
   "cell_type": "markdown",
   "id": "86b52874-6b91-40b3-b95f-f5840839cf12",
   "metadata": {},
   "source": [
    "# Tuple Operation"
   ]
  },
  {
   "cell_type": "markdown",
   "id": "2e3f47ca-8293-4401-b22b-666307e99b5a",
   "metadata": {},
   "source": [
    "1.concatation :\n",
    "\n",
    "- combining two tuples\n",
    "  "
   ]
  },
  {
   "cell_type": "code",
   "execution_count": 52,
   "id": "6a7fbd64-923d-44a0-af74-75d4ba6a3779",
   "metadata": {},
   "outputs": [
    {
     "name": "stdout",
     "output_type": "stream",
     "text": [
      "(1, 2, 3, 'sushma', 'harsha')\n"
     ]
    }
   ],
   "source": [
    "tuple1=(1,2,3)\n",
    "tuple2=(\"sushma\",\"harsha\")\n",
    "result=tuple1+tuple2\n",
    "print(result)"
   ]
  },
  {
   "cell_type": "code",
   "execution_count": 54,
   "id": "f3d0d09b-f5ac-4e81-aee7-1ea8e8c57ec5",
   "metadata": {},
   "outputs": [
    {
     "name": "stdout",
     "output_type": "stream",
     "text": [
      "(1, 2, 3, 4, 5, 6)\n"
     ]
    }
   ],
   "source": [
    "tuple1=(1,2,3)\n",
    "tuple2=(4,5,6)\n",
    "result=tuple1+tuple2\n",
    "print(result)"
   ]
  },
  {
   "cell_type": "code",
   "execution_count": 56,
   "id": "59f17853-c13a-40e2-89d2-babc892b2118",
   "metadata": {},
   "outputs": [
    {
     "name": "stdout",
     "output_type": "stream",
     "text": [
      "(1, 2, 3, 9, 10, 11, 12)\n"
     ]
    }
   ],
   "source": [
    "tuple1=(1,2,3)\n",
    "tuple2=(9,10,11,12)\n",
    "result=tuple1+tuple2\n",
    "print(result)"
   ]
  },
  {
   "cell_type": "code",
   "execution_count": 58,
   "id": "cc7a257e-743e-4213-abce-7979dd239cd4",
   "metadata": {},
   "outputs": [
    {
     "name": "stdout",
     "output_type": "stream",
     "text": [
      "(1, 2, 3, 'sushma', 'harsha', 'Nirmala')\n"
     ]
    }
   ],
   "source": [
    "tuple1=(1,2,3)\n",
    "tuple2=(\"sushma\",\"harsha\",\"Nirmala\")\n",
    "result=tuple1+tuple2\n",
    "print(result)"
   ]
  },
  {
   "cell_type": "code",
   "execution_count": 60,
   "id": "10354d49-a18f-4aa8-ab85-049122048bc6",
   "metadata": {},
   "outputs": [
    {
     "name": "stdout",
     "output_type": "stream",
     "text": [
      "(1, 2, 3, 5, 4, 3, 'sushma', 'harsha')\n"
     ]
    }
   ],
   "source": [
    "tuple1=(1,2,3,5,4,3)\n",
    "tuple2=(\"sushma\",\"harsha\")\n",
    "result=tuple1+tuple2\n",
    "print(result)"
   ]
  },
  {
   "cell_type": "markdown",
   "id": "2c8fa32d-66a9-493d-89a2-0e17a4f4ff37",
   "metadata": {},
   "source": [
    "2.Repetition:"
   ]
  },
  {
   "cell_type": "markdown",
   "id": "7c2295f2-a81a-45a6-9149-e9075281a33c",
   "metadata": {},
   "source": [
    "- repeating the tuple"
   ]
  },
  {
   "cell_type": "code",
   "execution_count": 66,
   "id": "690d4e08-a9c2-4111-8927-d4a4dc0a00a1",
   "metadata": {},
   "outputs": [
    {
     "name": "stdout",
     "output_type": "stream",
     "text": [
      "(1, 2, 3, 1, 2, 3, 1, 2, 3)\n"
     ]
    }
   ],
   "source": [
    "tuple1=(1,2,3)\n",
    "print(tuple1*3)"
   ]
  },
  {
   "cell_type": "code",
   "execution_count": 68,
   "id": "5b47ced4-2a54-4a03-95d6-8e5a3fdfca8f",
   "metadata": {},
   "outputs": [
    {
     "name": "stdout",
     "output_type": "stream",
     "text": [
      "('sushma', 'harsha', 'sushma', 'harsha', 'sushma', 'harsha', 'sushma', 'harsha')\n"
     ]
    }
   ],
   "source": [
    "tuple2=(\"sushma\",\"harsha\")\n",
    "print(tuple2*4)"
   ]
  },
  {
   "cell_type": "code",
   "execution_count": 70,
   "id": "10aef61f-128b-4498-b29a-197b53c86180",
   "metadata": {},
   "outputs": [
    {
     "name": "stdout",
     "output_type": "stream",
     "text": [
      "(9, 10, 11, 12, 9, 10, 11, 12, 9, 10, 11, 12, 9, 10, 11, 12, 9, 10, 11, 12)\n"
     ]
    }
   ],
   "source": [
    "tuple2=(9,10,11,12)\n",
    "print(tuple2*5)"
   ]
  },
  {
   "cell_type": "code",
   "execution_count": 72,
   "id": "dd9fcb2b-b0a7-47ac-922f-699f259a9a5e",
   "metadata": {},
   "outputs": [
    {
     "name": "stdout",
     "output_type": "stream",
     "text": [
      "('sushma', 'harsha', 'Nirmala', 'sushma', 'harsha', 'Nirmala', 'sushma', 'harsha', 'Nirmala', 'sushma', 'harsha', 'Nirmala')\n"
     ]
    }
   ],
   "source": [
    "tuple2=(\"sushma\",\"harsha\",\"Nirmala\")\n",
    "print(tuple2*4)"
   ]
  },
  {
   "cell_type": "code",
   "execution_count": 76,
   "id": "c54bd7fe-4763-431e-8a35-371cfa7adcb8",
   "metadata": {},
   "outputs": [
    {
     "name": "stdout",
     "output_type": "stream",
     "text": [
      "(9, 10, 11, 12, 9, 10, 11, 12, 9, 10, 11, 12, 9, 10, 11, 12)\n"
     ]
    }
   ],
   "source": [
    "tuple2=(9,10,11,12)\n",
    "result=tuple2*4\n",
    "print(result)"
   ]
  },
  {
   "cell_type": "markdown",
   "id": "06874cbb-fc95-409a-a781-b989c96cc61b",
   "metadata": {},
   "source": [
    "# Methods"
   ]
  },
  {
   "cell_type": "markdown",
   "id": "bb62181d-f5e1-4e01-867b-64ab0824c1af",
   "metadata": {},
   "source": [
    "1.count():"
   ]
  },
  {
   "cell_type": "markdown",
   "id": "a538e718-e67e-48e2-87ff-295598a27af4",
   "metadata": {},
   "source": [
    "- returns the number of occurences of specified value"
   ]
  },
  {
   "cell_type": "code",
   "execution_count": 82,
   "id": "e1551711-d9d1-4331-94d1-1c86cac0a0f8",
   "metadata": {},
   "outputs": [
    {
     "name": "stdout",
     "output_type": "stream",
     "text": [
      "2\n"
     ]
    }
   ],
   "source": [
    "t = (1, 2, 2, 3)\n",
    "print(t.count(2))  "
   ]
  },
  {
   "cell_type": "code",
   "execution_count": 84,
   "id": "c484c011-a42f-460b-ad48-a2d64f1f9de5",
   "metadata": {},
   "outputs": [
    {
     "name": "stdout",
     "output_type": "stream",
     "text": [
      "2\n"
     ]
    }
   ],
   "source": [
    "t = (1, 2, 2, 3,5,4,1,8,6)\n",
    "print(t.count(1)) "
   ]
  },
  {
   "cell_type": "code",
   "execution_count": 86,
   "id": "d9cff8a8-8510-4999-9895-305705913ffa",
   "metadata": {},
   "outputs": [
    {
     "name": "stdout",
     "output_type": "stream",
     "text": [
      "2\n"
     ]
    }
   ],
   "source": [
    "fruits = ('apple', 'banana', 'orange', 'apple', 'kiwi')\n",
    "print(fruits.count('apple')) "
   ]
  },
  {
   "cell_type": "code",
   "execution_count": 88,
   "id": "9d588c20-586f-45a1-bb8a-9f01f6108c0f",
   "metadata": {},
   "outputs": [
    {
     "name": "stdout",
     "output_type": "stream",
     "text": [
      "3\n"
     ]
    }
   ],
   "source": [
    "numbers = (1, 2, 3, 1, 4, 1)\n",
    "print(numbers.count(1))"
   ]
  },
  {
   "cell_type": "code",
   "execution_count": 90,
   "id": "3e6f6f9d-5def-4077-8fa9-c13dbe5811f5",
   "metadata": {},
   "outputs": [
    {
     "name": "stdout",
     "output_type": "stream",
     "text": [
      "0\n"
     ]
    }
   ],
   "source": [
    "fruits = ('apple', 'banana', 'orange', 'apple', 'kiwi')\n",
    "print(fruits.count('grape'))"
   ]
  },
  {
   "cell_type": "code",
   "execution_count": 94,
   "id": "6a722686-8acf-4906-9bb4-826556b7c0bf",
   "metadata": {},
   "outputs": [
    {
     "name": "stdout",
     "output_type": "stream",
     "text": [
      "3\n",
      "1\n"
     ]
    }
   ],
   "source": [
    "numbers = (1, 2, 3, 1, 4, 1)\n",
    "print(numbers.count(1))  \n",
    "print(numbers.count(3))"
   ]
  },
  {
   "cell_type": "markdown",
   "id": "fa2e4547-1639-470a-9ab6-002000d4ae95",
   "metadata": {},
   "source": [
    "2. index():"
   ]
  },
  {
   "cell_type": "markdown",
   "id": "c6d9c0b8-217e-46c1-a1e9-511591dceeca",
   "metadata": {},
   "source": [
    "- return the index of the first occurence of specified value "
   ]
  },
  {
   "cell_type": "code",
   "execution_count": 101,
   "id": "e9c342ef-a24b-4213-9119-5c20321a986c",
   "metadata": {},
   "outputs": [
    {
     "name": "stdout",
     "output_type": "stream",
     "text": [
      "1\n"
     ]
    }
   ],
   "source": [
    "colors = ('red', 'blue', 'green', 'blue')\n",
    "print(colors.index('blue'))"
   ]
  },
  {
   "cell_type": "code",
   "execution_count": 103,
   "id": "cd815846-c67f-486e-9816-645ee3d62f58",
   "metadata": {},
   "outputs": [
    {
     "name": "stdout",
     "output_type": "stream",
     "text": [
      "1\n"
     ]
    }
   ],
   "source": [
    "t = (1, 2, 3)\n",
    "print(t.index(2)) "
   ]
  },
  {
   "cell_type": "code",
   "execution_count": 105,
   "id": "35de7d58-23e4-467c-b372-2bad42a4e9fc",
   "metadata": {},
   "outputs": [
    {
     "name": "stdout",
     "output_type": "stream",
     "text": [
      "2\n"
     ]
    }
   ],
   "source": [
    "numbers = (10, 20, 30, 40, 50)\n",
    "index_of_30 = numbers.index(30)\n",
    "print(index_of_30) "
   ]
  },
  {
   "cell_type": "code",
   "execution_count": 107,
   "id": "fec636f4-36f1-458b-beb5-ec3bd2f33267",
   "metadata": {},
   "outputs": [
    {
     "name": "stdout",
     "output_type": "stream",
     "text": [
      "0\n"
     ]
    }
   ],
   "source": [
    "fruits = ('apple', 'banana', 'apple', 'orange')\n",
    "index_of_apple = fruits.index('apple')\n",
    "print(index_of_apple)"
   ]
  },
  {
   "cell_type": "code",
   "execution_count": 109,
   "id": "6966a1fe-d33b-41b5-927e-9d527393a99d",
   "metadata": {},
   "outputs": [
    {
     "name": "stdout",
     "output_type": "stream",
     "text": [
      "2\n"
     ]
    }
   ],
   "source": [
    "index_of_second_apple = fruits.index('apple', 1) \n",
    "print(index_of_second_apple)"
   ]
  },
  {
   "cell_type": "code",
   "execution_count": null,
   "id": "ae7040a5-1e10-43c2-be2a-f12c55131915",
   "metadata": {},
   "outputs": [],
   "source": []
  }
 ],
 "metadata": {
  "kernelspec": {
   "display_name": "Python 3 (ipykernel)",
   "language": "python",
   "name": "python3"
  },
  "language_info": {
   "codemirror_mode": {
    "name": "ipython",
    "version": 3
   },
   "file_extension": ".py",
   "mimetype": "text/x-python",
   "name": "python",
   "nbconvert_exporter": "python",
   "pygments_lexer": "ipython3",
   "version": "3.12.4"
  }
 },
 "nbformat": 4,
 "nbformat_minor": 5
}
