{
 "cells": [
  {
   "cell_type": "markdown",
   "id": "c31802b0-2518-406b-b369-d6c572e85f7c",
   "metadata": {},
   "source": [
    "# control statements"
   ]
  },
  {
   "cell_type": "markdown",
   "id": "d121adaa-b63b-4c9f-a8d9-a5d296090411",
   "metadata": {},
   "source": [
    "- used to control the block of code \n",
    "- there are three types of control stattements \n",
    "- pass,continue,break"
   ]
  },
  {
   "cell_type": "markdown",
   "id": "a84520aa-1d97-4339-8e1f-13ace676e256",
   "metadata": {},
   "source": [
    "- pass: will pass that particular step"
   ]
  },
  {
   "cell_type": "code",
   "execution_count": 12,
   "id": "b0cc090d-ac92-4c42-b792-1a241b1f9507",
   "metadata": {},
   "outputs": [
    {
     "name": "stdout",
     "output_type": "stream",
     "text": [
      "You are an adult.\n"
     ]
    }
   ],
   "source": [
    "age = 18\n",
    "\n",
    "if age < 18:\n",
    "    pass \n",
    "else:\n",
    "    print(\"You are an adult.\")\n"
   ]
  },
  {
   "cell_type": "markdown",
   "id": "3c2f45b5-1a0a-42c7-b78c-1e9f67c9e70c",
   "metadata": {},
   "source": [
    "- continue:  will pass that particular step"
   ]
  },
  {
   "cell_type": "code",
   "execution_count": 19,
   "id": "fd86b6de-ff04-463d-bfbe-d657c96dd264",
   "metadata": {},
   "outputs": [
    {
     "name": "stdout",
     "output_type": "stream",
     "text": [
      "1\n",
      "3\n",
      "5\n",
      "7\n",
      "9\n"
     ]
    }
   ],
   "source": [
    "for number in range(10):\n",
    "    if number % 2 == 0:\n",
    "        continue  \n",
    "    print(number) \n"
   ]
  },
  {
   "cell_type": "code",
   "execution_count": 27,
   "id": "8698dcb7-e5e5-4a15-b0d1-b8e2393a4dd3",
   "metadata": {},
   "outputs": [
    {
     "name": "stdout",
     "output_type": "stream",
     "text": [
      "1\n",
      "3\n",
      "5\n",
      "7\n",
      "9\n"
     ]
    }
   ],
   "source": [
    "for number in range(10):\n",
    "    if number % 2 == 0:\n",
    "        continue  \n",
    "    print(number)\n"
   ]
  },
  {
   "cell_type": "markdown",
   "id": "305807dd-35c2-403f-a345-ef3cad1fff72",
   "metadata": {},
   "source": [
    "- break: used to exit the loop"
   ]
  },
  {
   "cell_type": "code",
   "execution_count": 30,
   "id": "c4f1a612-5b39-4bc2-a210-166432601546",
   "metadata": {},
   "outputs": [
    {
     "name": "stdout",
     "output_type": "stream",
     "text": [
      "0\n",
      "1\n",
      "2\n",
      "3\n",
      "4\n"
     ]
    }
   ],
   "source": [
    "for number in range(10):\n",
    "    if number == 5:\n",
    "        break  \n",
    "    print(number)  \n"
   ]
  },
  {
   "cell_type": "code",
   "execution_count": null,
   "id": "69f12bdb-ca10-484a-bd50-911365ff9052",
   "metadata": {},
   "outputs": [],
   "source": []
  }
 ],
 "metadata": {
  "kernelspec": {
   "display_name": "Python 3 (ipykernel)",
   "language": "python",
   "name": "python3"
  },
  "language_info": {
   "codemirror_mode": {
    "name": "ipython",
    "version": 3
   },
   "file_extension": ".py",
   "mimetype": "text/x-python",
   "name": "python",
   "nbconvert_exporter": "python",
   "pygments_lexer": "ipython3",
   "version": "3.12.4"
  }
 },
 "nbformat": 4,
 "nbformat_minor": 5
}
