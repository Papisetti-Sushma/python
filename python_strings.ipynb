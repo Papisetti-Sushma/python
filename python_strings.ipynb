{
 "cells": [
  {
   "cell_type": "markdown",
   "id": "db18e2d9-77c2-4c4b-8c1b-8ce9fc4aaf0d",
   "metadata": {},
   "source": [
    "# 1) define about strings\n",
    "\n",
    "- string is a sequence of characters\r",
    "- \n",
    "we can use single quotes(' '),double quotes(\" \")or triple quotes(''' ''')- \r\n",
    "we can manipulate the variables by using various operations and string method- s\r\n",
    "the string classbcan be represented by \"str\""
   ]
  },
  {
   "cell_type": "markdown",
   "id": "bdb6e8f6-e545-4204-8e8a-747647e9917e",
   "metadata": {},
   "source": [
    "# 2) create 10 elements using ' ' and \" \"\n"
   ]
  },
  {
   "cell_type": "code",
   "execution_count": 9,
   "id": "feac62e4-e599-4c15-b380-56985c967a45",
   "metadata": {},
   "outputs": [
    {
     "name": "stdout",
     "output_type": "stream",
     "text": [
      "apple\n",
      "monkey\n",
      "thala\n",
      "100\n",
      "harsha\n",
      "this is a string\n",
      "hello world\n",
      "sathyabama\n",
      "1 2 3\n",
      "data science data science data science \n",
      "datascience datascience datascience \n"
     ]
    }
   ],
   "source": [
    "z='apple'\n",
    "print(z)\n",
    "\n",
    "c='monkey'\n",
    "print(c)\n",
    "\n",
    "a='thala'\n",
    "print(a)\n",
    "\n",
    "ab='100'\n",
    "print(ab)\n",
    "\n",
    "c=\"harsha\"\n",
    "b=a*7\n",
    "print(c)\n",
    "\n",
    "str1='sushma'\n",
    "str3= \"\"\"this is a string\"\"\"\n",
    "print(str3)\n",
    "\n",
    "str1=\"hello world\"\n",
    "print(str1)\n",
    "\n",
    "str1=\"sathyabama\"\n",
    "print(str1)\n",
    "\n",
    "str1=\"1 2 3\"\n",
    "print(str1)\n",
    "\n",
    "teks=\"data science \"\n",
    "print(teks *3)\n",
    "\n",
    "teks=\"datascience \"\n",
    "print(teks *3)"
   ]
  },
  {
   "cell_type": "markdown",
   "id": "f96cf485-44ff-4e67-8ea3-c02ccf807382",
   "metadata": {},
   "source": [
    "# 3) create a string 50 characters and access any 10 using index and slicing any 2 examples"
   ]
  },
  {
   "cell_type": "code",
   "execution_count": 17,
   "id": "f45aa7a1-81b8-42d7-b88b-a1cfcf0156db",
   "metadata": {},
   "outputs": [
    {
     "name": "stdout",
     "output_type": "stream",
     "text": [
      "i\n",
      "i\n",
      "29\n",
      " \n",
      " \n",
      "H\n",
      "o\n",
      "j\n",
      "s\n",
      " \n",
      "s\n",
      "a\n",
      "m\n",
      "a\n"
     ]
    }
   ],
   "source": [
    "str=\"Hi sushma here from vijaywada\"\n",
    "print(str[1])\n",
    "print(str[1])\n",
    "print(len(str))\n",
    "print(str[9])\n",
    "print(str[2])\n",
    "print(str[0])\n",
    "print(str[17])\n",
    "print(str[-7])\n",
    "print(str[5])\n",
    "print(str[2])\n",
    "print(str[3])\n",
    "print(str[-3])\n",
    "print(str[7])\n",
    "print(str[-1])"
   ]
  },
  {
   "cell_type": "code",
   "execution_count": 29,
   "id": "cb1e74ff-2597-4370-abf3-f233270fa48d",
   "metadata": {},
   "outputs": [
    {
     "name": "stdout",
     "output_type": "stream",
     "text": [
      "i\n",
      "i\n",
      "25\n",
      "e\n",
      "s\n",
      "H\n",
      "i\n",
      "j\n",
      "h\n",
      "s\n",
      "u\n",
      "a\n",
      "a\n",
      "a\n",
      "sushmaherefrom\n",
      "aherefromvij\n"
     ]
    }
   ],
   "source": [
    "str=\"Hisushmaherefromvijaywada\"\n",
    "print(str[1])\n",
    "print(str[1])\n",
    "print(len(str))\n",
    "print(str[9])\n",
    "print(str[2])\n",
    "print(str[0])\n",
    "print(str[17])\n",
    "print(str[-7])\n",
    "print(str[5])\n",
    "print(str[2])\n",
    "print(str[3])\n",
    "print(str[-3])\n",
    "print(str[7])\n",
    "print(str[-1])\n",
    "\n",
    "print(str[2:16])\n",
    "print(str[7:-6])"
   ]
  },
  {
   "cell_type": "markdown",
   "id": "7fd24638-b408-407c-ba0e-efbfb0700710",
   "metadata": {},
   "source": [
    "# 4) explain about string formats\n",
    "\n",
    "-string formats are classified into three types:\n",
    "\r",
    "  1.\n",
    "old style  2.\r\n",
    "format styl  3.e\r\n",
    "f string meterator"
   ]
  },
  {
   "cell_type": "markdown",
   "id": "a59cb824-fe44-421e-a3a4-0278160d2fa0",
   "metadata": {},
   "source": [
    "1).old style format:\n",
    "\n",
    "- it uses the % operator"
   ]
  },
  {
   "cell_type": "code",
   "execution_count": 31,
   "id": "37fb427d-cfeb-4528-b4ab-fb96b444a438",
   "metadata": {},
   "outputs": [
    {
     "name": "stdout",
     "output_type": "stream",
     "text": [
      "my name is sushma and i'm 20 years old\n"
     ]
    }
   ],
   "source": [
    "name=\"sushma\"\n",
    "age=20\n",
    "str=\"my name is %s and i'm %d years old\"%(name,age)\n",
    "print(str)"
   ]
  },
  {
   "cell_type": "markdown",
   "id": "ebc23509-0f5b-4aaa-bf7f-85e14dc53de2",
   "metadata": {},
   "source": [
    "2.format style :\n",
    "\n",
    "- it uses the {} operator\n"
   ]
  },
  {
   "cell_type": "code",
   "execution_count": 37,
   "id": "c06cba70-f07c-4d6d-9b86-72c15869951d",
   "metadata": {},
   "outputs": [
    {
     "name": "stdout",
     "output_type": "stream",
     "text": [
      "my name is sushma and i'm 20 years old\n"
     ]
    }
   ],
   "source": [
    "name=\"sushma\"\n",
    "age=20\n",
    "formated_str=\"my name is {} and i'm {} years old\".format(name,age)\n",
    "print(formated_str)"
   ]
  },
  {
   "cell_type": "markdown",
   "id": "7372448f-1ea1-44c4-8828-16dd50198cea",
   "metadata": {},
   "source": [
    "3.f-string method:\n",
    "\n",
    "to simplify string formatting and interpolation\n",
    "f-string is used where expressions inside curly braces {} are evaluted"
   ]
  },
  {
   "cell_type": "code",
   "execution_count": 39,
   "id": "4ce618f3-f229-415f-85aa-1fce4ed873be",
   "metadata": {},
   "outputs": [
    {
     "name": "stdout",
     "output_type": "stream",
     "text": [
      "my name is sushma and i'm 20 years old.\n"
     ]
    }
   ],
   "source": [
    "name=\"sushma\"\n",
    "age=20\n",
    "str=f\"my name is {name} and i'm {age} years old.\"\n",
    "print(str)\n"
   ]
  },
  {
   "cell_type": "markdown",
   "id": "ecdce7f8-3f87-4afe-bdd7-bb23dbe1d1d5",
   "metadata": {},
   "source": [
    "# 5) apply operations"
   ]
  },
  {
   "cell_type": "markdown",
   "id": "5fd23993-dcc4-43f7-94af-0c730da6591c",
   "metadata": {},
   "source": [
    "1.concatnation:\n",
    "\n",
    "- adding of things"
   ]
  },
  {
   "cell_type": "code",
   "execution_count": 41,
   "id": "57b7a96c-48ed-4464-83d0-284fd8619e69",
   "metadata": {},
   "outputs": [
    {
     "name": "stdout",
     "output_type": "stream",
     "text": [
      "my name is sushma\n"
     ]
    }
   ],
   "source": [
    "a=\"my name is\"\n",
    "b=\"sushma\"\n",
    "c=a+' '+b\n",
    "print(c)"
   ]
  },
  {
   "cell_type": "markdown",
   "id": "9c027541-d005-49c5-a9fe-bac29c6a0dc5",
   "metadata": {},
   "source": [
    "2.repetition:\n",
    "\n",
    "- repeat values of a string"
   ]
  },
  {
   "cell_type": "code",
   "execution_count": 45,
   "id": "ae456140-b8c3-41dd-b5cb-008131386f6f",
   "metadata": {},
   "outputs": [
    {
     "name": "stdout",
     "output_type": "stream",
     "text": [
      "vijaywada vijaywada vijaywada vijaywada \n"
     ]
    }
   ],
   "source": [
    "str1=\"vijaywada \"\n",
    "str2=str1*4\n",
    "print(str2)"
   ]
  },
  {
   "cell_type": "markdown",
   "id": "111df917-1c4c-42fe-9c17-3fd40bae7ead",
   "metadata": {},
   "source": [
    "3.slicing:\n",
    "\n",
    "- slicing is a process of extracting a substring from a string"
   ]
  },
  {
   "cell_type": "code",
   "execution_count": 85,
   "id": "79e57ff8-d9fd-4944-9ae1-0f080ef5bcd9",
   "metadata": {},
   "outputs": [
    {
     "name": "stdout",
     "output_type": "stream",
     "text": [
      "m\n",
      "a\n"
     ]
    }
   ],
   "source": [
    "str1=\"my name is sushma\"\n",
    "print(str[0])\n",
    "print(str[12])"
   ]
  },
  {
   "cell_type": "markdown",
   "id": "97aa5d79-8bd5-4ecc-83df-e6ab434bc81c",
   "metadata": {},
   "source": [
    "4.indexing:\n",
    "\n",
    "-accessing individual character in a string"
   ]
  },
  {
   "cell_type": "code",
   "execution_count": 59,
   "id": "9c3f4ca1-d82b-4092-8336-56f99961bce2",
   "metadata": {},
   "outputs": [
    {
     "name": "stdout",
     "output_type": "stream",
     "text": [
      "is sushma and i'm 20 \n",
      " nam\n"
     ]
    }
   ],
   "source": [
    "str1=\"im from vijaywada \"\n",
    "print(str[8:-10])\n",
    "print(str[2:6])"
   ]
  },
  {
   "cell_type": "markdown",
   "id": "ab8ba716-53a4-421a-9c63-d281d609ef32",
   "metadata": {},
   "source": [
    "# Remaining methods:"
   ]
  },
  {
   "cell_type": "markdown",
   "id": "f3acf098-9029-4596-a441-f94f95401be8",
   "metadata": {},
   "source": [
    "1.len(): \n",
    "-counts the characters in a string"
   ]
  },
  {
   "cell_type": "code",
   "execution_count": 61,
   "id": "ba8dc747-6785-4ad4-9ab2-bf6899ecc888",
   "metadata": {},
   "outputs": [
    {
     "name": "stdout",
     "output_type": "stream",
     "text": [
      "8\n"
     ]
    }
   ],
   "source": [
    "my_string=\"hi world\"\n",
    "print(len(my_string))"
   ]
  },
  {
   "cell_type": "markdown",
   "id": "94c728a6-9436-487d-a80d-35a8d56fa50c",
   "metadata": {},
   "source": [
    "2.lower()/upper():\n",
    "-converts entire data into lower/upper"
   ]
  },
  {
   "cell_type": "code",
   "execution_count": 63,
   "id": "a24da29e-941b-4f74-a535-680e08aca4ec",
   "metadata": {},
   "outputs": [
    {
     "name": "stdout",
     "output_type": "stream",
     "text": [
      "HELLO\n"
     ]
    }
   ],
   "source": [
    "my_string=\"hello\"\n",
    "print(my_string.upper())"
   ]
  },
  {
   "cell_type": "code",
   "execution_count": 65,
   "id": "5ce8a0df-678f-4472-be18-59f957aee4b8",
   "metadata": {},
   "outputs": [
    {
     "name": "stdout",
     "output_type": "stream",
     "text": [
      "hello\n"
     ]
    }
   ],
   "source": [
    "my_string=\"hello\"\n",
    "print(my_string.lower())"
   ]
  },
  {
   "cell_type": "markdown",
   "id": "bcd3158b-d4a1-4913-95e0-5dcfd53ed3e6",
   "metadata": {},
   "source": [
    "3.strip():\n",
    "-used to remove spaces beggining and ending"
   ]
  },
  {
   "cell_type": "code",
   "execution_count": 71,
   "id": "98bddcde-e21e-462d-8d08-85ee02249fdd",
   "metadata": {},
   "outputs": [
    {
     "name": "stdout",
     "output_type": "stream",
     "text": [
      "sushmaaa\n"
     ]
    }
   ],
   "source": [
    "my_string=\"  sushmaaa     \"\n",
    "stripped_string=my_string.strip()\n",
    "print(stripped_string)"
   ]
  },
  {
   "cell_type": "markdown",
   "id": "85258559-44d3-47e2-a68f-9fb1d2a84c3e",
   "metadata": {},
   "source": [
    "4.replace():\n",
    "-replace substring with another substring"
   ]
  },
  {
   "cell_type": "code",
   "execution_count": 75,
   "id": "06ab1caa-0b0f-4cbe-b289-c722c9d9e4d1",
   "metadata": {},
   "outputs": [
    {
     "name": "stdout",
     "output_type": "stream",
     "text": [
      "my name is sathyabama\n"
     ]
    }
   ],
   "source": [
    "my_string=\"my name is sushma\"\n",
    "str=my_string.replace(\"sushma\",\"sathyabama\")\n",
    "print(str)"
   ]
  },
  {
   "cell_type": "markdown",
   "id": "241aeeb4-06fe-44e1-a0d0-3e749d0af25f",
   "metadata": {},
   "source": [
    "5.split: \n",
    "-splits the one string into substring"
   ]
  },
  {
   "cell_type": "code",
   "execution_count": 97,
   "id": "de403c64-37c4-4db1-8e1b-767d0292382b",
   "metadata": {},
   "outputs": [
    {
     "name": "stdout",
     "output_type": "stream",
     "text": [
      "['my', 'name', 'is', 'sushma']\n"
     ]
    }
   ],
   "source": [
    "str=\"my name is sushma\"\n",
    "str1=(str.split())\n",
    "print(str1)"
   ]
  },
  {
   "cell_type": "markdown",
   "id": "7d36abc7-de1d-4266-8db5-6827e3cb769e",
   "metadata": {},
   "source": [
    "6.join: it joins the substring all into one string"
   ]
  },
  {
   "cell_type": "code",
   "execution_count": 104,
   "id": "16bc1e9e-f588-49e3-8e63-a17c0d45c911",
   "metadata": {},
   "outputs": [
    {
     "name": "stdout",
     "output_type": "stream",
     "text": [
      "sushma pavan srinu vaishu\n"
     ]
    }
   ],
   "source": [
    "name=['sushma','pavan','srinu','vaishu']\n",
    "print(\" \".join(name))"
   ]
  },
  {
   "cell_type": "markdown",
   "id": "eed22462-34ec-4e5e-807c-06a3ce3116c0",
   "metadata": {},
   "source": [
    "7.capitalize: it converts the first character to upper case"
   ]
  },
  {
   "cell_type": "code",
   "execution_count": 107,
   "id": "84b05fec-73f4-4e96-a4d9-41dd379cbb89",
   "metadata": {},
   "outputs": [
    {
     "name": "stdout",
     "output_type": "stream",
     "text": [
      "Sushma\n"
     ]
    }
   ],
   "source": [
    "r=\"sushma\"\n",
    "print(r.capitalize())"
   ]
  },
  {
   "cell_type": "markdown",
   "id": "65f47caa-bc21-4a58-8e50-91e6b3b7ddf4",
   "metadata": {},
   "source": [
    "8.casefold: it returns the string into lower case"
   ]
  },
  {
   "cell_type": "code",
   "execution_count": 110,
   "id": "64e55708-5e9e-4aad-83a8-48e6aa81084d",
   "metadata": {},
   "outputs": [
    {
     "name": "stdout",
     "output_type": "stream",
     "text": [
      "sushma\n"
     ]
    }
   ],
   "source": [
    "name=\"SuShMA\"\n",
    "print(name.casefold())"
   ]
  },
  {
   "cell_type": "markdown",
   "id": "cfe9eb80-6018-4fc5-9b5a-1a539bc1b05b",
   "metadata": {},
   "source": [
    "9.center: it returns the centered string"
   ]
  },
  {
   "cell_type": "code",
   "execution_count": 117,
   "id": "cc5b9331-3b5a-40cd-9eb5-e40ca526ebb4",
   "metadata": {},
   "outputs": [
    {
     "name": "stdout",
     "output_type": "stream",
     "text": [
      "                                       hello world                                        \n"
     ]
    }
   ],
   "source": [
    "name=\"hello world\"\n",
    "print(name.center(90))"
   ]
  },
  {
   "cell_type": "markdown",
   "id": "ad692576-f939-47e2-a4da-0a1e1f786056",
   "metadata": {},
   "source": [
    "10.count: it represents the number of occurance of a string"
   ]
  },
  {
   "cell_type": "code",
   "execution_count": 126,
   "id": "09127c13-fd5f-446d-9267-61272a07d3e4",
   "metadata": {},
   "outputs": [
    {
     "name": "stdout",
     "output_type": "stream",
     "text": [
      "1\n"
     ]
    }
   ],
   "source": [
    "str=\"Teks is an academy \"\n",
    "print(str.count('an'))"
   ]
  },
  {
   "cell_type": "markdown",
   "id": "77a5d03b-31cd-45de-a46a-ab8940b3f1dd",
   "metadata": {},
   "source": [
    "11.find: it finds the string place and identifies it"
   ]
  },
  {
   "cell_type": "code",
   "execution_count": 129,
   "id": "c7a3e096-f8de-4e27-b421-45430c9cc98a",
   "metadata": {},
   "outputs": [
    {
     "name": "stdout",
     "output_type": "stream",
     "text": [
      "8\n"
     ]
    }
   ],
   "source": [
    "str=\"my name is sushma\"\n",
    "print(str.find('is'))"
   ]
  },
  {
   "cell_type": "markdown",
   "id": "d4c7075b-0449-483a-9e8e-3b093affe856",
   "metadata": {},
   "source": [
    "12.encode: it returnes the encoded version of the string"
   ]
  },
  {
   "cell_type": "code",
   "execution_count": 132,
   "id": "5e8c2371-e3b8-4f27-b220-6dd362a3edd4",
   "metadata": {},
   "outputs": [
    {
     "name": "stdout",
     "output_type": "stream",
     "text": [
      "b'hi'\n"
     ]
    }
   ],
   "source": [
    "name=\"hi\"\n",
    "end=name.encode()\n",
    "print(end)"
   ]
  },
  {
   "cell_type": "markdown",
   "id": "4db51004-54a6-4bc3-a895-a67da65a009d",
   "metadata": {},
   "source": [
    "13.endswith: it prints true if the string ends with the specified value"
   ]
  },
  {
   "cell_type": "code",
   "execution_count": 137,
   "id": "32063a37-b7f8-498c-a6c4-0d9a571cd2b9",
   "metadata": {},
   "outputs": [
    {
     "name": "stdout",
     "output_type": "stream",
     "text": [
      "True\n"
     ]
    }
   ],
   "source": [
    "name=\"datascience\"\n",
    "str=name.endswith('ce')\n",
    "print(str)"
   ]
  },
  {
   "cell_type": "markdown",
   "id": "16bf25a2-d954-4d93-b91f-2477b301322c",
   "metadata": {},
   "source": [
    "14.format: it formats the specific tabs in the string"
   ]
  },
  {
   "cell_type": "code",
   "execution_count": 140,
   "id": "507899b4-4e92-4145-b99f-a0af17e9b597",
   "metadata": {},
   "outputs": [
    {
     "name": "stdout",
     "output_type": "stream",
     "text": [
      "my name is sushma and i'm 20 years old\n"
     ]
    }
   ],
   "source": [
    "name=\"sushma\"\n",
    "age=20\n",
    "formated_string=\"my name is {} and i'm {} years old\" .format(name,age)\n",
    "print(formated_string)"
   ]
  },
  {
   "cell_type": "markdown",
   "id": "af67771c-e8c9-4c11-8bba-eb6532a671df",
   "metadata": {},
   "source": [
    "15.expandtabs: it sets the string tab size"
   ]
  },
  {
   "cell_type": "code",
   "execution_count": 145,
   "id": "506b2308-8aa4-4dd0-a681-3bd315109916",
   "metadata": {},
   "outputs": [
    {
     "name": "stdout",
     "output_type": "stream",
     "text": [
      "my,      name!   how are you?\n"
     ]
    }
   ],
   "source": [
    "text_with_tabs=\"my,\\t name!\\t how are you?\"\n",
    "str=text_with_tabs.expandtabs()\n",
    "print(str)"
   ]
  },
  {
   "cell_type": "markdown",
   "id": "0f029782-f58c-49c1-9dc4-f906e3fd2c71",
   "metadata": {},
   "source": [
    "16.index: it returns the position of the string and gives it index number"
   ]
  },
  {
   "cell_type": "code",
   "execution_count": 150,
   "id": "7348b796-d774-449e-b32c-e08da1251be2",
   "metadata": {},
   "outputs": [
    {
     "name": "stdout",
     "output_type": "stream",
     "text": [
      "5\n"
     ]
    }
   ],
   "source": [
    "name=\"sushmaa\"\n",
    "print(name.index('a'))"
   ]
  },
  {
   "cell_type": "markdown",
   "id": "eac45add-64f2-4a98-badf-1b27bb6110be",
   "metadata": {},
   "source": [
    "17.isalnum: it returns true if the string is alphanumeric"
   ]
  },
  {
   "cell_type": "code",
   "execution_count": 157,
   "id": "e53b219f-56c2-497a-a845-f35439abdbda",
   "metadata": {},
   "outputs": [
    {
     "name": "stdout",
     "output_type": "stream",
     "text": [
      "True\n"
     ]
    }
   ],
   "source": [
    "name=\"sushma0\"\n",
    "print(name.isalnum())\n"
   ]
  },
  {
   "cell_type": "markdown",
   "id": "893f06f3-b17f-4bb9-ae34-6960c902984a",
   "metadata": {},
   "source": [
    "18.isalpha: it returns true if all the characters in the string are alphabets"
   ]
  },
  {
   "cell_type": "code",
   "execution_count": 166,
   "id": "4b7fc09a-cca2-4f89-98be-79ab61674336",
   "metadata": {},
   "outputs": [
    {
     "name": "stdout",
     "output_type": "stream",
     "text": [
      "False\n"
     ]
    }
   ],
   "source": [
    "name=\"sushma0\"\n",
    "print(name.isalpha())"
   ]
  },
  {
   "cell_type": "markdown",
   "id": "df498be5-b192-47d0-a79c-636d84ef1b17",
   "metadata": {},
   "source": [
    "19.isascii: it returns true if all character in the string are ascii"
   ]
  },
  {
   "cell_type": "code",
   "execution_count": 171,
   "id": "820b5f5a-78a3-4660-ac79-ce975fcb9176",
   "metadata": {},
   "outputs": [
    {
     "name": "stdout",
     "output_type": "stream",
     "text": [
      "abcdefghijklmnopqrstuvwxyz\n"
     ]
    }
   ],
   "source": [
    "#example\n",
    "import string\n",
    "str=string.ascii_lowercase\n",
    "print(str)"
   ]
  },
  {
   "cell_type": "markdown",
   "id": "6fc5c09b-b431-439e-a502-8e993244ad55",
   "metadata": {},
   "source": [
    "20.isdecimal: it returns true if all character in the string are decimals"
   ]
  },
  {
   "cell_type": "code",
   "execution_count": 178,
   "id": "d1a43030-a4d8-44d6-a186-ad9ca2bc94b8",
   "metadata": {},
   "outputs": [
    {
     "name": "stdout",
     "output_type": "stream",
     "text": [
      "False\n"
     ]
    }
   ],
   "source": [
    "weight=\"61.5,99.6,5.0\"\n",
    "print(weight.isdecimal())"
   ]
  },
  {
   "cell_type": "markdown",
   "id": "a35df5ac-39c0-46a2-b854-748994170506",
   "metadata": {},
   "source": [
    "21.isdigit: it returns true if all character in a string are digits"
   ]
  },
  {
   "cell_type": "code",
   "execution_count": 183,
   "id": "4b515d33-a899-46b9-b630-98af1d60cf8f",
   "metadata": {},
   "outputs": [
    {
     "name": "stdout",
     "output_type": "stream",
     "text": [
      "True\n"
     ]
    }
   ],
   "source": [
    "number=\"0\"\n",
    "print(number.isdigit())"
   ]
  },
  {
   "cell_type": "markdown",
   "id": "6f7708df-e116-4ef6-ac6d-576534492465",
   "metadata": {},
   "source": [
    "22.isidentifier: it returns true if the string is an identifier and it cannot come true is they are numbers"
   ]
  },
  {
   "cell_type": "code",
   "execution_count": 188,
   "id": "ac6e8e6a-88fa-4bd8-809c-ea40e4f0693c",
   "metadata": {},
   "outputs": [
    {
     "name": "stdout",
     "output_type": "stream",
     "text": [
      "True\n"
     ]
    }
   ],
   "source": [
    "name=\"sushma_04\"\n",
    "print(name.isidentifier())"
   ]
  },
  {
   "cell_type": "markdown",
   "id": "31c76b30-5767-4545-8e8b-3702e241ef14",
   "metadata": {},
   "source": [
    "23.islower: it returns true if all characters in the string are lowercase"
   ]
  },
  {
   "cell_type": "code",
   "execution_count": 191,
   "id": "1413ea35-3674-49bd-99fa-faba8795775d",
   "metadata": {},
   "outputs": [
    {
     "name": "stdout",
     "output_type": "stream",
     "text": [
      "False\n"
     ]
    }
   ],
   "source": [
    "name=\"Akash\"\n",
    "print(name.islower())"
   ]
  },
  {
   "cell_type": "markdown",
   "id": "45ed54a7-2d44-4844-9afc-7c439cb6f0ca",
   "metadata": {},
   "source": [
    "24.isupper: it returns true if all character in the string are uppercase"
   ]
  },
  {
   "cell_type": "code",
   "execution_count": 194,
   "id": "acdc5c8f-ea66-44c1-8c7f-c581a6939704",
   "metadata": {},
   "outputs": [
    {
     "name": "stdout",
     "output_type": "stream",
     "text": [
      "False\n",
      "True\n"
     ]
    }
   ],
   "source": [
    "name=\"sushma\"\n",
    "print(name.isupper())\n",
    "\n",
    "name=\"SUSHMA\"\n",
    "print(name.isupper())\n"
   ]
  },
  {
   "cell_type": "markdown",
   "id": "bf814113-605d-4a43-b3a4-0f92773046b6",
   "metadata": {},
   "source": [
    "25.isnumeric: it returns true if all character in the string are numeric"
   ]
  },
  {
   "cell_type": "code",
   "execution_count": 197,
   "id": "b124f59f-d4e0-442b-a7b8-a732a8fc08a1",
   "metadata": {},
   "outputs": [
    {
     "name": "stdout",
     "output_type": "stream",
     "text": [
      "False\n",
      "True\n"
     ]
    }
   ],
   "source": [
    "age=\"66,77\"\n",
    "print(age.isnumeric())\n",
    "age=\"7\"\n",
    "print(age.isnumeric())"
   ]
  },
  {
   "cell_type": "markdown",
   "id": "e4b43d6b-4aea-4190-b08b-fefe9d5cc9c4",
   "metadata": {},
   "source": [
    "26.istitle: it returns true if the string is title cased"
   ]
  },
  {
   "cell_type": "code",
   "execution_count": 200,
   "id": "6bdbcd58-5201-4e5a-a1cc-9e6f7fb558fa",
   "metadata": {},
   "outputs": [
    {
     "name": "stdout",
     "output_type": "stream",
     "text": [
      "False\n"
     ]
    }
   ],
   "source": [
    "str=\"my name is sushma\"\n",
    "print(str.istitle())"
   ]
  },
  {
   "cell_type": "markdown",
   "id": "a49bd53f-efc5-49dd-a64c-9c1d3b28d672",
   "metadata": {},
   "source": [
    "27.isspace: it returns true if all characters in the string are whitespaces"
   ]
  },
  {
   "cell_type": "code",
   "execution_count": 207,
   "id": "5625231d-1f2a-493c-9709-7e286a2aedc7",
   "metadata": {},
   "outputs": [
    {
     "name": "stdout",
     "output_type": "stream",
     "text": [
      "False\n"
     ]
    }
   ],
   "source": [
    "name=\" sushma p \"\n",
    "print(name.isspace())"
   ]
  },
  {
   "cell_type": "markdown",
   "id": "a94c4bc3-446e-464c-8c68-c834db823d58",
   "metadata": {},
   "source": [
    "28.isprintable: it returns true if all character in the string are printable"
   ]
  },
  {
   "cell_type": "code",
   "execution_count": 210,
   "id": "315567ba-abb8-4407-b26a-3d093750a138",
   "metadata": {},
   "outputs": [
    {
     "name": "stdout",
     "output_type": "stream",
     "text": [
      "True\n"
     ]
    }
   ],
   "source": [
    "name=\"sushma\"\n",
    "print(name.isprintable())"
   ]
  },
  {
   "cell_type": "markdown",
   "id": "9041ce29-d193-41cd-add6-a09171cd7a14",
   "metadata": {},
   "source": [
    "29.lstrip: it returns a copy of tyhe string by removing starting whitespaces"
   ]
  },
  {
   "cell_type": "code",
   "execution_count": 213,
   "id": "05086739-a940-49e0-b17a-4821be63ada2",
   "metadata": {},
   "outputs": [
    {
     "name": "stdout",
     "output_type": "stream",
     "text": [
      "sushmaa   \n"
     ]
    }
   ],
   "source": [
    "str=\"sushmaa   \"\n",
    "print(str.lstrip())"
   ]
  },
  {
   "cell_type": "markdown",
   "id": "e5cd2878-528b-4469-b8cc-6200f20c6594",
   "metadata": {},
   "source": [
    "30.rstrip: it returns the string by removing the ending whitespaces"
   ]
  },
  {
   "cell_type": "code",
   "execution_count": 216,
   "id": "78b25d49-7ba0-4734-900a-798926f7de16",
   "metadata": {},
   "outputs": [
    {
     "name": "stdout",
     "output_type": "stream",
     "text": [
      "sushmaa\n"
     ]
    }
   ],
   "source": [
    "str=\"sushmaa\"\n",
    "print(str.rstrip())"
   ]
  },
  {
   "cell_type": "markdown",
   "id": "efdaa341-24d2-489b-b2fb-f0d153f65d31",
   "metadata": {},
   "source": [
    "31.splitlines: it will split the string and returns a list"
   ]
  },
  {
   "cell_type": "code",
   "execution_count": 219,
   "id": "4f4a6c6a-dd4b-40ea-8799-29e1fbe88817",
   "metadata": {},
   "outputs": [
    {
     "name": "stdout",
     "output_type": "stream",
     "text": [
      "['my', ' name', ' is', ' sushu']\n"
     ]
    }
   ],
   "source": [
    "str=\"my\\n name\\n is\\n sushu\\n\"\n",
    "c=str.splitlines()\n",
    "print(c)"
   ]
  },
  {
   "cell_type": "markdown",
   "id": "0072561d-5731-4034-b520-6a753aed4428",
   "metadata": {},
   "source": [
    "32.ljust: the string methods returns a new string of a given length after substituting a given character in rightside of original string"
   ]
  },
  {
   "cell_type": "code",
   "execution_count": 224,
   "id": "38b767df-adc6-4183-adfe-7f7936c34870",
   "metadata": {},
   "outputs": [
    {
     "name": "stdout",
     "output_type": "stream",
     "text": [
      "sushmaaa\n"
     ]
    }
   ],
   "source": [
    "str=\"sushmaaa\"\n",
    "length=5\n",
    "print(str.ljust(length))"
   ]
  },
  {
   "cell_type": "markdown",
   "id": "a58cd49c-f9dd-4435-afa8-efcea7aa04a4",
   "metadata": {},
   "source": [
    "33.rjust: thsi method returns a new string of a given length after substituting a given character in leftside of original strin"
   ]
  },
  {
   "cell_type": "code",
   "execution_count": 227,
   "id": "c969630e-86f6-45dc-9df3-4412d5b49249",
   "metadata": {},
   "outputs": [
    {
     "name": "stdout",
     "output_type": "stream",
     "text": [
      " sushma\n"
     ]
    }
   ],
   "source": [
    "str=\"sushma\"\n",
    "length=7\n",
    "print(str.rjust(length))"
   ]
  },
  {
   "cell_type": "markdown",
   "id": "e21e78cc-5b54-41b7-aa54-e3a91a7d2cf5",
   "metadata": {},
   "source": [
    "34.zfill: it returns a copy of the string with 0 characters padded to the left side of the given string"
   ]
  },
  {
   "cell_type": "code",
   "execution_count": 230,
   "id": "3bc742fa-f800-4aff-99d0-8bb63c8095b4",
   "metadata": {},
   "outputs": [
    {
     "name": "stdout",
     "output_type": "stream",
     "text": [
      "000000my name is sushma\n",
      "0000000000000my name is sushma\n",
      "00000000000000000000000my name is sushma\n"
     ]
    }
   ],
   "source": [
    "name=\"my name is sushma\"\n",
    "print(name.zfill(23))\n",
    "print(name.zfill(30))\n",
    "print(name.zfill(40))"
   ]
  },
  {
   "cell_type": "markdown",
   "id": "c33ba5e7-ed31-4dd6-8132-cb90fe117266",
   "metadata": {},
   "source": [
    "35.swapcase: converts all uppercase characters to lowercase and viceversa"
   ]
  },
  {
   "cell_type": "code",
   "execution_count": 233,
   "id": "87cb1b29-c028-47e6-9720-f7131a699754",
   "metadata": {},
   "outputs": [
    {
     "name": "stdout",
     "output_type": "stream",
     "text": [
      "sUshMA\n",
      "SUSHMAA\n",
      "SUSHMAA\n"
     ]
    }
   ],
   "source": [
    "str=\"SuSHma\"\n",
    "print(str.swapcase())\n",
    "\n",
    "str=\"sushmaa\"\n",
    "print(str.swapcase())\n",
    "\n",
    "ste=\"SUSHMA\"\n",
    "print(str.swapcase())"
   ]
  },
  {
   "cell_type": "markdown",
   "id": "22d6fe82-365a-43b5-9419-f1782a92887c",
   "metadata": {},
   "source": [
    "36.startswith: returns true if a string starts with the given prefix"
   ]
  },
  {
   "cell_type": "code",
   "execution_count": 236,
   "id": "0e42a6ee-7c3b-4544-96d7-cf8b76c2772e",
   "metadata": {},
   "outputs": [
    {
     "name": "stdout",
     "output_type": "stream",
     "text": [
      "True\n"
     ]
    }
   ],
   "source": [
    "str=\"sushma\"\n",
    "print(str.startswith(\"sushma\"))"
   ]
  },
  {
   "cell_type": "markdown",
   "id": "24b15397-16a0-47a4-8666-5db8324a7daa",
   "metadata": {},
   "source": [
    "37.rindex: returns the highest index of the substring inside the string"
   ]
  },
  {
   "cell_type": "code",
   "execution_count": 239,
   "id": "517e1b9c-1dc6-47a9-9da0-036d5d4d89ae",
   "metadata": {},
   "outputs": [
    {
     "name": "stdout",
     "output_type": "stream",
     "text": [
      "substring 'hi': 7\n"
     ]
    }
   ],
   "source": [
    "str='hi for sushma'\n",
    "name=str.rindex('sushma')\n",
    "print(\"substring 'hi':\",name)"
   ]
  },
  {
   "cell_type": "markdown",
   "id": "08470109-5d63-4983-bda3-d2c42eea30b1",
   "metadata": {},
   "source": [
    "38.rfind: returns the highest index of the substring"
   ]
  },
  {
   "cell_type": "code",
   "execution_count": 242,
   "id": "ed33a941-0736-4c8f-a44e-35c371f307d9",
   "metadata": {},
   "outputs": [
    {
     "name": "stdout",
     "output_type": "stream",
     "text": [
      "9\n"
     ]
    }
   ],
   "source": [
    "str=\"sushmaforsushma\"\n",
    "print(str.rfind(\"sushma\"))"
   ]
  },
  {
   "cell_type": "markdown",
   "id": "a0fdf475-a7b8-41ee-ae80-c77abd386e3e",
   "metadata": {},
   "source": [
    "39.format_map:formats specified values in a string using a dictionary"
   ]
  },
  {
   "cell_type": "code",
   "execution_count": null,
   "id": "503c8ae9-01c6-47a7-857c-7bc02511d92b",
   "metadata": {},
   "outputs": [],
   "source": [
    "a={'x':'sushma','y':'ram'}\n",
    "print(\"{x}'s last name is {y}\".format_map(a))"
   ]
  }
 ],
 "metadata": {
  "kernelspec": {
   "display_name": "Python 3 (ipykernel)",
   "language": "python",
   "name": "python3"
  },
  "language_info": {
   "codemirror_mode": {
    "name": "ipython",
    "version": 3
   },
   "file_extension": ".py",
   "mimetype": "text/x-python",
   "name": "python",
   "nbconvert_exporter": "python",
   "pygments_lexer": "ipython3",
   "version": "3.12.4"
  }
 },
 "nbformat": 4,
 "nbformat_minor": 5
}
