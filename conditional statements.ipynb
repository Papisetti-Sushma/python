{
 "cells": [
  {
   "cell_type": "markdown",
   "id": "7eb0ac39-12dc-4b2c-9972-acd07175d07f",
   "metadata": {},
   "source": [
    "# conditional statements"
   ]
  },
  {
   "cell_type": "markdown",
   "id": "462e6452-e12e-4549-bf39-c9158abd16dd",
   "metadata": {},
   "source": [
    "-  provide a choice for the control flow based on a condition.\n",
    "- It means that the control flow of the Python program will be decided based on the outcome of the condition\n",
    "- There are 3 conditional statements in python\n",
    "- they are : if,\n",
    "             elif,\n",
    "             else\n",
    "- ends with colon(:)\n"
   ]
  },
  {
   "cell_type": "markdown",
   "id": "6964e3aa-4910-4f53-bcc5-265fc9bcef8e",
   "metadata": {},
   "source": [
    "# if condition:"
   ]
  },
  {
   "cell_type": "markdown",
   "id": "0430f9de-6c91-4d47-8cdb-5adff5dd2682",
   "metadata": {},
   "source": [
    "- used when there is only one condition\n",
    "\n",
    "syntax : if condition :\n",
    "\n",
    "     print(\"    \")"
   ]
  },
  {
   "cell_type": "code",
   "execution_count": 20,
   "id": "bca4de97-8658-446b-bef0-3e867f2b42f2",
   "metadata": {},
   "outputs": [
    {
     "name": "stdout",
     "output_type": "stream",
     "text": [
      "true\n"
     ]
    }
   ],
   "source": [
    "num = 100\n",
    "if num == 100:  \n",
    "   print(\"true\")"
   ]
  },
  {
   "cell_type": "markdown",
   "id": "48c7c2a6-a100-4054-ab42-ac363013aa38",
   "metadata": {},
   "source": [
    "# else condition"
   ]
  },
  {
   "cell_type": "markdown",
   "id": "b08283bd-dfe3-4c54-a639-8167ff25f360",
   "metadata": {},
   "source": [
    "- used when there are two condition\n",
    "\n",
    "syntac : else:\n",
    "\n",
    "        print(\"\")"
   ]
  },
  {
   "cell_type": "code",
   "execution_count": 25,
   "id": "27f56f83-2a06-46f2-90d0-075cec8e6d22",
   "metadata": {},
   "outputs": [
    {
     "name": "stdout",
     "output_type": "stream",
     "text": [
      "false\n"
     ]
    }
   ],
   "source": [
    "num = 200\n",
    "if num <= 100:  \n",
    "   print(\"true\")\n",
    "else: \n",
    "    print(\"false\")"
   ]
  },
  {
   "cell_type": "markdown",
   "id": "beff59dc-db42-4000-bdaf-d3a2a6701d1f",
   "metadata": {},
   "source": [
    "# elif condition"
   ]
  },
  {
   "cell_type": "markdown",
   "id": "0662f2cb-570d-4e5d-a0d4-277b07ec31c4",
   "metadata": {},
   "source": [
    "used when there are 2 or more conditions\\\n",
    "\n",
    "syntac: elif condition:\n",
    "\n",
    "        print(\"\")"
   ]
  },
  {
   "cell_type": "code",
   "execution_count": 41,
   "id": "5beb7f5f-c407-402c-a4dd-f3c1e501ec9d",
   "metadata": {},
   "outputs": [
    {
     "name": "stdout",
     "output_type": "stream",
     "text": [
      "-12\n"
     ]
    }
   ],
   "source": [
    "num=-12\n",
    "if num>0:\n",
    "    print(\"true\")\n",
    "elif num==0:\n",
    "    print(\"false\")\n",
    "else:\n",
    "    print(num)"
   ]
  },
  {
   "cell_type": "markdown",
   "id": "29ffcd1c-f0f3-4695-8a66-b8720d47c283",
   "metadata": {},
   "source": [
    "# Q1 write a python program to check given year is leap or not "
   ]
  },
  {
   "cell_type": "code",
   "execution_count": 58,
   "id": "24cb6598-551b-443c-bc70-426c5b1918c2",
   "metadata": {},
   "outputs": [
    {
     "name": "stdin",
     "output_type": "stream",
     "text": [
      "enter the year 2004\n"
     ]
    },
    {
     "name": "stdout",
     "output_type": "stream",
     "text": [
      "yes\n"
     ]
    }
   ],
   "source": [
    "year =int(input(\"enter the year\"))\n",
    "\n",
    "if year % 4==0 :\n",
    "    print(\"yes\")\n",
    "else:\n",
    "    print(\"not\")"
   ]
  },
  {
   "cell_type": "markdown",
   "id": "00a39612-88e8-4b36-82ea-8f202e149b8e",
   "metadata": {},
   "source": [
    "# Q2 python program to find a given number even or odd"
   ]
  },
  {
   "cell_type": "code",
   "execution_count": 73,
   "id": "b8324d72-f4a6-48db-87e7-a97e595f195a",
   "metadata": {},
   "outputs": [
    {
     "name": "stdin",
     "output_type": "stream",
     "text": [
      "enter the year 4\n"
     ]
    },
    {
     "name": "stdout",
     "output_type": "stream",
     "text": [
      "yes\n"
     ]
    }
   ],
   "source": [
    "num =int(input(\"enter the year\"))\n",
    "\n",
    "if num % 2 == 0:\n",
    "    print(\"yes\")\n",
    "else:\n",
    "    print(\"not\")"
   ]
  },
  {
   "cell_type": "markdown",
   "id": "1c389dd2-b3eb-498d-87fe-dc25e46171de",
   "metadata": {},
   "source": [
    "# Q3 python program to check if a list is empty or not "
   ]
  },
  {
   "cell_type": "code",
   "execution_count": 84,
   "id": "026bbdb9-4239-4cb7-a2e1-5a8049aff9a7",
   "metadata": {},
   "outputs": [
    {
     "name": "stdout",
     "output_type": "stream",
     "text": [
      "empty\n"
     ]
    }
   ],
   "source": [
    "list=[]\n",
    "if not list:\n",
    "    print(\"empty\")\n",
    "else:\n",
    "    print(\"not empty\")"
   ]
  },
  {
   "cell_type": "markdown",
   "id": "6f15892c-0dc1-49ba-99ff-30cc94553bc2",
   "metadata": {},
   "source": [
    "# Q4 python program to calculate grade of a students"
   ]
  },
  {
   "cell_type": "code",
   "execution_count": 103,
   "id": "463afc28-d67d-4f57-a48d-24c53c849120",
   "metadata": {},
   "outputs": [
    {
     "name": "stdin",
     "output_type": "stream",
     "text": [
      "enter the grade: 45\n"
     ]
    },
    {
     "name": "stdout",
     "output_type": "stream",
     "text": [
      "Fail\n"
     ]
    }
   ],
   "source": [
    "marks=int(input(\"enter the grade:\"))\n",
    "if marks >= 90:\n",
    "          print(\"A\")\n",
    "elif marks >= 80:\n",
    "      print(\"B\")\n",
    "elif marks >= 70:\n",
    "     print(\"c\")\n",
    "elif marks >= 60:\n",
    "     print(\"d\")\n",
    "elif marks >= 50:\n",
    "     print(\"E\")\n",
    "else:\n",
    "     print(\"Fail\")"
   ]
  },
  {
   "cell_type": "markdown",
   "id": "ab880b62-1c1b-45eb-9908-9824681bd0bd",
   "metadata": {},
   "source": [
    "# task\n",
    "5.check whether given word is a palindrome or not\n",
    "\n",
    "6.write a python program to find the smallest among the three numbers\n",
    "\n",
    "7.find the second largest number in a list \n",
    "\n",
    "8.calculate Body Mass Index and categorize it.\n",
    "- under weight\n",
    "- nrml\n",
    "- over weight\n",
    "\n",
    "9.python program to check vote eligiblity\n",
    "  \n",
    "10.python program to find the person age  belong to which group\n",
    "  groups: school(less than 22),work(>22 and <50),retire(>50)"
   ]
  },
  {
   "cell_type": "markdown",
   "id": "6c237b4d-acb5-4eb7-83e1-8f51d193dfaf",
   "metadata": {},
   "source": [
    "# Q5.check whether given word is a palindrome or not\n"
   ]
  },
  {
   "cell_type": "code",
   "execution_count": 138,
   "id": "ec437461-78c7-4fba-9814-26d3485fe07d",
   "metadata": {},
   "outputs": [
    {
     "name": "stdin",
     "output_type": "stream",
     "text": [
      "Enter your word:  SUS\n"
     ]
    },
    {
     "name": "stdout",
     "output_type": "stream",
     "text": [
      "The word is a palindrome.\n"
     ]
    }
   ],
   "source": [
    "word = input(\"Enter your word: \")\n",
    "if word == word[::-1]:\n",
    "    print(\"The word is a palindrome.\")\n",
    "else:\n",
    "    print(\"The word is not a palindrome.\")"
   ]
  },
  {
   "cell_type": "markdown",
   "id": "682de454-f8cf-4ebc-9bf5-cb510e25638a",
   "metadata": {},
   "source": [
    "# Q6.write a python program to find the smallest among the three numbers"
   ]
  },
  {
   "cell_type": "code",
   "execution_count": 145,
   "id": "8aa128e5-f5d2-462f-87e5-a387dfbad016",
   "metadata": {},
   "outputs": [
    {
     "name": "stdin",
     "output_type": "stream",
     "text": [
      "enter 1st number:  21\n",
      "enter 2nd number:  45\n",
      "enter 3rd number:  10\n"
     ]
    },
    {
     "name": "stdout",
     "output_type": "stream",
     "text": [
      "10\n"
     ]
    }
   ],
   "source": [
    "a=int(input(\"enter 1st number: \"))\n",
    "b=int(input(\"enter 2nd number: \"))\n",
    "c=int(input(\"enter 3rd number: \"))\n",
    "\n",
    "if a<b and a<c:\n",
    "      print(a)\n",
    "elif b<c and b<a:\n",
    "      print(b)\n",
    "else:\n",
    "     print(c)0"
   ]
  },
  {
   "cell_type": "markdown",
   "id": "99d26104-607c-490a-9b51-7e01b93caf56",
   "metadata": {},
   "source": [
    "# Q7.find the second largest number in a list"
   ]
  },
  {
   "cell_type": "code",
   "execution_count": 29,
   "id": "c3bb99ec-2d66-41c2-ba12-e43d7ce98c7e",
   "metadata": {},
   "outputs": [
    {
     "name": "stdout",
     "output_type": "stream",
     "text": [
      "4\n"
     ]
    }
   ],
   "source": [
    "list = [1,2,3,4,5]  \n",
    "list.sort()  \n",
    "print(list[-2])  "
   ]
  },
  {
   "cell_type": "markdown",
   "id": "cd191e23-4d32-47ec-93c8-b54e0094f5ff",
   "metadata": {},
   "source": [
    "# Q8.calculate Body Mass Index and categorize it\n"
   ]
  },
  {
   "cell_type": "code",
   "execution_count": 185,
   "id": "de681066-c544-436c-a325-5507c0abd28f",
   "metadata": {},
   "outputs": [
    {
     "name": "stdin",
     "output_type": "stream",
     "text": [
      " 60\n",
      " 125.4\n"
     ]
    },
    {
     "name": "stdout",
     "output_type": "stream",
     "text": [
      "Underweight\n"
     ]
    }
   ],
   "source": [
    "weight = int(input());\n",
    "height = float(input());\n",
    "x = weight/float(height*height);\n",
    "if x < 18.5:\n",
    "    print('Underweight')\n",
    "if x>=18.5 and x<25:\n",
    "    print(\"Normal\")\n",
    "if x >= 25 and x < 30:\n",
    "   print('Overweight')\n",
    "if x >= 30:\n",
    "   print('Obesity')\n"
   ]
  },
  {
   "cell_type": "markdown",
   "id": "031c0d4a-9758-4e62-873a-4f6a02f7de57",
   "metadata": {},
   "source": [
    "# Q9.python program to check vote eligiblity"
   ]
  },
  {
   "cell_type": "code",
   "execution_count": 194,
   "id": "47642a79-4440-4363-975b-d7223897c45b",
   "metadata": {},
   "outputs": [
    {
     "name": "stdin",
     "output_type": "stream",
     "text": [
      "enter your age: 18\n"
     ]
    },
    {
     "name": "stdout",
     "output_type": "stream",
     "text": [
      "eligible\n"
     ]
    }
   ],
   "source": [
    "age=int(input(\"enter your age:\"))\n",
    "if age>=18 :\n",
    "    print(\"eligible\")\n",
    "else:\n",
    "    print(\"Not eligible\")"
   ]
  },
  {
   "cell_type": "markdown",
   "id": "ecfb7917-2209-4e18-8621-0c7cdc9ad334",
   "metadata": {},
   "source": [
    "# Q10.python program to find the person age  belong to which group"
   ]
  },
  {
   "cell_type": "code",
   "execution_count": 213,
   "id": "097c24e5-6fd4-486c-af96-db94aa3b9053",
   "metadata": {},
   "outputs": [
    {
     "name": "stdin",
     "output_type": "stream",
     "text": [
      "enter your age: 51\n"
     ]
    },
    {
     "name": "stdout",
     "output_type": "stream",
     "text": [
      "Retire group\n"
     ]
    }
   ],
   "source": [
    "age=int(input(\"enter your age:\"))\n",
    "if age <= 22:\n",
    "    print(\"School group\")\n",
    "elif age>22 and age<=50 :\n",
    "    print(\"Work group\")\n",
    "else:\n",
    "    print(\"Retire group\")"
   ]
  }
 ],
 "metadata": {
  "kernelspec": {
   "display_name": "Python 3 (ipykernel)",
   "language": "python",
   "name": "python3"
  },
  "language_info": {
   "codemirror_mode": {
    "name": "ipython",
    "version": 3
   },
   "file_extension": ".py",
   "mimetype": "text/x-python",
   "name": "python",
   "nbconvert_exporter": "python",
   "pygments_lexer": "ipython3",
   "version": "3.12.4"
  }
 },
 "nbformat": 4,
 "nbformat_minor": 5
}
