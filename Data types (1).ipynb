{
 "cells": [
  {
   "cell_type": "markdown",
   "id": "f63a343d-0799-4f91-a937-de2bb4e0ad1b",
   "metadata": {},
   "source": [
    "# 1) Explain about data types?\n",
    "\n",
    "- data type refers to the type of value the variable stores.\n",
    "- There are two types of data types :\n",
    "  1. primitive data type\n",
    "  2. non - primitive data type"
   ]
  },
  {
   "cell_type": "markdown",
   "id": "485ba89e-3c3f-4196-84bf-ba79d82f1ec1",
   "metadata": {},
   "source": [
    "# 2) Explain different types of Data types?\n",
    "\n",
    "1. Primitive data type :\n",
    "\n",
    "   - Primitive data structure is a fundamental type of data structure that stores the data of only one type\n",
    "   - There are 4 types of data types ( int, float, complex, boolean)\n",
    "   - Int :\n",
    "      - Represents whole numbers without any decimal points\n",
    "      - Examples: -3, 0, 42\n",
    "        \n",
    "   - Float :\n",
    "     - Represents real numbers with decimal points\n",
    "     - examples: 3.14, -0.001, 2.0\n",
    "       \n",
    "   - Complex :\n",
    "      -  Represents complex numbers, which have a real part and an imaginary part.\n",
    "      -  examples: 4+7j , 0j , 3452+65j\n",
    "    \n",
    "2. Non primitive data type :\n",
    "\n",
    "   - They can store multiple values and provide more functionality\n",
    "   - There are 5 types ( list,strings,tuples,dictonary ,set)\n"
   ]
  },
  {
   "cell_type": "code",
   "execution_count": null,
   "id": "20335bd9-f97e-4b95-b062-a596032b3160",
   "metadata": {},
   "outputs": [],
   "source": [
    "a=1"
   ]
  },
  {
   "cell_type": "code",
   "execution_count": 2,
   "id": "5f746245-1c54-484b-9f32-afca862de426",
   "metadata": {},
   "outputs": [],
   "source": [
    "b=56.7"
   ]
  },
  {
   "cell_type": "code",
   "execution_count": 6,
   "id": "38a7454c-95ee-4c12-ac43-1835e44d8082",
   "metadata": {},
   "outputs": [],
   "source": [
    "c=34+9j"
   ]
  },
  {
   "cell_type": "code",
   "execution_count": 8,
   "id": "eb24591a-f675-461e-942e-b99f3a62ec53",
   "metadata": {},
   "outputs": [
    {
     "name": "stdout",
     "output_type": "stream",
     "text": [
      "<class 'int'>\n"
     ]
    }
   ],
   "source": [
    "a=453\n",
    "b=45+0j\n",
    "m=5438.6\n",
    "print(type(a))"
   ]
  },
  {
   "cell_type": "code",
   "execution_count": 10,
   "id": "7af4b88a-c8ab-4d05-ab65-3730c286a5e9",
   "metadata": {},
   "outputs": [
    {
     "name": "stdout",
     "output_type": "stream",
     "text": [
      "<class 'complex'>\n"
     ]
    }
   ],
   "source": [
    "print(type(b))"
   ]
  },
  {
   "cell_type": "code",
   "execution_count": 12,
   "id": "533f1e86-8049-4f89-9b24-31f7d32f0383",
   "metadata": {},
   "outputs": [
    {
     "name": "stdout",
     "output_type": "stream",
     "text": [
      "<class 'complex'>\n"
     ]
    }
   ],
   "source": [
    "print(type(c))"
   ]
  },
  {
   "cell_type": "code",
   "execution_count": 16,
   "id": "3f97a1f2-789d-43df-a872-7a99e83d42f3",
   "metadata": {},
   "outputs": [
    {
     "name": "stdout",
     "output_type": "stream",
     "text": [
      "<class 'complex'>\n"
     ]
    }
   ],
   "source": [
    "sushma = 45+0j\n",
    "print(type(sushma))"
   ]
  },
  {
   "cell_type": "code",
   "execution_count": 18,
   "id": "82d6158d-f2fe-4216-9e03-a450854b8a01",
   "metadata": {},
   "outputs": [],
   "source": [
    "_friends = 34"
   ]
  },
  {
   "cell_type": "code",
   "execution_count": 20,
   "id": "0e062efd-e906-4921-8f24-b4f403c392bd",
   "metadata": {},
   "outputs": [
    {
     "name": "stdout",
     "output_type": "stream",
     "text": [
      "<class 'int'>\n"
     ]
    }
   ],
   "source": [
    "print(type(_friends))"
   ]
  },
  {
   "cell_type": "code",
   "execution_count": 22,
   "id": "6f650ffd-66bc-4f71-aba6-8df73d232a0b",
   "metadata": {},
   "outputs": [],
   "source": [
    "sushma = 342\n",
    "college = 43+012J\n",
    "sathyabama = 32.5"
   ]
  },
  {
   "cell_type": "code",
   "execution_count": 26,
   "id": "271d6800-869e-467b-a794-071fdfff65f7",
   "metadata": {},
   "outputs": [
    {
     "name": "stdout",
     "output_type": "stream",
     "text": [
      "<class 'int'>\n"
     ]
    }
   ],
   "source": [
    "print(type(sushma))"
   ]
  },
  {
   "cell_type": "code",
   "execution_count": 28,
   "id": "a4e3f827-123c-457a-8c97-b4d34db9afc3",
   "metadata": {},
   "outputs": [
    {
     "name": "stdout",
     "output_type": "stream",
     "text": [
      "<class 'complex'>\n"
     ]
    }
   ],
   "source": [
    "print(type(college))"
   ]
  },
  {
   "cell_type": "code",
   "execution_count": 30,
   "id": "6bf249e9-a386-4061-aca0-d6d2cc20a61b",
   "metadata": {},
   "outputs": [
    {
     "name": "stdout",
     "output_type": "stream",
     "text": [
      "<class 'float'>\n"
     ]
    }
   ],
   "source": [
    "print(type(sathyabama))"
   ]
  },
  {
   "cell_type": "code",
   "execution_count": 32,
   "id": "843ea9bb-678a-4f31-812f-8ef693c06512",
   "metadata": {},
   "outputs": [],
   "source": [
    "int = 23"
   ]
  },
  {
   "cell_type": "code",
   "execution_count": 34,
   "id": "2e675b02-e241-4e23-95c6-a8bec13924fb",
   "metadata": {},
   "outputs": [
    {
     "name": "stdout",
     "output_type": "stream",
     "text": [
      "<class 'int'>\n"
     ]
    }
   ],
   "source": [
    "print(type(int))"
   ]
  },
  {
   "cell_type": "code",
   "execution_count": 36,
   "id": "9b3e36ee-6b31-4726-93f0-0f32e5087430",
   "metadata": {},
   "outputs": [],
   "source": [
    "complex=23+0j"
   ]
  },
  {
   "cell_type": "code",
   "execution_count": 38,
   "id": "53abe662-3589-4349-9f65-ff3568a46c06",
   "metadata": {},
   "outputs": [
    {
     "name": "stdout",
     "output_type": "stream",
     "text": [
      "<class 'complex'>\n"
     ]
    }
   ],
   "source": [
    "print(type(complex))"
   ]
  },
  {
   "cell_type": "code",
   "execution_count": 40,
   "id": "dc3c2036-601c-47a6-a267-81817a34320e",
   "metadata": {},
   "outputs": [],
   "source": [
    "float = 32.6"
   ]
  },
  {
   "cell_type": "code",
   "execution_count": 42,
   "id": "016553f2-f91b-47bc-8c0b-7a8781327574",
   "metadata": {},
   "outputs": [
    {
     "name": "stdout",
     "output_type": "stream",
     "text": [
      "<class 'float'>\n"
     ]
    }
   ],
   "source": [
    "print(type(float))"
   ]
  },
  {
   "cell_type": "code",
   "execution_count": 44,
   "id": "b4d9ba96-9d33-431f-bde3-a205776e15a7",
   "metadata": {},
   "outputs": [],
   "source": [
    "keerthi = 23"
   ]
  },
  {
   "cell_type": "code",
   "execution_count": 46,
   "id": "0c3c3af8-2c9c-416e-a63b-c30d1a152e58",
   "metadata": {},
   "outputs": [
    {
     "name": "stdout",
     "output_type": "stream",
     "text": [
      "<class 'int'>\n"
     ]
    }
   ],
   "source": [
    "print(type(keerthi))"
   ]
  },
  {
   "cell_type": "code",
   "execution_count": 50,
   "id": "c2006bc1-37be-4736-af45-75c14c603d4f",
   "metadata": {},
   "outputs": [],
   "source": [
    "hi = 20.9J"
   ]
  },
  {
   "cell_type": "code",
   "execution_count": 52,
   "id": "993d01e1-6aaa-4d75-ab32-d0debbebac80",
   "metadata": {},
   "outputs": [
    {
     "name": "stdout",
     "output_type": "stream",
     "text": [
      "<class 'complex'>\n"
     ]
    }
   ],
   "source": [
    "print(type(hi))"
   ]
  },
  {
   "cell_type": "code",
   "execution_count": 56,
   "id": "fb2177c4-3c00-4891-9498-97751edbe6f4",
   "metadata": {},
   "outputs": [],
   "source": [
    "datatypes = 1,2,3,4"
   ]
  },
  {
   "cell_type": "code",
   "execution_count": 58,
   "id": "4b7c09f3-eb06-451f-ac5f-ee5efe3d04ca",
   "metadata": {},
   "outputs": [],
   "source": [
    "single = 1"
   ]
  },
  {
   "cell_type": "code",
   "execution_count": 60,
   "id": "a95ff1c4-c5f5-4c53-9b32-c31655f7007b",
   "metadata": {},
   "outputs": [
    {
     "name": "stdout",
     "output_type": "stream",
     "text": [
      "<class 'int'>\n"
     ]
    }
   ],
   "source": [
    "print(type(single))"
   ]
  },
  {
   "cell_type": "code",
   "execution_count": 62,
   "id": "81d24c21-3463-4e0f-a43e-c2909fc23345",
   "metadata": {},
   "outputs": [],
   "source": [
    "laptop = 23"
   ]
  },
  {
   "cell_type": "code",
   "execution_count": 64,
   "id": "336ffa70-cef7-452f-ae90-0ebd76f93afb",
   "metadata": {},
   "outputs": [
    {
     "name": "stdout",
     "output_type": "stream",
     "text": [
      "<class 'int'>\n"
     ]
    }
   ],
   "source": [
    "print(type(laptop))"
   ]
  },
  {
   "cell_type": "code",
   "execution_count": 66,
   "id": "4ddb77ea-bb5b-4a34-b593-38728b3c4890",
   "metadata": {},
   "outputs": [],
   "source": [
    "laptop=43+0j"
   ]
  },
  {
   "cell_type": "code",
   "execution_count": 68,
   "id": "7696a5f1-be01-4a95-a1e1-73e9f4eafcf6",
   "metadata": {},
   "outputs": [
    {
     "name": "stdout",
     "output_type": "stream",
     "text": [
      "<class 'complex'>\n"
     ]
    }
   ],
   "source": [
    "print(type(laptop))"
   ]
  },
  {
   "cell_type": "code",
   "execution_count": 70,
   "id": "4422d3ef-49f6-4eff-b931-eddff5d1023b",
   "metadata": {},
   "outputs": [],
   "source": [
    "laptop=23.4"
   ]
  },
  {
   "cell_type": "code",
   "execution_count": 72,
   "id": "94cbd345-a371-45f2-bb47-7823a1a84f95",
   "metadata": {},
   "outputs": [
    {
     "name": "stdout",
     "output_type": "stream",
     "text": [
      "<class 'float'>\n"
     ]
    }
   ],
   "source": [
    "print(type(laptop))"
   ]
  },
  {
   "cell_type": "code",
   "execution_count": 74,
   "id": "b9e70e57-680c-4c7d-9696-223754b93c1d",
   "metadata": {},
   "outputs": [],
   "source": [
    "college = 23.432"
   ]
  },
  {
   "cell_type": "code",
   "execution_count": 76,
   "id": "4dbf05f4-4bb0-4ddb-9f1d-4ecd7b6b94d6",
   "metadata": {},
   "outputs": [
    {
     "name": "stdout",
     "output_type": "stream",
     "text": [
      "<class 'float'>\n"
     ]
    }
   ],
   "source": [
    "print(type(college))"
   ]
  },
  {
   "cell_type": "code",
   "execution_count": 78,
   "id": "657b4113-b789-4ff2-942b-1f68f2b6a2a5",
   "metadata": {},
   "outputs": [
    {
     "name": "stdout",
     "output_type": "stream",
     "text": [
      "23.432\n"
     ]
    }
   ],
   "source": [
    "print(college)"
   ]
  },
  {
   "cell_type": "code",
   "execution_count": 80,
   "id": "55c1cbe2-579d-416c-bb62-d3805d608f90",
   "metadata": {},
   "outputs": [],
   "source": [
    "student = 34+7j"
   ]
  },
  {
   "cell_type": "code",
   "execution_count": 88,
   "id": "40cb40e1-cd4c-4367-b2cc-c120b9d29e2e",
   "metadata": {},
   "outputs": [
    {
     "name": "stdout",
     "output_type": "stream",
     "text": [
      "<class 'complex'>\n"
     ]
    }
   ],
   "source": [
    "print(type(student))"
   ]
  },
  {
   "cell_type": "code",
   "execution_count": 90,
   "id": "9dec88d0-f296-4be3-8b32-c11457ca7ed5",
   "metadata": {},
   "outputs": [
    {
     "name": "stdout",
     "output_type": "stream",
     "text": [
      "(34+7j)\n"
     ]
    }
   ],
   "source": [
    "print(student)"
   ]
  },
  {
   "cell_type": "code",
   "execution_count": 92,
   "id": "928ad42e-c039-4d83-be44-865194f8f95b",
   "metadata": {},
   "outputs": [],
   "source": [
    "family = 23.43"
   ]
  },
  {
   "cell_type": "code",
   "execution_count": 94,
   "id": "65e25014-79f6-4cf8-9c16-0901a5b955e5",
   "metadata": {},
   "outputs": [
    {
     "name": "stdout",
     "output_type": "stream",
     "text": [
      "23.43\n"
     ]
    }
   ],
   "source": [
    "print(family)"
   ]
  },
  {
   "cell_type": "code",
   "execution_count": 96,
   "id": "c213f878-80e3-4ab2-954e-535cba46ab4f",
   "metadata": {},
   "outputs": [
    {
     "name": "stdout",
     "output_type": "stream",
     "text": [
      "<class 'float'>\n"
     ]
    }
   ],
   "source": [
    "print(type(family))"
   ]
  },
  {
   "cell_type": "code",
   "execution_count": 98,
   "id": "576c9d81-8f73-4859-8336-22f786f354f3",
   "metadata": {},
   "outputs": [],
   "source": [
    "apps = 32.9j"
   ]
  },
  {
   "cell_type": "code",
   "execution_count": 100,
   "id": "cbf832b8-c441-47b0-ae6b-bf24dc41468e",
   "metadata": {},
   "outputs": [
    {
     "name": "stdout",
     "output_type": "stream",
     "text": [
      "32.9j\n"
     ]
    }
   ],
   "source": [
    "print(apps)"
   ]
  },
  {
   "cell_type": "code",
   "execution_count": 102,
   "id": "58876b46-e54c-4c72-b01f-304f4585b7f1",
   "metadata": {},
   "outputs": [
    {
     "name": "stdout",
     "output_type": "stream",
     "text": [
      "<class 'complex'>\n"
     ]
    }
   ],
   "source": [
    "print(type(apps))"
   ]
  },
  {
   "cell_type": "code",
   "execution_count": 104,
   "id": "646cc8cc-2c2f-46f5-ad19-2e2d79aaaaa0",
   "metadata": {},
   "outputs": [],
   "source": [
    "notebook = 32+0j"
   ]
  },
  {
   "cell_type": "code",
   "execution_count": 106,
   "id": "98c17c27-2a6f-4543-9f2e-9dda4583e33e",
   "metadata": {},
   "outputs": [
    {
     "name": "stdout",
     "output_type": "stream",
     "text": [
      "<class 'complex'>\n"
     ]
    }
   ],
   "source": [
    "print(type(notebook))"
   ]
  },
  {
   "cell_type": "markdown",
   "id": "ce614805-cfe1-413f-bd63-8e50ccabb7d9",
   "metadata": {},
   "source": [
    "# 3) Explain about boolean datatype?\n",
    "\n",
    "- When we use the data type boolean we will get the output either true or false\n",
    "- true (1)\n",
    "  false(0)\n",
    "- If the condition satisfies then the output will be true (1)\n",
    "- If the condition doesnt satisfies then the output will be false(0)\n",
    "- Representation : bool()\n",
    "- If value is present in the function then it is true\n",
    "- If there is no value value prsent in the function it is false"
   ]
  },
  {
   "cell_type": "code",
   "execution_count": 1,
   "id": "4c6298fe-2dc6-4479-a465-5d0d1a047105",
   "metadata": {},
   "outputs": [
    {
     "data": {
      "text/plain": [
       "True"
      ]
     },
     "execution_count": 1,
     "metadata": {},
     "output_type": "execute_result"
    }
   ],
   "source": [
    "bool(1)"
   ]
  },
  {
   "cell_type": "code",
   "execution_count": 3,
   "id": "a23b52bb-4c8a-49af-b57f-96b8294ae172",
   "metadata": {},
   "outputs": [
    {
     "data": {
      "text/plain": [
       "True"
      ]
     },
     "execution_count": 3,
     "metadata": {},
     "output_type": "execute_result"
    }
   ],
   "source": [
    "bool(-1)"
   ]
  },
  {
   "cell_type": "code",
   "execution_count": 5,
   "id": "5475836e-dcb6-4a8e-a8b2-cdc45f164952",
   "metadata": {},
   "outputs": [
    {
     "data": {
      "text/plain": [
       "False"
      ]
     },
     "execution_count": 5,
     "metadata": {},
     "output_type": "execute_result"
    }
   ],
   "source": [
    "bool()"
   ]
  },
  {
   "cell_type": "code",
   "execution_count": 7,
   "id": "ebbeaca5-8f62-489e-925f-599ba193b473",
   "metadata": {},
   "outputs": [
    {
     "data": {
      "text/plain": [
       "True"
      ]
     },
     "execution_count": 7,
     "metadata": {},
     "output_type": "execute_result"
    }
   ],
   "source": [
    "bool(123)"
   ]
  },
  {
   "cell_type": "code",
   "execution_count": 11,
   "id": "f610b44e-88cd-4cba-896c-45281e753551",
   "metadata": {},
   "outputs": [
    {
     "data": {
      "text/plain": [
       "True"
      ]
     },
     "execution_count": 11,
     "metadata": {},
     "output_type": "execute_result"
    }
   ],
   "source": [
    "bool(23)"
   ]
  },
  {
   "cell_type": "code",
   "execution_count": 13,
   "id": "389b8f96-90ab-4aad-9536-e916ab02833a",
   "metadata": {},
   "outputs": [
    {
     "data": {
      "text/plain": [
       "True"
      ]
     },
     "execution_count": 13,
     "metadata": {},
     "output_type": "execute_result"
    }
   ],
   "source": [
    "bool(-324)"
   ]
  },
  {
   "cell_type": "code",
   "execution_count": 15,
   "id": "6b8aed59-8b98-488a-be75-c0e35b9812b8",
   "metadata": {},
   "outputs": [
    {
     "data": {
      "text/plain": [
       "False"
      ]
     },
     "execution_count": 15,
     "metadata": {},
     "output_type": "execute_result"
    }
   ],
   "source": [
    "bool()"
   ]
  },
  {
   "cell_type": "code",
   "execution_count": 17,
   "id": "a7b4498f-8244-4f38-bd6e-96f5aa4f1990",
   "metadata": {},
   "outputs": [
    {
     "data": {
      "text/plain": [
       "False"
      ]
     },
     "execution_count": 17,
     "metadata": {},
     "output_type": "execute_result"
    }
   ],
   "source": [
    "bool(0)"
   ]
  },
  {
   "cell_type": "code",
   "execution_count": 19,
   "id": "ed32f13b-002a-42bf-b0fd-b0e05a0ca9c7",
   "metadata": {},
   "outputs": [
    {
     "data": {
      "text/plain": [
       "True"
      ]
     },
     "execution_count": 19,
     "metadata": {},
     "output_type": "execute_result"
    }
   ],
   "source": [
    "bool(6+4J)"
   ]
  },
  {
   "cell_type": "code",
   "execution_count": 21,
   "id": "ed85cb06-ca4e-495e-91ec-572111e8a7f9",
   "metadata": {},
   "outputs": [
    {
     "data": {
      "text/plain": [
       "True"
      ]
     },
     "execution_count": 21,
     "metadata": {},
     "output_type": "execute_result"
    }
   ],
   "source": [
    "bool(342.54)"
   ]
  },
  {
   "cell_type": "code",
   "execution_count": 23,
   "id": "293430ed-a6a8-414b-b144-706cbc902363",
   "metadata": {},
   "outputs": [
    {
     "data": {
      "text/plain": [
       "True"
      ]
     },
     "execution_count": 23,
     "metadata": {},
     "output_type": "execute_result"
    }
   ],
   "source": [
    "bool(234+98j)"
   ]
  },
  {
   "cell_type": "code",
   "execution_count": 25,
   "id": "d7a55f3b-6d72-40b3-8f55-1de256dd3ff7",
   "metadata": {},
   "outputs": [
    {
     "data": {
      "text/plain": [
       "True"
      ]
     },
     "execution_count": 25,
     "metadata": {},
     "output_type": "execute_result"
    }
   ],
   "source": [
    "bool(32.5+5j)"
   ]
  },
  {
   "cell_type": "code",
   "execution_count": 27,
   "id": "3d502d87-467a-4640-a051-2a3fdc827389",
   "metadata": {},
   "outputs": [
    {
     "data": {
      "text/plain": [
       "True"
      ]
     },
     "execution_count": 27,
     "metadata": {},
     "output_type": "execute_result"
    }
   ],
   "source": [
    "bool(2345.0643)"
   ]
  },
  {
   "cell_type": "code",
   "execution_count": 29,
   "id": "7fe1d2fb-27e6-49cd-927c-aebf73e4479e",
   "metadata": {},
   "outputs": [
    {
     "data": {
      "text/plain": [
       "True"
      ]
     },
     "execution_count": 29,
     "metadata": {},
     "output_type": "execute_result"
    }
   ],
   "source": [
    "bool(-435.12398j)"
   ]
  },
  {
   "cell_type": "code",
   "execution_count": 31,
   "id": "b97c00d7-7761-4d01-b1ca-304c7d36a8e5",
   "metadata": {},
   "outputs": [
    {
     "data": {
      "text/plain": [
       "False"
      ]
     },
     "execution_count": 31,
     "metadata": {},
     "output_type": "execute_result"
    }
   ],
   "source": [
    "bool(-0)"
   ]
  },
  {
   "cell_type": "code",
   "execution_count": 33,
   "id": "edc9bb92-fd38-4744-aef4-20ca7a99700e",
   "metadata": {},
   "outputs": [
    {
     "data": {
      "text/plain": [
       "True"
      ]
     },
     "execution_count": 33,
     "metadata": {},
     "output_type": "execute_result"
    }
   ],
   "source": [
    "bool(1<7)"
   ]
  },
  {
   "cell_type": "code",
   "execution_count": 35,
   "id": "9a5d472e-a7cc-4283-b062-5027e918766c",
   "metadata": {},
   "outputs": [
    {
     "data": {
      "text/plain": [
       "True"
      ]
     },
     "execution_count": 35,
     "metadata": {},
     "output_type": "execute_result"
    }
   ],
   "source": [
    "bool(9==9)"
   ]
  },
  {
   "cell_type": "code",
   "execution_count": 37,
   "id": "f918a783-1baf-46f5-80a8-3bdf6f8f4d77",
   "metadata": {},
   "outputs": [
    {
     "data": {
      "text/plain": [
       "False"
      ]
     },
     "execution_count": 37,
     "metadata": {},
     "output_type": "execute_result"
    }
   ],
   "source": [
    "bool(32+54>100)"
   ]
  },
  {
   "cell_type": "code",
   "execution_count": 39,
   "id": "c6c9f8fd-2efd-4810-89a8-f2671d9ad988",
   "metadata": {},
   "outputs": [
    {
     "data": {
      "text/plain": [
       "False"
      ]
     },
     "execution_count": 39,
     "metadata": {},
     "output_type": "execute_result"
    }
   ],
   "source": [
    "bool(32 == 31)"
   ]
  },
  {
   "cell_type": "code",
   "execution_count": 41,
   "id": "68d105fa-dc74-4698-8b5c-f5a19a17c488",
   "metadata": {},
   "outputs": [
    {
     "data": {
      "text/plain": [
       "False"
      ]
     },
     "execution_count": 41,
     "metadata": {},
     "output_type": "execute_result"
    }
   ],
   "source": [
    "bool(234 + 123 < 100)"
   ]
  },
  {
   "cell_type": "code",
   "execution_count": 43,
   "id": "ec9e8fba-d840-4c1b-8f9e-c71019290c6f",
   "metadata": {},
   "outputs": [
    {
     "data": {
      "text/plain": [
       "True"
      ]
     },
     "execution_count": 43,
     "metadata": {},
     "output_type": "execute_result"
    }
   ],
   "source": [
    "bool(324 - 32)"
   ]
  },
  {
   "cell_type": "code",
   "execution_count": 45,
   "id": "d1c3209b-b39b-46b0-8c94-d7dca78decc1",
   "metadata": {},
   "outputs": [
    {
     "data": {
      "text/plain": [
       "False"
      ]
     },
     "execution_count": 45,
     "metadata": {},
     "output_type": "execute_result"
    }
   ],
   "source": [
    "bool(21>24)"
   ]
  },
  {
   "cell_type": "code",
   "execution_count": 47,
   "id": "9d192f09-297f-4187-984e-81cea0264f1d",
   "metadata": {},
   "outputs": [
    {
     "data": {
      "text/plain": [
       "False"
      ]
     },
     "execution_count": 47,
     "metadata": {},
     "output_type": "execute_result"
    }
   ],
   "source": [
    "bool(43<23)"
   ]
  },
  {
   "cell_type": "code",
   "execution_count": 53,
   "id": "79051026-0e70-453c-8d32-352042dd25ea",
   "metadata": {},
   "outputs": [
    {
     "data": {
      "text/plain": [
       "True"
      ]
     },
     "execution_count": 53,
     "metadata": {},
     "output_type": "execute_result"
    }
   ],
   "source": [
    "bool(23<43)"
   ]
  },
  {
   "cell_type": "code",
   "execution_count": 57,
   "id": "47b38e32-c789-4f5f-89f2-5dc543841579",
   "metadata": {},
   "outputs": [
    {
     "data": {
      "text/plain": [
       "True"
      ]
     },
     "execution_count": 57,
     "metadata": {},
     "output_type": "execute_result"
    }
   ],
   "source": [
    "bool(21>10)"
   ]
  },
  {
   "cell_type": "code",
   "execution_count": 59,
   "id": "37800cd3-d02a-44f4-b76d-34d69fe48fe7",
   "metadata": {},
   "outputs": [
    {
     "data": {
      "text/plain": [
       "True"
      ]
     },
     "execution_count": 59,
     "metadata": {},
     "output_type": "execute_result"
    }
   ],
   "source": [
    "bool(1001 + 2 <10000)"
   ]
  },
  {
   "cell_type": "code",
   "execution_count": 63,
   "id": "e58998a0-58ad-4be4-b15c-81e27f0c5e57",
   "metadata": {},
   "outputs": [
    {
     "data": {
      "text/plain": [
       "True"
      ]
     },
     "execution_count": 63,
     "metadata": {},
     "output_type": "execute_result"
    }
   ],
   "source": [
    "bool(-12+32 <= 123)"
   ]
  },
  {
   "cell_type": "code",
   "execution_count": 65,
   "id": "5063c393-3446-47f5-848f-80149e67c4f2",
   "metadata": {},
   "outputs": [
    {
     "data": {
      "text/plain": [
       "False"
      ]
     },
     "execution_count": 65,
     "metadata": {},
     "output_type": "execute_result"
    }
   ],
   "source": [
    "bool(0>1)"
   ]
  },
  {
   "cell_type": "code",
   "execution_count": 69,
   "id": "1cd12b8b-fbff-439c-bff0-6782cdcc93d3",
   "metadata": {},
   "outputs": [
    {
     "data": {
      "text/plain": [
       "True"
      ]
     },
     "execution_count": 69,
     "metadata": {},
     "output_type": "execute_result"
    }
   ],
   "source": [
    "bool(1>0)"
   ]
  },
  {
   "cell_type": "code",
   "execution_count": 71,
   "id": "5da0ce1d-50e1-4602-b825-1f531f7405d8",
   "metadata": {},
   "outputs": [
    {
     "data": {
      "text/plain": [
       "True"
      ]
     },
     "execution_count": 71,
     "metadata": {},
     "output_type": "execute_result"
    }
   ],
   "source": [
    "bool(10000<1000000)"
   ]
  },
  {
   "cell_type": "code",
   "execution_count": 75,
   "id": "1d932d15-527c-4a47-853d-cdaec0e3e564",
   "metadata": {},
   "outputs": [
    {
     "data": {
      "text/plain": [
       "False"
      ]
     },
     "execution_count": 75,
     "metadata": {},
     "output_type": "execute_result"
    }
   ],
   "source": [
    "bool(0)"
   ]
  },
  {
   "cell_type": "markdown",
   "id": "fdf2b530-fc68-47a1-93e3-0231c4c26f86",
   "metadata": {},
   "source": [
    "# 4) Type conversion / Type casting ?\n",
    "\n",
    "- used to change the type of data\n",
    "- we cant convert complex to int / float"
   ]
  },
  {
   "cell_type": "markdown",
   "id": "7df5a638-5287-446e-8c20-46510fd5b5a5",
   "metadata": {},
   "source": [
    "# Converting int to float "
   ]
  },
  {
   "cell_type": "code",
   "execution_count": 79,
   "id": "af57b9d5-2525-434d-a0fa-06d386b52d09",
   "metadata": {},
   "outputs": [
    {
     "name": "stdout",
     "output_type": "stream",
     "text": [
      "1.0\n"
     ]
    }
   ],
   "source": [
    "a=1\n",
    "b=float(a)\n",
    "print (b)"
   ]
  },
  {
   "cell_type": "code",
   "execution_count": 91,
   "id": "e5915aeb-864d-4a64-ba9d-285a6962e617",
   "metadata": {},
   "outputs": [
    {
     "name": "stdout",
     "output_type": "stream",
     "text": [
      "123.0\n",
      "<class 'int'>\n"
     ]
    }
   ],
   "source": [
    "a=123\n",
    "print(float(a))\n",
    "print(type(a))"
   ]
  },
  {
   "cell_type": "code",
   "execution_count": 83,
   "id": "5d39c00e-cdf4-434c-b076-50f1cc814868",
   "metadata": {},
   "outputs": [
    {
     "name": "stdout",
     "output_type": "stream",
     "text": [
      "1234500.0\n"
     ]
    }
   ],
   "source": [
    "z=1234500\n",
    "print(float(z))"
   ]
  },
  {
   "cell_type": "code",
   "execution_count": 89,
   "id": "53b095b9-d227-42b0-afdb-e302e7c8671b",
   "metadata": {},
   "outputs": [
    {
     "name": "stdout",
     "output_type": "stream",
     "text": [
      "1234500.0\n",
      "<class 'int'>\n",
      "<class 'float'>\n"
     ]
    }
   ],
   "source": [
    "z=1234500\n",
    "x=float(z)\n",
    "print(x)\n",
    "print(type(z))\n",
    "print(type(x))"
   ]
  },
  {
   "cell_type": "code",
   "execution_count": 93,
   "id": "f35bad52-16fb-4e13-9dfc-901561d34a60",
   "metadata": {},
   "outputs": [],
   "source": [
    "a=176\n",
    "b=float(a)"
   ]
  },
  {
   "cell_type": "code",
   "execution_count": 95,
   "id": "0277c640-7fd6-4122-872e-65f0ba92c835",
   "metadata": {},
   "outputs": [
    {
     "name": "stdout",
     "output_type": "stream",
     "text": [
      "<class 'int'>\n"
     ]
    }
   ],
   "source": [
    "print(type(a))"
   ]
  },
  {
   "cell_type": "code",
   "execution_count": 97,
   "id": "7cb8d2a1-31f7-4d4a-8b56-b657c4c49e8a",
   "metadata": {},
   "outputs": [
    {
     "name": "stdout",
     "output_type": "stream",
     "text": [
      "<class 'float'>\n"
     ]
    }
   ],
   "source": [
    "print(type(b))"
   ]
  },
  {
   "cell_type": "code",
   "execution_count": 99,
   "id": "6914421c-a607-416a-a5cf-77af4b541ea1",
   "metadata": {},
   "outputs": [
    {
     "name": "stdout",
     "output_type": "stream",
     "text": [
      "176.0\n"
     ]
    }
   ],
   "source": [
    "print(b)"
   ]
  },
  {
   "cell_type": "markdown",
   "id": "ce784b15-baca-4eef-a3ee-cc56a69d801c",
   "metadata": {},
   "source": [
    "# Converting int to complex"
   ]
  },
  {
   "cell_type": "code",
   "execution_count": 101,
   "id": "869968ef-cf9c-4ef7-ac56-d771b2bfe88a",
   "metadata": {},
   "outputs": [
    {
     "name": "stdout",
     "output_type": "stream",
     "text": [
      "(10+0j)\n"
     ]
    }
   ],
   "source": [
    "a=10\n",
    "print(complex(a))"
   ]
  },
  {
   "cell_type": "code",
   "execution_count": 105,
   "id": "4dba3a84-714c-45b3-b67f-f4a35013baee",
   "metadata": {},
   "outputs": [
    {
     "name": "stdout",
     "output_type": "stream",
     "text": [
      "<class 'int'>\n",
      "<class 'int'>\n",
      "<class 'complex'>\n",
      "(13+234j)\n"
     ]
    }
   ],
   "source": [
    "a=13\n",
    "b=234\n",
    "c=complex(a,b)\n",
    "print(type(a))\n",
    "print(type(b))\n",
    "print(type(c))\n",
    "print(c)"
   ]
  },
  {
   "cell_type": "code",
   "execution_count": 111,
   "id": "87b44d6a-cbf1-45ae-bf22-357e7d2d984a",
   "metadata": {},
   "outputs": [
    {
     "name": "stdout",
     "output_type": "stream",
     "text": [
      "(98+0j)\n"
     ]
    }
   ],
   "source": [
    "a=98\n",
    "s=complex(a)\n",
    "print(s)"
   ]
  },
  {
   "cell_type": "code",
   "execution_count": 117,
   "id": "a98e00a2-2bab-463e-81fa-0d4388d05e39",
   "metadata": {},
   "outputs": [
    {
     "name": "stdout",
     "output_type": "stream",
     "text": [
      "(26+85j)\n"
     ]
    }
   ],
   "source": [
    "a=26\n",
    "b=85\n",
    "d=complex(a,b)\n",
    "print(d)"
   ]
  },
  {
   "cell_type": "markdown",
   "id": "0098a5fa-bb93-46c4-bc1a-563c30475365",
   "metadata": {},
   "source": [
    "d=32\n",
    "x=96\n",
    "print(complex(d,x))"
   ]
  },
  {
   "cell_type": "markdown",
   "id": "e595e183-3ba8-49fd-b124-c634e48b9c65",
   "metadata": {},
   "source": [
    "# converting float to int "
   ]
  },
  {
   "cell_type": "code",
   "execution_count": 139,
   "id": "5e42ae86-30ce-401a-b653-b6c085d06c21",
   "metadata": {},
   "outputs": [
    {
     "name": "stdout",
     "output_type": "stream",
     "text": [
      "3\n",
      "<class 'int'>\n"
     ]
    }
   ],
   "source": [
    "a=3.5\n",
    "x=int(a)\n",
    "print(x)\n",
    "print(type(x))"
   ]
  },
  {
   "cell_type": "code",
   "execution_count": 133,
   "id": "20f72d5b-4912-4427-9278-75589f25be43",
   "metadata": {},
   "outputs": [
    {
     "name": "stdout",
     "output_type": "stream",
     "text": [
      "23\n"
     ]
    }
   ],
   "source": [
    "s=23.6\n",
    "n=int(s)\n",
    "print(n)"
   ]
  },
  {
   "cell_type": "code",
   "execution_count": 137,
   "id": "ce533a61-1419-4b0a-b30a-33921013c83c",
   "metadata": {},
   "outputs": [
    {
     "name": "stdout",
     "output_type": "stream",
     "text": [
      "345.0\n",
      "<class 'int'>\n"
     ]
    }
   ],
   "source": [
    "d=345\n",
    "print(float(d))\n",
    "print(type(d))"
   ]
  },
  {
   "cell_type": "code",
   "execution_count": 141,
   "id": "6344c5af-32f9-4d29-8421-988d511bc688",
   "metadata": {},
   "outputs": [
    {
     "name": "stdout",
     "output_type": "stream",
     "text": [
      "238\n"
     ]
    }
   ],
   "source": [
    "sushma = 238\n",
    "sathyabama = float(sushma)\n",
    "print(sushma)"
   ]
  },
  {
   "cell_type": "code",
   "execution_count": 143,
   "id": "fc7dcdb7-d353-44d2-8d69-3c57ec8e85ea",
   "metadata": {},
   "outputs": [],
   "source": [
    "hi = 12\n",
    "college = float(hi)"
   ]
  },
  {
   "cell_type": "code",
   "execution_count": 145,
   "id": "92478998-a156-4237-88cc-8cd2070483b0",
   "metadata": {},
   "outputs": [
    {
     "name": "stdout",
     "output_type": "stream",
     "text": [
      "12.0\n"
     ]
    }
   ],
   "source": [
    "print(college)"
   ]
  },
  {
   "cell_type": "code",
   "execution_count": 149,
   "id": "70a677e7-2af5-445b-bf88-053d3846d82e",
   "metadata": {},
   "outputs": [
    {
     "name": "stdout",
     "output_type": "stream",
     "text": [
      "<class 'float'>\n"
     ]
    }
   ],
   "source": [
    "print(type(college))"
   ]
  },
  {
   "cell_type": "markdown",
   "id": "0b66aad2-a33a-4db3-8a8c-9aa10a93dc2d",
   "metadata": {},
   "source": [
    "# converting float to complex"
   ]
  },
  {
   "cell_type": "code",
   "execution_count": 153,
   "id": "bed5da3c-7a17-4837-9946-8b76ba784394",
   "metadata": {},
   "outputs": [
    {
     "name": "stdout",
     "output_type": "stream",
     "text": [
      "(34+0j)\n"
     ]
    }
   ],
   "source": [
    "s=34.2\n",
    "print(complex(s))"
   ]
  },
  {
   "cell_type": "code",
   "execution_count": 157,
   "id": "862d82b3-de7d-419f-a5d6-54968a817251",
   "metadata": {},
   "outputs": [
    {
     "name": "stdout",
     "output_type": "stream",
     "text": [
      "(52.1+21.7j)\n"
     ]
    }
   ],
   "source": [
    "r=52.1\n",
    "d=21.7\n",
    "print(complex(r,d))"
   ]
  },
  {
   "cell_type": "code",
   "execution_count": 161,
   "id": "d1d0f71f-9e80-455d-b38c-5d28e188a8bd",
   "metadata": {},
   "outputs": [
    {
     "name": "stdout",
     "output_type": "stream",
     "text": [
      "(59.5+0j)\n"
     ]
    }
   ],
   "source": [
    "sushma = 59.5\n",
    "college=(complex(sushma))\n",
    "print(college)"
   ]
  },
  {
   "cell_type": "code",
   "execution_count": 163,
   "id": "9479422d-4237-4bb3-847b-60c3ae8ceb72",
   "metadata": {},
   "outputs": [
    {
     "name": "stdout",
     "output_type": "stream",
     "text": [
      "236.87\n",
      "<class 'complex'>\n",
      "(236.87+217.09j)\n"
     ]
    }
   ],
   "source": [
    "laptop=236.87\n",
    "dell= 217.09\n",
    "s=(complex(laptop,dell))\n",
    "print(laptop)\n",
    "print(type(s))\n",
    "print(s)"
   ]
  },
  {
   "cell_type": "code",
   "execution_count": null,
   "id": "b5e0fa37-1b9e-498f-b66d-edd3a537beb7",
   "metadata": {},
   "outputs": [],
   "source": []
  }
 ],
 "metadata": {
  "kernelspec": {
   "display_name": "Python 3 (ipykernel)",
   "language": "python",
   "name": "python3"
  },
  "language_info": {
   "codemirror_mode": {
    "name": "ipython",
    "version": 3
   },
   "file_extension": ".py",
   "mimetype": "text/x-python",
   "name": "python",
   "nbconvert_exporter": "python",
   "pygments_lexer": "ipython3",
   "version": "3.12.4"
  }
 },
 "nbformat": 4,
 "nbformat_minor": 5
}
