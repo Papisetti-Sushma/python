{
 "cells": [
  {
   "cell_type": "markdown",
   "id": "49dde3de-15a4-4ea3-8b6f-3b72bf9058fe",
   "metadata": {},
   "source": [
    "# Numpy"
   ]
  },
  {
   "cell_type": "markdown",
   "id": "e15a7664-d183-427d-80c1-ea6e7df25599",
   "metadata": {},
   "source": [
    "- used for n dimensional array\n",
    "- It provides support for large, multi-dimensional arrays and matrices"
   ]
  },
  {
   "cell_type": "code",
   "execution_count": 3,
   "id": "2e6c7bb3-e0ab-4fe8-a330-93b3ac50c569",
   "metadata": {},
   "outputs": [
    {
     "name": "stdout",
     "output_type": "stream",
     "text": [
      "Requirement already satisfied: numpy in c:\\users\\yes\\anaconda3\\lib\\site-packages (1.26.4)\n"
     ]
    }
   ],
   "source": [
    "!pip install numpy"
   ]
  },
  {
   "cell_type": "code",
   "execution_count": 5,
   "id": "a97f33d9-ca38-410d-881d-3202b8862688",
   "metadata": {},
   "outputs": [],
   "source": [
    "import numpy as np"
   ]
  },
  {
   "cell_type": "markdown",
   "id": "bf78ed39-5018-4fc9-99dc-502a6fd63af1",
   "metadata": {},
   "source": [
    "# Creating a array"
   ]
  },
  {
   "cell_type": "code",
   "execution_count": 19,
   "id": "bd20fbea-0268-4264-8553-7a441324ee59",
   "metadata": {},
   "outputs": [
    {
     "name": "stdout",
     "output_type": "stream",
     "text": [
      "[1 2 3]\n"
     ]
    }
   ],
   "source": [
    "a=np.array([1,2,3])\n",
    "print(a)"
   ]
  },
  {
   "cell_type": "code",
   "execution_count": 21,
   "id": "c5db6a89-e8cf-4a72-a114-acba27a1a817",
   "metadata": {},
   "outputs": [
    {
     "name": "stdout",
     "output_type": "stream",
     "text": [
      "[[1 2 3]\n",
      " [4 5 6]]\n"
     ]
    }
   ],
   "source": [
    "b=np.array([[1,2,3],[4,5,6]])\n",
    "print(b)"
   ]
  },
  {
   "cell_type": "code",
   "execution_count": 23,
   "id": "08d6c553-33f0-4ace-964f-fdf8aaba2fe7",
   "metadata": {},
   "outputs": [
    {
     "name": "stdout",
     "output_type": "stream",
     "text": [
      "[[[1 2 3]\n",
      "  [4 5 6]\n",
      "  [7 8 9]]]\n"
     ]
    }
   ],
   "source": [
    "c=np.array([[[1,2,3],[4,5,6],[7,8,9]]])\n",
    "print(c)"
   ]
  },
  {
   "cell_type": "markdown",
   "id": "3ea7c6a2-80d5-46f6-b040-6365d1995e74",
   "metadata": {},
   "source": [
    "# Initial Placeholder:"
   ]
  },
  {
   "cell_type": "markdown",
   "id": "1dc6b483-2996-4c63-8463-6d95c105f4f0",
   "metadata": {},
   "source": [
    "1. Zeros():"
   ]
  },
  {
   "cell_type": "markdown",
   "id": "c707bd87-450f-4f1a-9cf4-0da79137d3a2",
   "metadata": {},
   "source": [
    "- Two create an entire array with zeros "
   ]
  },
  {
   "cell_type": "code",
   "execution_count": 32,
   "id": "09a3ed74-3a96-48e1-9a89-88d2f79536ed",
   "metadata": {},
   "outputs": [
    {
     "name": "stdout",
     "output_type": "stream",
     "text": [
      "[[[0. 0. 0. 0. 0.]\n",
      "  [0. 0. 0. 0. 0.]\n",
      "  [0. 0. 0. 0. 0.]\n",
      "  [0. 0. 0. 0. 0.]]\n",
      "\n",
      " [[0. 0. 0. 0. 0.]\n",
      "  [0. 0. 0. 0. 0.]\n",
      "  [0. 0. 0. 0. 0.]\n",
      "  [0. 0. 0. 0. 0.]]\n",
      "\n",
      " [[0. 0. 0. 0. 0.]\n",
      "  [0. 0. 0. 0. 0.]\n",
      "  [0. 0. 0. 0. 0.]\n",
      "  [0. 0. 0. 0. 0.]]]\n"
     ]
    }
   ],
   "source": [
    "c=np.zeros([3,4,5]) # syntax : shape,rows,colums\n",
    "print(c)"
   ]
  },
  {
   "cell_type": "code",
   "execution_count": 36,
   "id": "8495ffc7-2cd5-4d40-b5d6-af8e161e0306",
   "metadata": {},
   "outputs": [
    {
     "name": "stdout",
     "output_type": "stream",
     "text": [
      "[[[0. 0. 0. 0. 0.]\n",
      "  [0. 0. 0. 0. 0.]]]\n"
     ]
    }
   ],
   "source": [
    "c=np.zeros([1,2,5]) # syntax : shape,rows,colums\n",
    "print(c)"
   ]
  },
  {
   "cell_type": "code",
   "execution_count": 38,
   "id": "7f2a001e-993f-4ea7-9fdf-74e598f99d2c",
   "metadata": {},
   "outputs": [
    {
     "name": "stdout",
     "output_type": "stream",
     "text": [
      "[[[0. 0.]\n",
      "  [0. 0.]]\n",
      "\n",
      " [[0. 0.]\n",
      "  [0. 0.]]\n",
      "\n",
      " [[0. 0.]\n",
      "  [0. 0.]]]\n"
     ]
    }
   ],
   "source": [
    "c=np.zeros([3,2,2]) # syntax : shape,rows,colums\n",
    "print(c)"
   ]
  },
  {
   "cell_type": "code",
   "execution_count": 47,
   "id": "691a61f0-5066-41a8-9c04-18d27896ff5f",
   "metadata": {},
   "outputs": [
    {
     "name": "stdout",
     "output_type": "stream",
     "text": [
      "[[[0. 0. 0. 0. 0.]\n",
      "  [0. 0. 0. 0. 0.]]\n",
      "\n",
      " [[0. 0. 0. 0. 0.]\n",
      "  [0. 0. 0. 0. 0.]]]\n"
     ]
    }
   ],
   "source": [
    "c=np.zeros([2,2,5]) # syntax : shape,rows,colums\n",
    "print(c)"
   ]
  },
  {
   "cell_type": "code",
   "execution_count": 44,
   "id": "eb81d202-142f-4c22-ae60-5c9031c73713",
   "metadata": {},
   "outputs": [
    {
     "name": "stdout",
     "output_type": "stream",
     "text": [
      "[[[0. 0.]\n",
      "  [0. 0.]]]\n"
     ]
    }
   ],
   "source": [
    "c=np.zeros([1,2,2]) # syntax : shape,rows,colums\n",
    "print(c)"
   ]
  },
  {
   "cell_type": "markdown",
   "id": "3e778fdf-a0c6-428a-8f79-4d849aca0b62",
   "metadata": {},
   "source": [
    "2.for ones:"
   ]
  },
  {
   "cell_type": "markdown",
   "id": "c118c7a4-9816-4255-8ac2-e90d3aab8ace",
   "metadata": {},
   "source": [
    "- Two create an entire array with ones"
   ]
  },
  {
   "cell_type": "code",
   "execution_count": 55,
   "id": "ea20791a-15c4-4ee1-8802-c6c380d5e298",
   "metadata": {},
   "outputs": [
    {
     "name": "stdout",
     "output_type": "stream",
     "text": [
      "[[[1. 1. 1. 1.]\n",
      "  [1. 1. 1. 1.]\n",
      "  [1. 1. 1. 1.]]\n",
      "\n",
      " [[1. 1. 1. 1.]\n",
      "  [1. 1. 1. 1.]\n",
      "  [1. 1. 1. 1.]]]\n"
     ]
    }
   ],
   "source": [
    "b=np.ones([2,3,4]) # shape,row,column\n",
    "print(b)"
   ]
  },
  {
   "cell_type": "code",
   "execution_count": 57,
   "id": "ac904903-4908-4113-b40b-3adf09f96b2b",
   "metadata": {},
   "outputs": [
    {
     "name": "stdout",
     "output_type": "stream",
     "text": [
      "[[[1. 1. 1. 1.]\n",
      "  [1. 1. 1. 1.]\n",
      "  [1. 1. 1. 1.]]]\n"
     ]
    }
   ],
   "source": [
    "b=np.ones([1,3,4]) # shape,row,column\n",
    "print(b)"
   ]
  },
  {
   "cell_type": "code",
   "execution_count": 59,
   "id": "cbc0b901-5781-4477-b614-1f7c314c9a80",
   "metadata": {},
   "outputs": [
    {
     "name": "stdout",
     "output_type": "stream",
     "text": [
      "[[1. 1. 1. 1.]\n",
      " [1. 1. 1. 1.]\n",
      " [1. 1. 1. 1.]]\n"
     ]
    }
   ],
   "source": [
    "b=np.ones([3,4]) # shape,row,column\n",
    "print(b)"
   ]
  },
  {
   "cell_type": "code",
   "execution_count": 61,
   "id": "021405ea-32f7-4e37-ab49-5e67722b0190",
   "metadata": {},
   "outputs": [
    {
     "name": "stdout",
     "output_type": "stream",
     "text": [
      "[]\n"
     ]
    }
   ],
   "source": [
    "b=np.ones([0,3,4]) # shape,row,column\n",
    "print(b)"
   ]
  },
  {
   "cell_type": "code",
   "execution_count": 63,
   "id": "8afbaecd-632f-4d24-8e1b-a35ba493270d",
   "metadata": {},
   "outputs": [
    {
     "name": "stdout",
     "output_type": "stream",
     "text": [
      "[[[1. 1. 1. 1.]\n",
      "  [1. 1. 1. 1.]]\n",
      "\n",
      " [[1. 1. 1. 1.]\n",
      "  [1. 1. 1. 1.]]]\n"
     ]
    }
   ],
   "source": [
    "b=np.ones([2,2,4]) # shape,row,column\n",
    "print(b)"
   ]
  },
  {
   "cell_type": "code",
   "execution_count": 65,
   "id": "40012300-1153-473d-bc4d-a11722c6af81",
   "metadata": {},
   "outputs": [
    {
     "name": "stdout",
     "output_type": "stream",
     "text": [
      "[[[1. 1. 1. 1. 1. 1.]\n",
      "  [1. 1. 1. 1. 1. 1.]\n",
      "  [1. 1. 1. 1. 1. 1.]]\n",
      "\n",
      " [[1. 1. 1. 1. 1. 1.]\n",
      "  [1. 1. 1. 1. 1. 1.]\n",
      "  [1. 1. 1. 1. 1. 1.]]]\n"
     ]
    }
   ],
   "source": [
    "b=np.ones([2,3,6]) # shape,row,column\n",
    "print(b)"
   ]
  },
  {
   "cell_type": "markdown",
   "id": "3e25879c-d87d-440d-84b8-68ea71372af8",
   "metadata": {},
   "source": [
    "3.for creating evenly spaced values:"
   ]
  },
  {
   "cell_type": "code",
   "execution_count": 92,
   "id": "fd343e2e-f330-4654-8ead-1cc700d3b756",
   "metadata": {},
   "outputs": [
    {
     "name": "stdout",
     "output_type": "stream",
     "text": [
      "[ 1  6 11 16]\n"
     ]
    }
   ],
   "source": [
    "d=np.arange(1,20,5)  # [start value,end value,step]\n",
    "print(d)              #[step = n-1,  5-1=4] skips 4 values and print the next value "
   ]
  },
  {
   "cell_type": "code",
   "execution_count": 98,
   "id": "32da6ccf-3a77-4e74-bf60-49b7ea7784d3",
   "metadata": {},
   "outputs": [
    {
     "name": "stdout",
     "output_type": "stream",
     "text": [
      "[1 7]\n"
     ]
    }
   ],
   "source": [
    "d=np.arange(1,10,6)  # [start value,end value,step]\n",
    "print(d)              #[step = n-1,  6-1=5] skips 4 values and print the next value "
   ]
  },
  {
   "cell_type": "code",
   "execution_count": 100,
   "id": "541a57e3-edc1-4629-b370-c09d514723ff",
   "metadata": {},
   "outputs": [
    {
     "name": "stdout",
     "output_type": "stream",
     "text": [
      "[ 1  4  7 10 13]\n"
     ]
    }
   ],
   "source": [
    "d=np.arange(1,15,3)  # [start value,end value,step]\n",
    "print(d)              #[step = n-1,  3-1=2] skips 4 values and print the next value "
   ]
  },
  {
   "cell_type": "code",
   "execution_count": 102,
   "id": "b4f141b8-99b5-4188-bd9b-cabec8019272",
   "metadata": {},
   "outputs": [
    {
     "name": "stdout",
     "output_type": "stream",
     "text": [
      "[ 1  3  5  7  9 11 13 15 17 19 21 23 25 27 29 31 33 35 37 39 41 43 45 47\n",
      " 49 51 53 55 57 59 61 63 65 67 69 71 73 75 77 79 81 83 85 87 89 91 93 95\n",
      " 97 99]\n"
     ]
    }
   ],
   "source": [
    "d=np.arange(1,100,2)  # [start value,end value,step]\n",
    "print(d)              #[step = n-1,  2-1=1] skips 4 values and print the next value "
   ]
  },
  {
   "cell_type": "markdown",
   "id": "1f5cd2e9-c46e-460d-9191-257eec51789e",
   "metadata": {},
   "source": [
    "4.for evenly spaced samples:"
   ]
  },
  {
   "cell_type": "code",
   "execution_count": 105,
   "id": "a254db78-1704-4b35-ae78-a7309b58cf03",
   "metadata": {},
   "outputs": [
    {
     "name": "stdout",
     "output_type": "stream",
     "text": [
      "[ 1.          1.47368421  1.94736842  2.42105263  2.89473684  3.36842105\n",
      "  3.84210526  4.31578947  4.78947368  5.26315789  5.73684211  6.21052632\n",
      "  6.68421053  7.15789474  7.63157895  8.10526316  8.57894737  9.05263158\n",
      "  9.52631579 10.        ]\n"
     ]
    }
   ],
   "source": [
    "s=np.linspace(1,10,20)     # [starting,ending , how many ]\n",
    "print(s)"
   ]
  },
  {
   "cell_type": "code",
   "execution_count": 107,
   "id": "5a635664-f914-4d40-9c65-c31634bc19ed",
   "metadata": {},
   "outputs": [
    {
     "name": "stdout",
     "output_type": "stream",
     "text": [
      "[  1.           6.21052632  11.42105263  16.63157895  21.84210526\n",
      "  27.05263158  32.26315789  37.47368421  42.68421053  47.89473684\n",
      "  53.10526316  58.31578947  63.52631579  68.73684211  73.94736842\n",
      "  79.15789474  84.36842105  89.57894737  94.78947368 100.        ]\n"
     ]
    }
   ],
   "source": [
    "s=np.linspace(1,100,20)     # [starting,ending , how many ]\n",
    "print(s)"
   ]
  },
  {
   "cell_type": "code",
   "execution_count": 109,
   "id": "10eab3e8-14cb-460e-ba29-50c0f22d204e",
   "metadata": {},
   "outputs": [
    {
     "name": "stdout",
     "output_type": "stream",
     "text": [
      "[ 1. 15.]\n"
     ]
    }
   ],
   "source": [
    "s=np.linspace(1,15,2)     # [starting,ending , how many times ]\n",
    "print(s)"
   ]
  },
  {
   "cell_type": "code",
   "execution_count": 111,
   "id": "d81140a8-45e2-4d85-a9b2-0e488e679a05",
   "metadata": {},
   "outputs": [
    {
     "name": "stdout",
     "output_type": "stream",
     "text": [
      "[ 1.          1.78947368  2.57894737  3.36842105  4.15789474  4.94736842\n",
      "  5.73684211  6.52631579  7.31578947  8.10526316  8.89473684  9.68421053\n",
      " 10.47368421 11.26315789 12.05263158 12.84210526 13.63157895 14.42105263\n",
      " 15.21052632 16.        ]\n"
     ]
    }
   ],
   "source": [
    "s=np.linspace(1,16,20)     # [starting,ending , how many times ]\n",
    "print(s)"
   ]
  },
  {
   "cell_type": "code",
   "execution_count": 113,
   "id": "9103ba9d-5cba-4feb-a199-a937ff4a3ba5",
   "metadata": {},
   "outputs": [
    {
     "name": "stdout",
     "output_type": "stream",
     "text": [
      "[  1.           8.84210526  16.68421053  24.52631579  32.36842105\n",
      "  40.21052632  48.05263158  55.89473684  63.73684211  71.57894737\n",
      "  79.42105263  87.26315789  95.10526316 102.94736842 110.78947368\n",
      " 118.63157895 126.47368421 134.31578947 142.15789474 150.        ]\n"
     ]
    }
   ],
   "source": [
    "s=np.linspace(1,150,20)     # [starting,ending , how many times ]\n",
    "print(s)"
   ]
  },
  {
   "cell_type": "code",
   "execution_count": null,
   "id": "63470aae-01cf-4193-9ce1-a4ebd73c7668",
   "metadata": {},
   "outputs": [],
   "source": []
  }
 ],
 "metadata": {
  "kernelspec": {
   "display_name": "Python 3 (ipykernel)",
   "language": "python",
   "name": "python3"
  },
  "language_info": {
   "codemirror_mode": {
    "name": "ipython",
    "version": 3
   },
   "file_extension": ".py",
   "mimetype": "text/x-python",
   "name": "python",
   "nbconvert_exporter": "python",
   "pygments_lexer": "ipython3",
   "version": "3.12.4"
  }
 },
 "nbformat": 4,
 "nbformat_minor": 5
}
