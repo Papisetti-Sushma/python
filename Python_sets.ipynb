{
 "cells": [
  {
   "cell_type": "markdown",
   "id": "a11253f9-a653-4343-8b2c-df41c6801c7f",
   "metadata": {},
   "source": [
    "# Define sets"
   ]
  },
  {
   "cell_type": "markdown",
   "id": "c99809b3-4c70-4887-a6ab-65ca5f3a1302",
   "metadata": {},
   "source": [
    "- unordered collections of unique elements.\n",
    "- Defined using curly braces {} and seperated by comas ,.\n",
    "- can store multiple items in a single variable\n",
    "- mutable,doesnot allow elements\n",
    "- provies variety of methods and set operations"
   ]
  },
  {
   "cell_type": "markdown",
   "id": "24476e8b-0fb8-437e-9fa1-ef1e0b4768ce",
   "metadata": {},
   "source": [
    " # Creating sets"
   ]
  },
  {
   "cell_type": "markdown",
   "id": "152f7cc3-6285-4049-8034-4db651f25723",
   "metadata": {},
   "source": [
    "my_set = set([1, 2, 2, 3, 4])  \n",
    "print(my_set)"
   ]
  },
  {
   "cell_type": "code",
   "execution_count": 7,
   "id": "385aa74f-018a-4332-888f-ed467cac3664",
   "metadata": {},
   "outputs": [
    {
     "name": "stdout",
     "output_type": "stream",
     "text": [
      "{1, 2, 3, 4}\n"
     ]
    }
   ],
   "source": [
    "my_set = {1, 2, 3, 4}\n",
    "print(my_set)"
   ]
  },
  {
   "cell_type": "code",
   "execution_count": 9,
   "id": "436f4429-a887-42a0-81b9-24c07a6e1c9e",
   "metadata": {},
   "outputs": [
    {
     "name": "stdout",
     "output_type": "stream",
     "text": [
      "{(2, 3), 1, 3.14, 'apple'}\n"
     ]
    }
   ],
   "source": [
    "mixed_set = {1, 'apple', 3.14, (2, 3)}\n",
    "print(mixed_set)"
   ]
  },
  {
   "cell_type": "code",
   "execution_count": 11,
   "id": "8a63b03e-7538-49c0-8411-1ed3fef53750",
   "metadata": {},
   "outputs": [
    {
     "name": "stdout",
     "output_type": "stream",
     "text": [
      "{1, 2, 3, 4}\n"
     ]
    }
   ],
   "source": [
    "list_example = [1, 2, 2, 3, 4]\n",
    "my_set = set(list_example)\n",
    "print(my_set)"
   ]
  },
  {
   "cell_type": "code",
   "execution_count": 13,
   "id": "f8cbe641-1a65-4b83-a0c0-a07d3ddfa541",
   "metadata": {},
   "outputs": [
    {
     "name": "stdout",
     "output_type": "stream",
     "text": [
      "set()\n"
     ]
    }
   ],
   "source": [
    "empty_set = set()\n",
    "print(empty_set)"
   ]
  },
  {
   "cell_type": "markdown",
   "id": "a4cde57c-8cbb-4d32-8505-0238eb15cb3d",
   "metadata": {},
   "source": [
    "# Adding the element in set"
   ]
  },
  {
   "cell_type": "markdown",
   "id": "67e88e84-ecab-4557-aed5-674fe2a7dbd0",
   "metadata": {},
   "source": [
    "- add items to a set \n",
    "- we use add() "
   ]
  },
  {
   "cell_type": "code",
   "execution_count": 17,
   "id": "e4d699d9-287c-443c-9340-f3d68c092638",
   "metadata": {},
   "outputs": [
    {
     "name": "stdout",
     "output_type": "stream",
     "text": [
      "After adding 4: {1, 2, 3, 4}\n"
     ]
    }
   ],
   "source": [
    "my_set = {1, 2, 3}\n",
    "my_set.add(4)\n",
    "print(\"After adding 4:\", my_set)"
   ]
  },
  {
   "cell_type": "code",
   "execution_count": 19,
   "id": "937f8eab-c41e-4f1b-8305-81aaa992e237",
   "metadata": {},
   "outputs": [
    {
     "name": "stdout",
     "output_type": "stream",
     "text": [
      "After adding 4, 5, 6: {1, 2, 3, 4, 5, 6}\n"
     ]
    }
   ],
   "source": [
    "my_set.update([4, 5, 6])\n",
    "print(\"After adding 4, 5, 6:\", my_set)"
   ]
  },
  {
   "cell_type": "code",
   "execution_count": 23,
   "id": "96174023-5730-4827-9e42-57d2bafe66b7",
   "metadata": {},
   "outputs": [
    {
     "name": "stdout",
     "output_type": "stream",
     "text": [
      "{1, 3.14, 42, (2, 3), 'apple'}\n"
     ]
    }
   ],
   "source": [
    "mixed_set.add((2, 3))  # Adding a tuple\n",
    "mixed_set.add(42) \n",
    "print(mixed_set)"
   ]
  },
  {
   "cell_type": "code",
   "execution_count": 25,
   "id": "5c36e11a-fe9c-44c0-90cb-13108d22e128",
   "metadata": {},
   "outputs": [
    {
     "name": "stdout",
     "output_type": "stream",
     "text": [
      "After trying to add 2 again: {1, 2, 3, 4, 5, 6}\n"
     ]
    }
   ],
   "source": [
    "my_set.add(2)\n",
    "print(\"After trying to add 2 again:\", my_set)"
   ]
  },
  {
   "cell_type": "code",
   "execution_count": 27,
   "id": "074433f3-8b33-4cdf-9ed5-174be1c7cf08",
   "metadata": {},
   "outputs": [
    {
     "name": "stdout",
     "output_type": "stream",
     "text": [
      "{1, 2, 3, 4, 5, 6, 10}\n"
     ]
    }
   ],
   "source": [
    "my_set.add(10)\n",
    "print(my_set)"
   ]
  },
  {
   "cell_type": "markdown",
   "id": "f2c95b1d-ed52-46a6-91f0-5d1f3a382381",
   "metadata": {},
   "source": [
    "# Updating the set:"
   ]
  },
  {
   "cell_type": "markdown",
   "id": "b82ee25d-3d67-44a1-a73a-57f131384b2d",
   "metadata": {},
   "source": [
    "- used to update the set with another collection types\n",
    "- we use update()"
   ]
  },
  {
   "cell_type": "code",
   "execution_count": 31,
   "id": "9717d5f5-6c58-4d29-8812-2fa6b97da6ce",
   "metadata": {},
   "outputs": [
    {
     "name": "stdout",
     "output_type": "stream",
     "text": [
      "After adding from list: {1, 2, 3, 4, 5, 6, 10}\n"
     ]
    }
   ],
   "source": [
    "my_set.update([4, 5, 6])\n",
    "print(\"After adding from list:\", my_set)"
   ]
  },
  {
   "cell_type": "code",
   "execution_count": null,
   "id": "7c1ad684-79eb-44cd-bfd0-fe0efe5f186d",
   "metadata": {},
   "outputs": [],
   "source": [
    "set_a = {1, 2, 3}\n",
    "set_b = {4, 5, 6}\n",
    "set_a.update(set_b)\n",
    "print(\"After updating with another set:\", set_a) "
   ]
  },
  {
   "cell_type": "code",
   "execution_count": 35,
   "id": "64c70a4b-9cd5-4381-b6e8-f554a79aea71",
   "metadata": {},
   "outputs": [
    {
     "name": "stdout",
     "output_type": "stream",
     "text": [
      "After adding from tuple: {1, 2, 3, 4, 5, 6, 10}\n"
     ]
    }
   ],
   "source": [
    "my_set.update((4, 5))\n",
    "print(\"After adding from tuple:\", my_set)"
   ]
  },
  {
   "cell_type": "code",
   "execution_count": 37,
   "id": "ea1f81e9-85a3-4612-b4c7-7f40bd5ab2f6",
   "metadata": {},
   "outputs": [
    {
     "name": "stdout",
     "output_type": "stream",
     "text": [
      "After adding squares: {0, 1, 2, 3, 4, 5, 6, 9, 10}\n"
     ]
    }
   ],
   "source": [
    "my_set.update({x**2 for x in range(4)})\n",
    "print(\"After adding squares:\", my_set)"
   ]
  },
  {
   "cell_type": "code",
   "execution_count": 39,
   "id": "efa8ae1f-a9d8-4421-9304-5fcfab1adf2e",
   "metadata": {},
   "outputs": [
    {
     "name": "stdout",
     "output_type": "stream",
     "text": [
      "After adding from list: {0, 1, 2, 3, 4, 5, 6, 9, 10, 11, 12}\n"
     ]
    }
   ],
   "source": [
    "my_set.update([4, 5, 6,10,11,12])\n",
    "print(\"After adding from list:\", my_set)"
   ]
  },
  {
   "cell_type": "markdown",
   "id": "3fbecf2a-ea11-4462-9496-ec0cc60b4c56",
   "metadata": {},
   "source": [
    "# Removing the item from set"
   ]
  },
  {
   "cell_type": "markdown",
   "id": "07e3a3dc-a1fb-445e-80a8-6a90973d737c",
   "metadata": {},
   "source": [
    "- removes the sepcified element from a set\n",
    "- we use discard()"
   ]
  },
  {
   "cell_type": "code",
   "execution_count": 43,
   "id": "25835759-2b8c-4ec8-8101-ac2a81fff9d7",
   "metadata": {},
   "outputs": [
    {
     "name": "stdout",
     "output_type": "stream",
     "text": [
      "{0, 1, 2, 4, 5, 6, 9, 10, 11, 12}\n"
     ]
    }
   ],
   "source": [
    "my_set.remove(3)\n",
    "print(my_set)"
   ]
  },
  {
   "cell_type": "code",
   "execution_count": 57,
   "id": "afa0b484-9230-4076-b0d8-fcb5cb2caf6b",
   "metadata": {},
   "outputs": [
    {
     "name": "stdout",
     "output_type": "stream",
     "text": [
      "After removing 3: {1, 2, 4, 5}\n"
     ]
    }
   ],
   "source": [
    "my_set = {1, 2, 3, 4, 5}\n",
    "my_set.remove(3)\n",
    "print(\"After removing 3:\", my_set)"
   ]
  },
  {
   "cell_type": "code",
   "execution_count": 59,
   "id": "4b7a92e0-9655-48fe-bb18-11cd6ff31f2d",
   "metadata": {},
   "outputs": [
    {
     "name": "stdout",
     "output_type": "stream",
     "text": [
      "Original set: {1, 2, 3, 4, 5}\n",
      "After discarding 2: {1, 3, 4, 5}\n"
     ]
    }
   ],
   "source": [
    "my_set = {1, 2, 3, 4, 5}\n",
    "print(\"Original set:\", my_set)  \n",
    "\n",
    "my_set.discard(2)\n",
    "print(\"After discarding 2:\", my_set)"
   ]
  },
  {
   "cell_type": "code",
   "execution_count": 61,
   "id": "405b8bb4-313d-4944-8636-0042cd0eb789",
   "metadata": {},
   "outputs": [
    {
     "name": "stdout",
     "output_type": "stream",
     "text": [
      "After trying to discard 10: {1, 3, 4, 5}\n"
     ]
    }
   ],
   "source": [
    "my_set.discard(10) \n",
    "print(\"After trying to discard 10:\", my_set)"
   ]
  },
  {
   "cell_type": "code",
   "execution_count": 63,
   "id": "413f78c0-3352-4ba1-8e6b-5a6387d7d11a",
   "metadata": {},
   "outputs": [
    {
     "name": "stdout",
     "output_type": "stream",
     "text": [
      "Original set: {1, 2, 3, 4, 5}\n",
      "After removing 2 and 4: {1, 3, 5}\n"
     ]
    }
   ],
   "source": [
    "my_set = {1, 2, 3, 4, 5}\n",
    "print(\"Original set:\", my_set)  \n",
    "\n",
    "for item in [2, 4]:\n",
    "    my_set.remove(item)\n",
    "print(\"After removing 2 and 4:\", my_set)"
   ]
  },
  {
   "cell_type": "markdown",
   "id": "328d54e6-2dc7-4776-b692-0fd7cb489b08",
   "metadata": {},
   "source": [
    "# Python operations"
   ]
  },
  {
   "cell_type": "markdown",
   "id": "69c85769-1145-4bed-90dc-06762c4823a9",
   "metadata": {},
   "source": [
    "- provides different built in methods to perform mathematical set operation\n",
    "- like union,difference,intesection"
   ]
  },
  {
   "cell_type": "markdown",
   "id": "9a8c6cbb-5d3c-4603-8075-3907927e1dc2",
   "metadata": {},
   "source": [
    "1.union:"
   ]
  },
  {
   "cell_type": "markdown",
   "id": "02530807-96a9-4cca-adaa-13f14e303460",
   "metadata": {},
   "source": [
    "- the union of two sets A and B include all the elements of set A and set B\n",
    "- combines all the elements from set A and set B\n",
    "- sumbol : |\n",
    "- or set A.union(set B)"
   ]
  },
  {
   "cell_type": "code",
   "execution_count": 71,
   "id": "4fde0fc5-f6f4-4ed8-bf3a-016235a74b18",
   "metadata": {},
   "outputs": [
    {
     "name": "stdout",
     "output_type": "stream",
     "text": [
      "{1, 2, 3, 4, 5}\n"
     ]
    }
   ],
   "source": [
    "set_a = {1, 2, 3}\n",
    "set_b = {3, 4, 5}\n",
    "union_set = set_a | set_b \n",
    "print(union_set)"
   ]
  },
  {
   "cell_type": "code",
   "execution_count": 75,
   "id": "cadc24c8-eac0-405f-b20a-db17923acb2f",
   "metadata": {},
   "outputs": [
    {
     "name": "stdout",
     "output_type": "stream",
     "text": [
      "Union: {1, 2, 3, 4, 5}\n"
     ]
    }
   ],
   "source": [
    "set_a = {1, 2, 3}\n",
    "set_b = {3, 4, 5}\n",
    "union_set = set_a.union(set_b)\n",
    "print(\"Union:\", union_set) "
   ]
  },
  {
   "cell_type": "code",
   "execution_count": 77,
   "id": "d2e77085-6890-46d2-8259-82aef585378d",
   "metadata": {},
   "outputs": [
    {
     "name": "stdout",
     "output_type": "stream",
     "text": [
      "Union of three sets: {1, 2, 3, 4, 5, 6}\n"
     ]
    }
   ],
   "source": [
    "set_a = {1, 2}\n",
    "set_b = {3, 4}\n",
    "set_c = {4, 5, 6}\n",
    "union_set = set_a.union(set_b, set_c)\n",
    "print(\"Union of three sets:\", union_set)"
   ]
  },
  {
   "cell_type": "code",
   "execution_count": 81,
   "id": "7a3ec43f-9f9d-4ea3-aab4-983146253529",
   "metadata": {},
   "outputs": [
    {
     "name": "stdout",
     "output_type": "stream",
     "text": [
      "{1, 2, 3, 4, 5}\n"
     ]
    }
   ],
   "source": [
    "set_a = {1, 2}\n",
    "set_b = {3, 4}\n",
    "set_c = {4, 5}\n",
    "result = set_a.union(set_b, set_c)\n",
    "print(result) "
   ]
  },
  {
   "cell_type": "code",
   "execution_count": 83,
   "id": "fc7e8fdf-4b0e-466e-8f34-e5d2b017dad1",
   "metadata": {},
   "outputs": [
    {
     "name": "stdout",
     "output_type": "stream",
     "text": [
      "{1, 2, 3, 4}\n"
     ]
    }
   ],
   "source": [
    "set_a = {1, 2}\n",
    "set_b = {3, 4}\n",
    "\n",
    "set_a.update(set_b)\n",
    "print(set_a) "
   ]
  },
  {
   "cell_type": "markdown",
   "id": "1e9f9b51-7b11-46bf-aaa8-1b983ea69be2",
   "metadata": {},
   "source": [
    "2.Intersection:"
   ]
  },
  {
   "cell_type": "markdown",
   "id": "8f9e9233-087a-4fce-a77b-7c766f4efef6",
   "metadata": {},
   "source": [
    "- gives common elemnts in set A and set B\n",
    "- symbol : &\n",
    "- or set A.intersection(set B)"
   ]
  },
  {
   "cell_type": "code",
   "execution_count": 89,
   "id": "f4ce799c-fbd8-4979-9ac8-07949643ae09",
   "metadata": {},
   "outputs": [
    {
     "name": "stdout",
     "output_type": "stream",
     "text": [
      "{2, 3}\n"
     ]
    }
   ],
   "source": [
    "set_a = {1, 2, 3}\n",
    "set_b = {2, 3, 4}\n",
    "\n",
    "result = set_a.intersection(set_b)\n",
    "print(result)"
   ]
  },
  {
   "cell_type": "code",
   "execution_count": 92,
   "id": "79db45c8-8fbc-47ed-b704-a46215b44219",
   "metadata": {},
   "outputs": [
    {
     "name": "stdout",
     "output_type": "stream",
     "text": [
      "{2, 3}\n"
     ]
    }
   ],
   "source": [
    "set_a = {1, 2, 3}\n",
    "set_b = {2, 3, 4}\n",
    "\n",
    "result = set_a & set_b\n",
    "print(result)"
   ]
  },
  {
   "cell_type": "code",
   "execution_count": 94,
   "id": "25f74c10-6b1b-481d-a90f-6f1603667c69",
   "metadata": {},
   "outputs": [
    {
     "name": "stdout",
     "output_type": "stream",
     "text": [
      "{3}\n"
     ]
    }
   ],
   "source": [
    "set_a = {1, 2, 3, 3} \n",
    "set_b = {3, 4, 5}\n",
    "result = set_a.intersection(set_b)\n",
    "print(result)"
   ]
  },
  {
   "cell_type": "code",
   "execution_count": 104,
   "id": "33024447-86e7-42ac-a58d-b9a6ff625785",
   "metadata": {},
   "outputs": [
    {
     "name": "stdout",
     "output_type": "stream",
     "text": [
      "{3, 4}\n"
     ]
    }
   ],
   "source": [
    "set_a = {1, 2, 3, 4}\n",
    "set_b = {2, 3, 4}\n",
    "set_c = {3, 5,4}\n",
    "result = set_a.intersection(set_b, set_c)\n",
    "print(result)"
   ]
  },
  {
   "cell_type": "code",
   "execution_count": 106,
   "id": "d2ed11f5-0df7-4793-be13-17104bfacbf3",
   "metadata": {},
   "outputs": [
    {
     "name": "stdout",
     "output_type": "stream",
     "text": [
      "{2.5, 'apple'}\n"
     ]
    }
   ],
   "source": [
    "set_a = {1, 'apple', 2.5}\n",
    "set_b = {2.5, 'banana', 'apple'}\n",
    "result = set_a & set_b\n",
    "print(result) "
   ]
  },
  {
   "cell_type": "markdown",
   "id": "ce5bee77-d9bf-44d5-958f-11988d38018d",
   "metadata": {},
   "source": [
    "3.Difference:"
   ]
  },
  {
   "cell_type": "markdown",
   "id": "88d826ab-6fc0-4afe-8ff5-6c94defc7bed",
   "metadata": {},
   "source": [
    "- returns all the elements in set A not in set B\n",
    "- no common items\n",
    "- symbol : -\n",
    "- or setA.difference(set B)"
   ]
  },
  {
   "cell_type": "code",
   "execution_count": 110,
   "id": "aa204fa2-1f06-4a0b-bc46-41dab94ed2c7",
   "metadata": {},
   "outputs": [
    {
     "name": "stdout",
     "output_type": "stream",
     "text": [
      "{1}\n"
     ]
    }
   ],
   "source": [
    "set_a = {1, 2, 3}\n",
    "set_b = {2, 3, 4}\n",
    "result = set_a.difference(set_b)\n",
    "print(result)"
   ]
  },
  {
   "cell_type": "code",
   "execution_count": 112,
   "id": "472fae63-ad78-4a59-af41-9c8fd6263220",
   "metadata": {},
   "outputs": [
    {
     "name": "stdout",
     "output_type": "stream",
     "text": [
      "{1}\n"
     ]
    }
   ],
   "source": [
    "set_a = {1, 2, 3}\n",
    "set_b = {2, 3, 4}\n",
    "result = set_a - set_b\n",
    "print(result)"
   ]
  },
  {
   "cell_type": "code",
   "execution_count": 115,
   "id": "1387a16b-e1f5-4b66-8386-af55c83b47eb",
   "metadata": {},
   "outputs": [
    {
     "name": "stdout",
     "output_type": "stream",
     "text": [
      "{1}\n"
     ]
    }
   ],
   "source": [
    "set_a = {1, 2, 2, 3}\n",
    "set_b = {2, 3, 4}\n",
    "result = set_a.difference(set_b)\n",
    "print(result)"
   ]
  },
  {
   "cell_type": "code",
   "execution_count": 121,
   "id": "cbf4408f-7faf-44c9-8829-77a5aaa46eff",
   "metadata": {},
   "outputs": [
    {
     "name": "stdout",
     "output_type": "stream",
     "text": [
      "{1}\n"
     ]
    }
   ],
   "source": [
    "set_a = {1, 2, 3}\n",
    "set_b = {2, 3, 4}\n",
    "set_c = {3, 5,2}\n",
    "result = set_a.difference(set_b, set_c)\n",
    "print(result)"
   ]
  },
  {
   "cell_type": "markdown",
   "id": "ec77f309-445a-442a-97bf-2a4b3cb479fa",
   "metadata": {},
   "source": [
    "4.symmetric Difference:"
   ]
  },
  {
   "cell_type": "markdown",
   "id": "ec16523a-c739-4737-9fdd-c3b7c40b1c50",
   "metadata": {},
   "source": [
    "- returns all the elements in both sets A and B \n",
    "- but no common elements\n",
    "- symbol : ^\n",
    "- or A.Symmetric_difference(B)"
   ]
  },
  {
   "cell_type": "code",
   "execution_count": 127,
   "id": "f53d748e-bc85-42d5-9b7c-4dc465e622c7",
   "metadata": {},
   "outputs": [
    {
     "name": "stdout",
     "output_type": "stream",
     "text": [
      "{1, 2, 4, 5}\n"
     ]
    }
   ],
   "source": [
    "set_a = {1, 2, 3}\n",
    "set_b = {3, 4, 5}\n",
    "result = set_a.symmetric_difference(set_b)\n",
    "print(result)"
   ]
  },
  {
   "cell_type": "code",
   "execution_count": 129,
   "id": "ea20b10f-d0e4-4c69-9d08-48bdb3ba2339",
   "metadata": {},
   "outputs": [
    {
     "name": "stdout",
     "output_type": "stream",
     "text": [
      "{1, 2, 4, 5}\n"
     ]
    }
   ],
   "source": [
    "set_a = {1, 2, 3}\n",
    "set_b = {3, 4, 5}\n",
    "result = set_a ^ set_b\n",
    "print(result)"
   ]
  },
  {
   "cell_type": "code",
   "execution_count": 131,
   "id": "f6eb4a6a-7394-4b8b-9b23-75db8bfd4134",
   "metadata": {},
   "outputs": [
    {
     "name": "stdout",
     "output_type": "stream",
     "text": [
      "{1, 2, 4, 5}\n"
     ]
    }
   ],
   "source": [
    "set_a = {1, 2, 2, 3}\n",
    "set_b = {3, 4, 5}\n",
    "result = set_a.symmetric_difference(set_b)\n",
    "print(result)"
   ]
  },
  {
   "cell_type": "code",
   "execution_count": 133,
   "id": "f6a3931a-5850-4c38-a81c-f065f803dc29",
   "metadata": {},
   "outputs": [
    {
     "name": "stdout",
     "output_type": "stream",
     "text": [
      "{1, 4}\n"
     ]
    }
   ],
   "source": [
    "set_a = {1, 2}\n",
    "set_b = {2, 3}\n",
    "set_c = {3, 4}\n",
    "result = set_a.symmetric_difference(set_b).symmetric_difference(set_c)\n",
    "print(result)"
   ]
  },
  {
   "cell_type": "code",
   "execution_count": 135,
   "id": "c33558ff-53f4-410b-ac17-8689c0aa06b2",
   "metadata": {},
   "outputs": [
    {
     "name": "stdout",
     "output_type": "stream",
     "text": [
      "{1, 2}\n"
     ]
    }
   ],
   "source": [
    "set_a = {1, 'apple'}\n",
    "set_b = {'apple', 2}\n",
    "result = set_a.symmetric_difference(set_b)\n",
    "print(result)"
   ]
  },
  {
   "cell_type": "code",
   "execution_count": null,
   "id": "1e2aef10-e7a4-4bd0-95ec-04b5f508dba4",
   "metadata": {},
   "outputs": [],
   "source": []
  }
 ],
 "metadata": {
  "kernelspec": {
   "display_name": "Python 3 (ipykernel)",
   "language": "python",
   "name": "python3"
  },
  "language_info": {
   "codemirror_mode": {
    "name": "ipython",
    "version": 3
   },
   "file_extension": ".py",
   "mimetype": "text/x-python",
   "name": "python",
   "nbconvert_exporter": "python",
   "pygments_lexer": "ipython3",
   "version": "3.12.4"
  }
 },
 "nbformat": 4,
 "nbformat_minor": 5
}
