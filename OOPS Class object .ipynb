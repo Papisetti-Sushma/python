{
 "cells": [
  {
   "cell_type": "markdown",
   "id": "f1758328-adf6-4a03-bec8-1e8a01c3d7a9",
   "metadata": {},
   "source": [
    "# OOPS :"
   ]
  },
  {
   "cell_type": "markdown",
   "id": "12c8ad9f-8746-4045-ab67-0259b989eefe",
   "metadata": {},
   "source": [
    "- Object Oriented Programming Language\n",
    "- It deals with real world objects\n",
    "- there are 4 pillars for oops\n",
    "  - Inheritence\n",
    "  - abstarction\n",
    "  - polymorphism\n",
    "  - encapsulation\n",
    "- and there are classes and objects in oops"
   ]
  },
  {
   "cell_type": "markdown",
   "id": "9c3de113-a2f1-430d-aa59-120cc67ea9e1",
   "metadata": {},
   "source": [
    "OOPS: bind the data and the functions that work together as a single unit so that no other part of the code can access the data ."
   ]
  },
  {
   "cell_type": "markdown",
   "id": "6b14609c-3df9-401b-8ad3-473196a96e7c",
   "metadata": {},
   "source": [
    "# Class:"
   ]
  },
  {
   "cell_type": "markdown",
   "id": "aa26592f-8bc7-4f88-98f9-a13f07f036ee",
   "metadata": {},
   "source": [
    "- collection of objects\n",
    "- conatins the blueprint or the prototypes of the objects\n",
    "- in one class we can wirte n no. of functions\n",
    "- syntax:\n",
    "   classname():"
   ]
  },
  {
   "cell_type": "markdown",
   "id": "a1c88307-5068-4033-81cf-0d5d226d2fc0",
   "metadata": {},
   "source": [
    "# Object:"
   ]
  },
  {
   "cell_type": "markdown",
   "id": "0a38c845-042a-444e-9485-4aa2a7a05c77",
   "metadata": {},
   "source": [
    "- which is behaviour and state associated in it\n",
    "- it is a instence of the class"
   ]
  },
  {
   "cell_type": "code",
   "execution_count": 13,
   "id": "304f55d9-73ea-4f88-b3d3-74094d9801a5",
   "metadata": {},
   "outputs": [
    {
     "name": "stdout",
     "output_type": "stream",
     "text": [
      "5\n",
      "hello\n"
     ]
    }
   ],
   "source": [
    "class myclass:\n",
    "    x=5\n",
    "    u=\"hello\"\n",
    "obj1=myclass()\n",
    "print(obj1.x)\n",
    "print(obj1.u)"
   ]
  },
  {
   "cell_type": "code",
   "execution_count": 15,
   "id": "c25946c3-f903-4f69-900b-5502b63b63b3",
   "metadata": {},
   "outputs": [
    {
     "name": "stdout",
     "output_type": "stream",
     "text": [
      "welcome to data science class at 5:30pm\n"
     ]
    }
   ],
   "source": [
    "class data:\n",
    "    d=\"welcome to data science class at 5:30pm\"\n",
    "obj=data()\n",
    "print(obj.d)"
   ]
  },
  {
   "cell_type": "code",
   "execution_count": 17,
   "id": "38c49e45-ec68-435b-bb6d-81a319edcbb1",
   "metadata": {},
   "outputs": [
    {
     "name": "stdout",
     "output_type": "stream",
     "text": [
      "my name is sushma\n"
     ]
    }
   ],
   "source": [
    "class name:\n",
    "    s=\"my name is sushma\"\n",
    "a=name()\n",
    "print(a.s)"
   ]
  },
  {
   "cell_type": "code",
   "execution_count": 35,
   "id": "d39007da-2be9-46e1-ba45-e5f1c93d253e",
   "metadata": {},
   "outputs": [
    {
     "name": "stdout",
     "output_type": "stream",
     "text": [
      "max is 5 years old\n"
     ]
    }
   ],
   "source": [
    "class Dog:\n",
    "    def __init__(self,name,age):\n",
    "        self.name=name\n",
    "        self.age=age\n",
    "    def bark(self):\n",
    "        print(\"bow bow\")\n",
    "\n",
    "dog1=Dog(\"max\",5)\n",
    "print(f'{dog1.name} is {dog1.age} years old')"
   ]
  },
  {
   "cell_type": "code",
   "execution_count": 37,
   "id": "cf3d0ec6-73ee-48ce-add0-78fc40f292bc",
   "metadata": {},
   "outputs": [
    {
     "name": "stdout",
     "output_type": "stream",
     "text": [
      "Buddy is 6 years old\n"
     ]
    }
   ],
   "source": [
    "dog2=Dog(\"Buddy\",6)\n",
    "print(f'{dog2.name} is {dog2.age} years old')"
   ]
  },
  {
   "cell_type": "code",
   "execution_count": 39,
   "id": "10c9772a-6860-4db4-9f5c-a5a8c274cc15",
   "metadata": {},
   "outputs": [
    {
     "name": "stdout",
     "output_type": "stream",
     "text": [
      "bow bow\n"
     ]
    }
   ],
   "source": [
    "dog1.bark()"
   ]
  },
  {
   "cell_type": "code",
   "execution_count": 41,
   "id": "f6c07c91-bc66-4b61-a0a7-dc1ca6a7876c",
   "metadata": {},
   "outputs": [
    {
     "name": "stdout",
     "output_type": "stream",
     "text": [
      "bow bow\n"
     ]
    }
   ],
   "source": [
    "dog2.bark()"
   ]
  },
  {
   "cell_type": "code",
   "execution_count": 77,
   "id": "7d689427-4227-4c12-bea9-3ace31d05d8e",
   "metadata": {},
   "outputs": [],
   "source": [
    "class Hospital:\n",
    "    def __init__(self,name, disease):\n",
    "        self.name = name\n",
    "        self.disease = disease\n",
    "    \n",
    "    def die(self):\n",
    "        print(\"gone\")"
   ]
  },
  {
   "cell_type": "code",
   "execution_count": 61,
   "id": "b0e04fcc-64b1-46e9-b4db-f66514da88f2",
   "metadata": {},
   "outputs": [
    {
     "name": "stdout",
     "output_type": "stream",
     "text": [
      "djbeid had gone at the age of 90\n"
     ]
    }
   ],
   "source": [
    "a=Hospital(\"djbeid\",90)\n",
    "print(f'{a.name} had gone at the age of {a.disease}')"
   ]
  },
  {
   "cell_type": "code",
   "execution_count": 69,
   "id": "f27404a2-b8e2-48ed-ac4f-a296d7369af8",
   "metadata": {},
   "outputs": [
    {
     "name": "stdout",
     "output_type": "stream",
     "text": [
      "student name is sushma and 20 years old\n",
      "student name is Harsha and 19 years old\n"
     ]
    }
   ],
   "source": [
    "class student:\n",
    "    def __init__(self,name,age):\n",
    "        self.name=name\n",
    "        self.age=age\n",
    "\n",
    "s1=student(\"sushma\",20)\n",
    "s2=student(\"Harsha\",19)\n",
    "print(f'student name is {s1.name} and {s1.age} years old')\n",
    "print(f'student name is {s2.name} and {s2.age} years old')"
   ]
  },
  {
   "cell_type": "code",
   "execution_count": 89,
   "id": "545196a3-87bd-487f-9758-f644bd6f10b5",
   "metadata": {},
   "outputs": [
    {
     "ename": "AttributeError",
     "evalue": "'transport' object has no attribute 'name'",
     "output_type": "error",
     "traceback": [
      "\u001b[1;31m---------------------------------------------------------------------------\u001b[0m",
      "\u001b[1;31mAttributeError\u001b[0m                            Traceback (most recent call last)",
      "Cell \u001b[1;32mIn[89], line 10\u001b[0m\n\u001b[0;32m      6\u001b[0m         \u001b[38;5;28mprint\u001b[39m(\u001b[38;5;124m\"\u001b[39m\u001b[38;5;124mpeep peep\u001b[39m\u001b[38;5;124m\"\u001b[39m)\n\u001b[0;32m      9\u001b[0m v1\u001b[38;5;241m=\u001b[39mtransport(\u001b[38;5;124m\"\u001b[39m\u001b[38;5;124mLorry\u001b[39m\u001b[38;5;124m\"\u001b[39m,\u001b[38;5;241m8\u001b[39m)\n\u001b[1;32m---> 10\u001b[0m \u001b[38;5;28mprint\u001b[39m(\u001b[38;5;124mf\u001b[39m\u001b[38;5;124m'\u001b[39m\u001b[38;5;132;01m{\u001b[39;00mv1\u001b[38;5;241m.\u001b[39mname\u001b[38;5;132;01m}\u001b[39;00m\u001b[38;5;124m is number is \u001b[39m\u001b[38;5;132;01m{\u001b[39;00mv1\u001b[38;5;241m.\u001b[39mnumber\u001b[38;5;132;01m}\u001b[39;00m\u001b[38;5;124m'\u001b[39m)\n",
      "\u001b[1;31mAttributeError\u001b[0m: 'transport' object has no attribute 'name'"
     ]
    }
   ],
   "source": [
    "class transport():\n",
    "    def __init__(self,vehiclename,number):\n",
    "        self.vehiclename=vehiclename\n",
    "        self.number=number\n",
    "    def hirn(self):\n",
    "        print(\"peep peep\")\n",
    "\n",
    "\n",
    "v1=transport(\"Lorry\",8)\n",
    "print(f'{v1.name} is number is {v1.number}')"
   ]
  },
  {
   "cell_type": "code",
   "execution_count": null,
   "id": "c057819b-03e9-4e5b-ae85-1309f12d75f7",
   "metadata": {},
   "outputs": [],
   "source": []
  }
 ],
 "metadata": {
  "kernelspec": {
   "display_name": "Python 3 (ipykernel)",
   "language": "python",
   "name": "python3"
  },
  "language_info": {
   "codemirror_mode": {
    "name": "ipython",
    "version": 3
   },
   "file_extension": ".py",
   "mimetype": "text/x-python",
   "name": "python",
   "nbconvert_exporter": "python",
   "pygments_lexer": "ipython3",
   "version": "3.12.4"
  }
 },
 "nbformat": 4,
 "nbformat_minor": 5
}
