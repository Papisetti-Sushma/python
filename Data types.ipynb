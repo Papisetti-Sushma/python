{
 "cells": [
  {
   "cell_type": "markdown",
   "id": "f63a343d-0799-4f91-a937-de2bb4e0ad1b",
   "metadata": {},
   "source": [
    "# 1) Explain about data types?\n",
    "\n",
    "- data type refers to the type of value the variable stores.\n",
    "- There are two types of data types :\n",
    "  1. primitive data type\n",
    "  2. non - primitive data type"
   ]
  },
  {
   "cell_type": "markdown",
   "id": "485ba89e-3c3f-4196-84bf-ba79d82f1ec1",
   "metadata": {},
   "source": [
    "# 2) Explain different types of Data types?\n",
    "\n",
    "1. Primitive data type :\n",
    "\n",
    "   - Primitive data structure is a fundamental type of data structure that stores the data of only one type\n",
    "   - There are 4 types of data types ( int, float, complex, boolean)\n",
    "   - Int :\n",
    "      - Represents whole numbers without any decimal points\n",
    "      - Examples: -3, 0, 42\n",
    "        \n",
    "   - Float :\n",
    "     - Represents real numbers with decimal points\n",
    "     - examples: 3.14, -0.001, 2.0\n",
    "       \n",
    "   - Complex :\n",
    "      -  Represents complex numbers, which have a real part and an imaginary part.\n",
    "      -  examples: 4+7j , 0j , 3452+65j\n",
    "    \n",
    "2. Non primitive data type :\n",
    "\n",
    "   - They can store multiple values and provide more functionality\n",
    "   - There are 5 types ( list,strings,tuples,dictonary ,set)\n"
   ]
  },
  {
   "cell_type": "code",
   "execution_count": null,
   "id": "20335bd9-f97e-4b95-b062-a596032b3160",
   "metadata": {},
   "outputs": [],
   "source": [
    "a=1"
   ]
  },
  {
   "cell_type": "code",
   "execution_count": 2,
   "id": "5f746245-1c54-484b-9f32-afca862de426",
   "metadata": {},
   "outputs": [],
   "source": [
    "b=56.7"
   ]
  },
  {
   "cell_type": "code",
   "execution_count": 6,
   "id": "38a7454c-95ee-4c12-ac43-1835e44d8082",
   "metadata": {},
   "outputs": [],
   "source": [
    "c=34+9j"
   ]
  },
  {
   "cell_type": "code",
   "execution_count": 8,
   "id": "eb24591a-f675-461e-942e-b99f3a62ec53",
   "metadata": {},
   "outputs": [
    {
     "name": "stdout",
     "output_type": "stream",
     "text": [
      "<class 'int'>\n"
     ]
    }
   ],
   "source": [
    "a=453\n",
    "b=45+0j\n",
    "m=5438.6\n",
    "print(type(a))"
   ]
  },
  {
   "cell_type": "code",
   "execution_count": 10,
   "id": "7af4b88a-c8ab-4d05-ab65-3730c286a5e9",
   "metadata": {},
   "outputs": [
    {
     "name": "stdout",
     "output_type": "stream",
     "text": [
      "<class 'complex'>\n"
     ]
    }
   ],
   "source": [
    "print(type(b))"
   ]
  },
  {
   "cell_type": "code",
   "execution_count": 12,
   "id": "533f1e86-8049-4f89-9b24-31f7d32f0383",
   "metadata": {},
   "outputs": [
    {
     "name": "stdout",
     "output_type": "stream",
     "text": [
      "<class 'complex'>\n"
     ]
    }
   ],
   "source": [
    "print(type(c))"
   ]
  },
  {
   "cell_type": "code",
   "execution_count": 16,
   "id": "3f97a1f2-789d-43df-a872-7a99e83d42f3",
   "metadata": {},
   "outputs": [
    {
     "name": "stdout",
     "output_type": "stream",
     "text": [
      "<class 'complex'>\n"
     ]
    }
   ],
   "source": [
    "sushma = 45+0j\n",
    "print(type(sushma))"
   ]
  },
  {
   "cell_type": "code",
   "execution_count": 18,
   "id": "82d6158d-f2fe-4216-9e03-a450854b8a01",
   "metadata": {},
   "outputs": [],
   "source": [
    "_friends = 34"
   ]
  },
  {
   "cell_type": "code",
   "execution_count": 20,
   "id": "0e062efd-e906-4921-8f24-b4f403c392bd",
   "metadata": {},
   "outputs": [
    {
     "name": "stdout",
     "output_type": "stream",
     "text": [
      "<class 'int'>\n"
     ]
    }
   ],
   "source": [
    "print(type(_friends))"
   ]
  },
  {
   "cell_type": "code",
   "execution_count": 22,
   "id": "6f650ffd-66bc-4f71-aba6-8df73d232a0b",
   "metadata": {},
   "outputs": [],
   "source": [
    "sushma = 342\n",
    "college = 43+012J\n",
    "sathyabama = 32.5"
   ]
  },
  {
   "cell_type": "code",
   "execution_count": 26,
   "id": "271d6800-869e-467b-a794-071fdfff65f7",
   "metadata": {},
   "outputs": [
    {
     "name": "stdout",
     "output_type": "stream",
     "text": [
      "<class 'int'>\n"
     ]
    }
   ],
   "source": [
    "print(type(sushma))"
   ]
  },
  {
   "cell_type": "code",
   "execution_count": 28,
   "id": "a4e3f827-123c-457a-8c97-b4d34db9afc3",
   "metadata": {},
   "outputs": [
    {
     "name": "stdout",
     "output_type": "stream",
     "text": [
      "<class 'complex'>\n"
     ]
    }
   ],
   "source": [
    "print(type(college))"
   ]
  },
  {
   "cell_type": "code",
   "execution_count": 30,
   "id": "6bf249e9-a386-4061-aca0-d6d2cc20a61b",
   "metadata": {},
   "outputs": [
    {
     "name": "stdout",
     "output_type": "stream",
     "text": [
      "<class 'float'>\n"
     ]
    }
   ],
   "source": [
    "print(type(sathyabama))"
   ]
  },
  {
   "cell_type": "code",
   "execution_count": 32,
   "id": "843ea9bb-678a-4f31-812f-8ef693c06512",
   "metadata": {},
   "outputs": [],
   "source": [
    "int = 23"
   ]
  },
  {
   "cell_type": "code",
   "execution_count": 34,
   "id": "2e675b02-e241-4e23-95c6-a8bec13924fb",
   "metadata": {},
   "outputs": [
    {
     "name": "stdout",
     "output_type": "stream",
     "text": [
      "<class 'int'>\n"
     ]
    }
   ],
   "source": [
    "print(type(int))"
   ]
  },
  {
   "cell_type": "code",
   "execution_count": 36,
   "id": "9b3e36ee-6b31-4726-93f0-0f32e5087430",
   "metadata": {},
   "outputs": [],
   "source": [
    "complex=23+0j"
   ]
  },
  {
   "cell_type": "code",
   "execution_count": 38,
   "id": "53abe662-3589-4349-9f65-ff3568a46c06",
   "metadata": {},
   "outputs": [
    {
     "name": "stdout",
     "output_type": "stream",
     "text": [
      "<class 'complex'>\n"
     ]
    }
   ],
   "source": [
    "print(type(complex))"
   ]
  },
  {
   "cell_type": "code",
   "execution_count": 40,
   "id": "dc3c2036-601c-47a6-a267-81817a34320e",
   "metadata": {},
   "outputs": [],
   "source": [
    "float = 32.6"
   ]
  },
  {
   "cell_type": "code",
   "execution_count": 42,
   "id": "016553f2-f91b-47bc-8c0b-7a8781327574",
   "metadata": {},
   "outputs": [
    {
     "name": "stdout",
     "output_type": "stream",
     "text": [
      "<class 'float'>\n"
     ]
    }
   ],
   "source": [
    "print(type(float))"
   ]
  },
  {
   "cell_type": "code",
   "execution_count": 44,
   "id": "b4d9ba96-9d33-431f-bde3-a205776e15a7",
   "metadata": {},
   "outputs": [],
   "source": [
    "keerthi = 23"
   ]
  },
  {
   "cell_type": "code",
   "execution_count": 46,
   "id": "0c3c3af8-2c9c-416e-a63b-c30d1a152e58",
   "metadata": {},
   "outputs": [
    {
     "name": "stdout",
     "output_type": "stream",
     "text": [
      "<class 'int'>\n"
     ]
    }
   ],
   "source": [
    "print(type(keerthi))"
   ]
  },
  {
   "cell_type": "code",
   "execution_count": 50,
   "id": "c2006bc1-37be-4736-af45-75c14c603d4f",
   "metadata": {},
   "outputs": [],
   "source": [
    "hi = 20.9J"
   ]
  },
  {
   "cell_type": "code",
   "execution_count": 52,
   "id": "993d01e1-6aaa-4d75-ab32-d0debbebac80",
   "metadata": {},
   "outputs": [
    {
     "name": "stdout",
     "output_type": "stream",
     "text": [
      "<class 'complex'>\n"
     ]
    }
   ],
   "source": [
    "print(type(hi))"
   ]
  },
  {
   "cell_type": "code",
   "execution_count": 56,
   "id": "fb2177c4-3c00-4891-9498-97751edbe6f4",
   "metadata": {},
   "outputs": [],
   "source": [
    "datatypes = 1,2,3,4"
   ]
  },
  {
   "cell_type": "code",
   "execution_count": 58,
   "id": "4b7c09f3-eb06-451f-ac5f-ee5efe3d04ca",
   "metadata": {},
   "outputs": [],
   "source": [
    "single = 1"
   ]
  },
  {
   "cell_type": "code",
   "execution_count": 60,
   "id": "a95ff1c4-c5f5-4c53-9b32-c31655f7007b",
   "metadata": {},
   "outputs": [
    {
     "name": "stdout",
     "output_type": "stream",
     "text": [
      "<class 'int'>\n"
     ]
    }
   ],
   "source": [
    "print(type(single))"
   ]
  },
  {
   "cell_type": "code",
   "execution_count": 62,
   "id": "81d24c21-3463-4e0f-a43e-c2909fc23345",
   "metadata": {},
   "outputs": [],
   "source": [
    "laptop = 23"
   ]
  },
  {
   "cell_type": "code",
   "execution_count": 64,
   "id": "336ffa70-cef7-452f-ae90-0ebd76f93afb",
   "metadata": {},
   "outputs": [
    {
     "name": "stdout",
     "output_type": "stream",
     "text": [
      "<class 'int'>\n"
     ]
    }
   ],
   "source": [
    "print(type(laptop))"
   ]
  },
  {
   "cell_type": "code",
   "execution_count": 66,
   "id": "4ddb77ea-bb5b-4a34-b593-38728b3c4890",
   "metadata": {},
   "outputs": [],
   "source": [
    "laptop=43+0j"
   ]
  },
  {
   "cell_type": "code",
   "execution_count": 68,
   "id": "7696a5f1-be01-4a95-a1e1-73e9f4eafcf6",
   "metadata": {},
   "outputs": [
    {
     "name": "stdout",
     "output_type": "stream",
     "text": [
      "<class 'complex'>\n"
     ]
    }
   ],
   "source": [
    "print(type(laptop))"
   ]
  },
  {
   "cell_type": "code",
   "execution_count": 70,
   "id": "4422d3ef-49f6-4eff-b931-eddff5d1023b",
   "metadata": {},
   "outputs": [],
   "source": [
    "laptop=23.4"
   ]
  },
  {
   "cell_type": "code",
   "execution_count": 72,
   "id": "94cbd345-a371-45f2-bb47-7823a1a84f95",
   "metadata": {},
   "outputs": [
    {
     "name": "stdout",
     "output_type": "stream",
     "text": [
      "<class 'float'>\n"
     ]
    }
   ],
   "source": [
    "print(type(laptop))"
   ]
  },
  {
   "cell_type": "code",
   "execution_count": 74,
   "id": "b9e70e57-680c-4c7d-9696-223754b93c1d",
   "metadata": {},
   "outputs": [],
   "source": [
    "college = 23.432"
   ]
  },
  {
   "cell_type": "code",
   "execution_count": 76,
   "id": "4dbf05f4-4bb0-4ddb-9f1d-4ecd7b6b94d6",
   "metadata": {},
   "outputs": [
    {
     "name": "stdout",
     "output_type": "stream",
     "text": [
      "<class 'float'>\n"
     ]
    }
   ],
   "source": [
    "print(type(college))"
   ]
  },
  {
   "cell_type": "code",
   "execution_count": 78,
   "id": "657b4113-b789-4ff2-942b-1f68f2b6a2a5",
   "metadata": {},
   "outputs": [
    {
     "name": "stdout",
     "output_type": "stream",
     "text": [
      "23.432\n"
     ]
    }
   ],
   "source": [
    "print(college)"
   ]
  },
  {
   "cell_type": "code",
   "execution_count": 80,
   "id": "55c1cbe2-579d-416c-bb62-d3805d608f90",
   "metadata": {},
   "outputs": [],
   "source": [
    "student = 34+7j"
   ]
  },
  {
   "cell_type": "code",
   "execution_count": 88,
   "id": "40cb40e1-cd4c-4367-b2cc-c120b9d29e2e",
   "metadata": {},
   "outputs": [
    {
     "name": "stdout",
     "output_type": "stream",
     "text": [
      "<class 'complex'>\n"
     ]
    }
   ],
   "source": [
    "print(type(student))"
   ]
  },
  {
   "cell_type": "code",
   "execution_count": 90,
   "id": "9dec88d0-f296-4be3-8b32-c11457ca7ed5",
   "metadata": {},
   "outputs": [
    {
     "name": "stdout",
     "output_type": "stream",
     "text": [
      "(34+7j)\n"
     ]
    }
   ],
   "source": [
    "print(student)"
   ]
  },
  {
   "cell_type": "code",
   "execution_count": 92,
   "id": "928ad42e-c039-4d83-be44-865194f8f95b",
   "metadata": {},
   "outputs": [],
   "source": [
    "family = 23.43"
   ]
  },
  {
   "cell_type": "code",
   "execution_count": 94,
   "id": "65e25014-79f6-4cf8-9c16-0901a5b955e5",
   "metadata": {},
   "outputs": [
    {
     "name": "stdout",
     "output_type": "stream",
     "text": [
      "23.43\n"
     ]
    }
   ],
   "source": [
    "print(family)"
   ]
  },
  {
   "cell_type": "code",
   "execution_count": 96,
   "id": "c213f878-80e3-4ab2-954e-535cba46ab4f",
   "metadata": {},
   "outputs": [
    {
     "name": "stdout",
     "output_type": "stream",
     "text": [
      "<class 'float'>\n"
     ]
    }
   ],
   "source": [
    "print(type(family))"
   ]
  },
  {
   "cell_type": "code",
   "execution_count": 98,
   "id": "576c9d81-8f73-4859-8336-22f786f354f3",
   "metadata": {},
   "outputs": [],
   "source": [
    "apps = 32.9j"
   ]
  },
  {
   "cell_type": "code",
   "execution_count": 100,
   "id": "cbf832b8-c441-47b0-ae6b-bf24dc41468e",
   "metadata": {},
   "outputs": [
    {
     "name": "stdout",
     "output_type": "stream",
     "text": [
      "32.9j\n"
     ]
    }
   ],
   "source": [
    "print(apps)"
   ]
  },
  {
   "cell_type": "code",
   "execution_count": 102,
   "id": "58876b46-e54c-4c72-b01f-304f4585b7f1",
   "metadata": {},
   "outputs": [
    {
     "name": "stdout",
     "output_type": "stream",
     "text": [
      "<class 'complex'>\n"
     ]
    }
   ],
   "source": [
    "print(type(apps))"
   ]
  },
  {
   "cell_type": "code",
   "execution_count": 104,
   "id": "646cc8cc-2c2f-46f5-ad19-2e2d79aaaaa0",
   "metadata": {},
   "outputs": [],
   "source": [
    "notebook = 32+0j"
   ]
  },
  {
   "cell_type": "code",
   "execution_count": 106,
   "id": "98c17c27-2a6f-4543-9f2e-9dda4583e33e",
   "metadata": {},
   "outputs": [
    {
     "name": "stdout",
     "output_type": "stream",
     "text": [
      "<class 'complex'>\n"
     ]
    }
   ],
   "source": [
    "print(type(notebook))"
   ]
  },
  {
   "cell_type": "code",
   "execution_count": null,
   "id": "f4a7bfb9-f5f0-41d9-a058-5123fd187b53",
   "metadata": {},
   "outputs": [],
   "source": []
  }
 ],
 "metadata": {
  "kernelspec": {
   "display_name": "Python 3 (ipykernel)",
   "language": "python",
   "name": "python3"
  },
  "language_info": {
   "codemirror_mode": {
    "name": "ipython",
    "version": 3
   },
   "file_extension": ".py",
   "mimetype": "text/x-python",
   "name": "python",
   "nbconvert_exporter": "python",
   "pygments_lexer": "ipython3",
   "version": "3.12.4"
  }
 },
 "nbformat": 4,
 "nbformat_minor": 5
}
