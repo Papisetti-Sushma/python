{
 "cells": [
  {
   "cell_type": "markdown",
   "id": "dc4567cf-6ce9-4148-b21e-38a74a65f2ab",
   "metadata": {},
   "source": [
    "# Inheritence"
   ]
  },
  {
   "cell_type": "markdown",
   "id": "e48b448f-14dd-406d-b22c-04003f23bd57",
   "metadata": {},
   "source": [
    "- way of creating a new class from an existing class without any mofifying it\n",
    "- The newly formed class is derived class and also called as Child class\n",
    "- The existing class is called base class or Child class"
   ]
  },
  {
   "cell_type": "markdown",
   "id": "282d118b-69c2-4c8a-8c72-b220eb7a6317",
   "metadata": {},
   "source": [
    "- we can have 1 parent class - 2 child classes or  \n",
    "                  1 parent class - 1 child class"
   ]
  },
  {
   "cell_type": "markdown",
   "id": "7c485fb0-9b9b-4431-ba16-376b153b66d5",
   "metadata": {},
   "source": [
    "- First we need to create the base class and using base class we can create the child class"
   ]
  },
  {
   "cell_type": "code",
   "execution_count": 8,
   "id": "96568c89-adf1-40bc-9f99-98a1301d66a8",
   "metadata": {},
   "outputs": [],
   "source": [
    "class person:\n",
    "\n",
    "    def __init__(self,name,age):\n",
    "        self.name=name\n",
    "        self.age=age\n",
    "\n",
    "class Sushma(person):\n",
    "    def Myname(self):\n",
    "        print(\"My name is sushma\")\n",
    "\n",
    "class Harsha(person):\n",
    "    def Myname(self):\n",
    "        print(\"My name is Harsha\")"
   ]
  },
  {
   "cell_type": "code",
   "execution_count": 16,
   "id": "2a8931c6-c16f-4034-94a3-81926e8fb117",
   "metadata": {},
   "outputs": [
    {
     "name": "stdout",
     "output_type": "stream",
     "text": [
      "25\n",
      "30\n"
     ]
    }
   ],
   "source": [
    "s = Sushma(\"Sushma\", 25)\n",
    "h = Harsha(\"Harsha\", 30)\n",
    "print(s.age)\n",
    "print( h.age)"
   ]
  },
  {
   "cell_type": "code",
   "execution_count": 20,
   "id": "f5455609-9745-4de0-8890-93c5f012b0e6",
   "metadata": {},
   "outputs": [
    {
     "name": "stdout",
     "output_type": "stream",
     "text": [
      "My name is sushma\n",
      "My name is Harsha\n"
     ]
    }
   ],
   "source": [
    "s.Myname()\n",
    "h.Myname()"
   ]
  },
  {
   "cell_type": "code",
   "execution_count": null,
   "id": "cce9a29e-3a52-4cda-94b4-5ca2e328e4df",
   "metadata": {},
   "outputs": [],
   "source": []
  },
  {
   "cell_type": "code",
   "execution_count": 28,
   "id": "7ceb9d46-06d1-48bf-9d09-b3a223af91f7",
   "metadata": {},
   "outputs": [],
   "source": [
    "class bike:\n",
    "\n",
    "    def color(self):\n",
    "        print(\"The color is black\")\n",
    "\n",
    "    def sound(self):\n",
    "        print(\"The sound is keek keek!\")\n",
    "\n",
    "class Honda(bike):\n",
    "\n",
    "    def Brand(self):\n",
    "        print(\"The Brand name is Honda\")\n",
    "\n",
    "class FZ(bike):\n",
    "\n",
    "    def Brand(self):\n",
    "        print(\"The Brand name is FZ\")"
   ]
  },
  {
   "cell_type": "code",
   "execution_count": 25,
   "id": "e1ceef35-67aa-4b80-97dd-045a412cb7a1",
   "metadata": {},
   "outputs": [
    {
     "name": "stdout",
     "output_type": "stream",
     "text": [
      "The color is black\n",
      "The sound is keek keek!\n",
      "The Brand name is Honda\n"
     ]
    }
   ],
   "source": [
    "a=Honda()\n",
    "a.color()\n",
    "a.sound()\n",
    "a.Brand()"
   ]
  },
  {
   "cell_type": "code",
   "execution_count": 30,
   "id": "59e15084-d17e-48ec-b1f6-72f0ea96d331",
   "metadata": {},
   "outputs": [
    {
     "name": "stdout",
     "output_type": "stream",
     "text": [
      "The color is black\n",
      "The Brand name is FZ\n"
     ]
    }
   ],
   "source": [
    "b=FZ()\n",
    "b.color()\n",
    "b.Brand()"
   ]
  },
  {
   "cell_type": "code",
   "execution_count": null,
   "id": "d1c97f89-5b38-4de1-9a07-892b33fa032b",
   "metadata": {},
   "outputs": [],
   "source": []
  },
  {
   "cell_type": "code",
   "execution_count": 33,
   "id": "ff250a96-998a-49d2-8d0f-e5ca4c5cbcb6",
   "metadata": {},
   "outputs": [],
   "source": [
    "class Teks:\n",
    "\n",
    "    def datascience(self):\n",
    "        print(\"It is DS\")\n",
    "\n",
    "    def dataanalyst(self):\n",
    "        print(\"It is DA\")\n",
    "\n",
    "    def python(self):\n",
    "        print(\"It is included\")\n",
    "\n",
    "class Hitech(Teks):\n",
    "\n",
    "    def Branch(self):\n",
    "        print(\"It is in Hitech city\")\n",
    "\n",
    "class Ammerpet(Teks):\n",
    "\n",
    "    def Branch(self):\n",
    "        print(\"It is in Ameerpet location\")"
   ]
  },
  {
   "cell_type": "code",
   "execution_count": 35,
   "id": "4d51ca43-5434-488a-8daf-56d1ce609ea1",
   "metadata": {},
   "outputs": [
    {
     "name": "stdout",
     "output_type": "stream",
     "text": [
      "It is DS\n",
      "It is included\n",
      "It is in Hitech city\n"
     ]
    }
   ],
   "source": [
    "a=Hitech()\n",
    "a.datascience()\n",
    "a.python()\n",
    "a.Branch()"
   ]
  },
  {
   "cell_type": "code",
   "execution_count": 37,
   "id": "740e15e0-bd22-47af-bd3c-57cc22514981",
   "metadata": {},
   "outputs": [
    {
     "name": "stdout",
     "output_type": "stream",
     "text": [
      "It is DA\n",
      "It is in Ameerpet location\n"
     ]
    }
   ],
   "source": [
    "b=Ammerpet()\n",
    "b.dataanalyst()\n",
    "b.Branch()"
   ]
  },
  {
   "cell_type": "code",
   "execution_count": null,
   "id": "cd03354e-bbbd-493a-946d-70f1ca7c0a09",
   "metadata": {},
   "outputs": [],
   "source": []
  }
 ],
 "metadata": {
  "kernelspec": {
   "display_name": "Python 3 (ipykernel)",
   "language": "python",
   "name": "python3"
  },
  "language_info": {
   "codemirror_mode": {
    "name": "ipython",
    "version": 3
   },
   "file_extension": ".py",
   "mimetype": "text/x-python",
   "name": "python",
   "nbconvert_exporter": "python",
   "pygments_lexer": "ipython3",
   "version": "3.12.4"
  }
 },
 "nbformat": 4,
 "nbformat_minor": 5
}
