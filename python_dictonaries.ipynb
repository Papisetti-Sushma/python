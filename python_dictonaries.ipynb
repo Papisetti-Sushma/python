{
 "cells": [
  {
   "cell_type": "markdown",
   "id": "17cfc5e0-5294-4bd8-864c-fd875f65021e",
   "metadata": {},
   "source": [
    "# 1. define about dictionaries\n",
    "\n",
    "- Dictionaries are used to store data values in key:value pairs.\n",
    "- A dictionary is a collection which is ordered*, changeable and do not allow duplicates.\n",
    "- Dictionaries are written with curly brackets, and have keys and values:\n",
    "- Dictionary items are ordered, changeable, and do not allow duplicates.\n",
    "- they are mutable\n",
    "- Dictionary items are presented in key:value pairs, and can be referred to by using the key name.\n",
    "- Dictionaries cannot have two items with the same key:"
   ]
  },
  {
   "cell_type": "markdown",
   "id": "2cf7863d-d09f-43c5-9fb2-015dcbaa09ef",
   "metadata": {},
   "source": [
    "# 2. create 10 examples"
   ]
  },
  {
   "cell_type": "code",
   "execution_count": 3,
   "id": "7e5de2c4-a41e-4d88-8a20-6ea6845cafa8",
   "metadata": {},
   "outputs": [
    {
     "name": "stdout",
     "output_type": "stream",
     "text": [
      "{'brand': 'Ford', 'model': 'Mustang', 'year': 1964}\n"
     ]
    }
   ],
   "source": [
    "thisdict = {\n",
    "  \"brand\": \"Ford\", \"model\": \"Mustang\",\"year\": 1964\n",
    "}\n",
    "print(thisdict)\n"
   ]
  },
  {
   "cell_type": "code",
   "execution_count": 5,
   "id": "8a5d202e-27d7-44fc-b3c2-4453e1865c09",
   "metadata": {},
   "outputs": [
    {
     "name": "stdout",
     "output_type": "stream",
     "text": [
      "{'name': 'John', 'age': 36, 'country': 'Norway'}\n"
     ]
    }
   ],
   "source": [
    "thisdict = dict(name = \"John\", age = 36, country = \"Norway\")\n",
    "print(thisdict)"
   ]
  },
  {
   "cell_type": "code",
   "execution_count": 7,
   "id": "11c3ab4b-d164-49be-a2cc-dff25060b1f4",
   "metadata": {},
   "outputs": [
    {
     "name": "stdout",
     "output_type": "stream",
     "text": [
      "{'name': 'Alice', 'age': 28, 'city': 'New York'}\n"
     ]
    }
   ],
   "source": [
    "person = dict(name=\"Alice\", age=28, city=\"New York\")\n",
    "print(person)"
   ]
  },
  {
   "cell_type": "code",
   "execution_count": 9,
   "id": "0c68fd7a-678f-432d-ab1c-635e8b658095",
   "metadata": {},
   "outputs": [
    {
     "name": "stdout",
     "output_type": "stream",
     "text": [
      "{'name': 'Banana', 'calories': 105, 'carbs': 27}\n"
     ]
    }
   ],
   "source": [
    "fruit = dict(name=\"Banana\", calories=105, carbs=27)\n",
    "print(fruit)"
   ]
  },
  {
   "cell_type": "code",
   "execution_count": 11,
   "id": "99cf3662-6eae-40ed-840b-7c910fe2fcb1",
   "metadata": {},
   "outputs": [
    {
     "name": "stdout",
     "output_type": "stream",
     "text": [
      "{'title': 'Inception', 'director': 'Christopher Nolan', 'rating': 8.8}\n"
     ]
    }
   ],
   "source": [
    "movie = dict(title=\"Inception\", director=\"Christopher Nolan\", rating=8.8)\n",
    "print(movie)"
   ]
  },
  {
   "cell_type": "code",
   "execution_count": 13,
   "id": "647eaff6-1fb0-4ae7-8f7e-851e9d43f4f7",
   "metadata": {},
   "outputs": [
    {
     "name": "stdout",
     "output_type": "stream",
     "text": [
      "{'brand': 'Toyota', 'model': 'Camry', 'year': 2020}\n"
     ]
    }
   ],
   "source": [
    "car = dict(brand=\"Toyota\", model=\"Camry\", year=2020)\n",
    "print(car)"
   ]
  },
  {
   "cell_type": "code",
   "execution_count": 15,
   "id": "c761d08a-c770-4e53-96ef-26babe281c94",
   "metadata": {},
   "outputs": [
    {
     "name": "stdout",
     "output_type": "stream",
     "text": [
      "{'name': 'Python Programming', 'duration': '6 months', 'level': 'Beginner'}\n"
     ]
    }
   ],
   "source": [
    "course = dict(name=\"Python Programming\", duration=\"6 months\", level=\"Beginner\")\n",
    "print(course)"
   ]
  },
  {
   "cell_type": "code",
   "execution_count": 17,
   "id": "b8df77cc-ed38-4259-befc-85f67975e082",
   "metadata": {},
   "outputs": [
    {
     "name": "stdout",
     "output_type": "stream",
     "text": [
      "{'name': 'Alice', 'age': 28, 'city': 'New York'}\n"
     ]
    }
   ],
   "source": [
    "person = dict(name=\"Alice\", age=28, city=\"New York\")\n",
    "print(person)"
   ]
  },
  {
   "cell_type": "markdown",
   "id": "4633f5d5-997d-41a9-8b13-d37521f77700",
   "metadata": {},
   "source": [
    "# 3.modify the dictionaries"
   ]
  },
  {
   "cell_type": "code",
   "execution_count": 20,
   "id": "a05d0f6e-baff-4ab9-afcc-c65b433000ee",
   "metadata": {},
   "outputs": [
    {
     "name": "stdout",
     "output_type": "stream",
     "text": [
      "{'name': 'Alice', 'age': 28}\n",
      "{'name': 'Alice', 'age': 28, 'city': 'New York'}\n"
     ]
    }
   ],
   "source": [
    "person = dict(name=\"Alice\", age=28)\n",
    "print(person)\n",
    "\n",
    "# Adding a new key-value pair\n",
    "person[\"city\"] = \"New York\"\n",
    "print(person)"
   ]
  },
  {
   "cell_type": "code",
   "execution_count": 22,
   "id": "30750fec-1493-442c-869d-2b70fc18f420",
   "metadata": {},
   "outputs": [
    {
     "name": "stdout",
     "output_type": "stream",
     "text": [
      "{'brand': 'Toyota', 'model': 'Camry', 'year': 2020}\n",
      "{'brand': 'Toyota', 'model': 'Camry', 'year': 2021}\n"
     ]
    }
   ],
   "source": [
    "car = dict(brand=\"Toyota\", model=\"Camry\", year=2020)\n",
    "print(car)\n",
    "\n",
    "# Updating the year\n",
    "car[\"year\"] = 2021\n",
    "print(car)"
   ]
  },
  {
   "cell_type": "code",
   "execution_count": 24,
   "id": "5ad00c5f-e5f5-4bfe-af21-24e66f44fd99",
   "metadata": {},
   "outputs": [
    {
     "name": "stdout",
     "output_type": "stream",
     "text": [
      "{'name': 'ms dhoni', 'jersy number': '7', 'score': '101'}\n"
     ]
    }
   ],
   "source": [
    "cricketers={\"name\":\"ms dhoni\",\"jersy number\":\"77\",\"score\":\"101\"}\n",
    "cricketers[\"jersy number\"]=\"7\"\n",
    "print(cricketers)"
   ]
  },
  {
   "cell_type": "code",
   "execution_count": 26,
   "id": "2b6104ab-3dbd-415a-9de9-5d0cfb3526cc",
   "metadata": {},
   "outputs": [
    {
     "name": "stdout",
     "output_type": "stream",
     "text": [
      "{'brand': 'BMW', 'model': 'Camry', 'year': 2000}\n",
      "{'brand': 'BMW', 'model': 'Camry', 'year': 2021}\n"
     ]
    }
   ],
   "source": [
    "car = dict(brand=\"BMW\", model=\"Camry\", year=2000)\n",
    "print(car)\n",
    "\n",
    "# Updating the year\n",
    "car[\"year\"] = 2021\n",
    "print(car)"
   ]
  },
  {
   "cell_type": "code",
   "execution_count": 28,
   "id": "dd1cf2d2-989c-4d7a-8dce-0ad847d2a81b",
   "metadata": {},
   "outputs": [
    {
     "name": "stdout",
     "output_type": "stream",
     "text": [
      "{'name': 'John', 'age': 30, 'city': 'Los Angeles'}\n",
      "{'name': 'John', 'age': 31, 'city': 'San Francisco'}\n"
     ]
    }
   ],
   "source": [
    "profile = dict(name=\"John\", age=30, city=\"Los Angeles\")\n",
    "print(profile)\n",
    "\n",
    "# Updating multiple values\n",
    "profile.update({\"age\": 31, \"city\": \"San Francisco\"})\n",
    "print(profile)"
   ]
  },
  {
   "cell_type": "markdown",
   "id": "13249e9d-61de-4b40-9ace-79d48342c1d4",
   "metadata": {},
   "source": [
    "# 4. adding a new entry"
   ]
  },
  {
   "cell_type": "code",
   "execution_count": 31,
   "id": "45160daa-9b69-4186-819a-1ac93021dda3",
   "metadata": {},
   "outputs": [
    {
     "name": "stdout",
     "output_type": "stream",
     "text": [
      "{'brand': 'Honda', 'model': 'Civic'}\n",
      "{'brand': 'Honda', 'model': 'Civic', 'year': 2022}\n"
     ]
    }
   ],
   "source": [
    "car = dict(brand=\"Honda\", model=\"Civic\")\n",
    "print(car)\n",
    "\n",
    "# Adding a new key-value pair\n",
    "car[\"year\"] = 2022\n",
    "print(car)"
   ]
  },
  {
   "cell_type": "code",
   "execution_count": 33,
   "id": "7df8ae35-2c80-407b-86b2-ea83b66c7784",
   "metadata": {},
   "outputs": [
    {
     "name": "stdout",
     "output_type": "stream",
     "text": [
      "{'name': 'Tom', 'age': 25}\n",
      "{'name': 'Tom', 'age': 25, 'city': 'Miami', 'occupation': 'Engineer'}\n"
     ]
    }
   ],
   "source": [
    "profile = dict(name=\"Tom\", age=25)\n",
    "print(profile)\n",
    "\n",
    "# Adding multiple key-value pairs\n",
    "profile.update({\"city\": \"Miami\", \"occupation\": \"Engineer\"})\n",
    "print(profile) "
   ]
  },
  {
   "cell_type": "code",
   "execution_count": 35,
   "id": "95f2eecb-1605-4bb0-ab62-083b2479371a",
   "metadata": {},
   "outputs": [
    {
     "name": "stdout",
     "output_type": "stream",
     "text": [
      "{'fruits': ['apple', 'banana']}\n",
      "{'fruits': ['apple', 'banana', 'orange']}\n"
     ]
    }
   ],
   "source": [
    "shopping_list = dict(fruits=[\"apple\", \"banana\"])\n",
    "print(shopping_list)\n",
    "\n",
    "# Adding a new fruit to the list\n",
    "shopping_list[\"fruits\"].append(\"orange\")\n",
    "print(shopping_list)"
   ]
  },
  {
   "cell_type": "code",
   "execution_count": 37,
   "id": "3c4fd823-51fb-4a6a-b660-4919fb4d37f8",
   "metadata": {},
   "outputs": [
    {
     "name": "stdout",
     "output_type": "stream",
     "text": [
      "{'name': 'Bob', 'age': 34}\n",
      "{'name': 'Bob', 'age': 34, 'favorite_color': 'blue'}\n"
     ]
    }
   ],
   "source": [
    "person = dict(name=\"Bob\", age=34)\n",
    "print(person)\n",
    "\n",
    "# Adding a new key-value pair\n",
    "person[\"favorite_color\"] = \"blue\"\n",
    "print(person)"
   ]
  },
  {
   "cell_type": "code",
   "execution_count": 39,
   "id": "2c707ea5-27b9-45e7-a294-b3b3601e2b21",
   "metadata": {},
   "outputs": [
    {
     "name": "stdout",
     "output_type": "stream",
     "text": [
      "{'name': 'Sara', 'age': 29}\n",
      "{'name': 'Sara', 'age': 29, 'job_title': 'Data Scientist'}\n"
     ]
    }
   ],
   "source": [
    "employee = dict(name=\"Sara\", age=29)\n",
    "print(employee)\n",
    "\n",
    "# Adding a new key-value pair\n",
    "employee[\"job_title\"] = \"Data Scientist\"\n",
    "print(employee)"
   ]
  },
  {
   "cell_type": "code",
   "execution_count": 41,
   "id": "4484b212-7e2d-4337-8997-d79c53edfa14",
   "metadata": {},
   "outputs": [
    {
     "name": "stdout",
     "output_type": "stream",
     "text": [
      "{'name': 'Emily', 'age': 27}\n",
      "{'name': 'Emily', 'age': 27, 'email': 'emily@example.com'}\n"
     ]
    }
   ],
   "source": [
    "contact = dict(name=\"Emily\", age=27)\n",
    "print(contact)\n",
    "\n",
    "# Adding a new key-value pair\n",
    "contact[\"email\"] = \"emily@example.com\"\n",
    "print(contact)"
   ]
  },
  {
   "cell_type": "markdown",
   "id": "e6ff6353-86a4-43c7-b6b4-b53195be6d58",
   "metadata": {},
   "source": [
    "# 5. methods for dictionaries"
   ]
  },
  {
   "cell_type": "markdown",
   "id": "14c046b3-0669-49fc-9dff-0b6d75dd34ec",
   "metadata": {},
   "source": [
    "1. get()\n",
    "Returns the value for a specified key. If the key does not exist, it returns None or a specified default value."
   ]
  },
  {
   "cell_type": "code",
   "execution_count": 47,
   "id": "8b201d34-caeb-4120-8e01-715618bbc43d",
   "metadata": {},
   "outputs": [
    {
     "name": "stdout",
     "output_type": "stream",
     "text": [
      "Alice\n",
      "Not found\n"
     ]
    }
   ],
   "source": [
    "person = {\"name\": \"Alice\", \"age\": 28}\n",
    "print(person.get(\"name\"))  # Output: Alice\n",
    "print(person.get(\"city\", \"Not found\"))"
   ]
  },
  {
   "cell_type": "markdown",
   "id": "46ce41b6-27f8-4edc-baa9-497d8c3e7f7c",
   "metadata": {},
   "source": [
    "2. keys()\n",
    "Returns a view object that displays a list of all the keys in the dictionary."
   ]
  },
  {
   "cell_type": "code",
   "execution_count": 50,
   "id": "acd3aa36-9d17-4554-a947-9c54ecd091e5",
   "metadata": {},
   "outputs": [
    {
     "name": "stdout",
     "output_type": "stream",
     "text": [
      "dict_keys(['name', 'age'])\n"
     ]
    }
   ],
   "source": [
    "print(person.keys()) "
   ]
  },
  {
   "cell_type": "markdown",
   "id": "6f47c3c1-419b-407f-bffb-e563819f900e",
   "metadata": {},
   "source": [
    "3. values()\n",
    "Returns a view object that displays a list of all the values in the dictionary."
   ]
  },
  {
   "cell_type": "code",
   "execution_count": 53,
   "id": "cdf39673-2f70-4532-9075-52eae5daabd3",
   "metadata": {},
   "outputs": [
    {
     "name": "stdout",
     "output_type": "stream",
     "text": [
      "dict_values(['Alice', 28])\n"
     ]
    }
   ],
   "source": [
    "print(person.values()) "
   ]
  },
  {
   "cell_type": "markdown",
   "id": "7103560f-a092-47a1-9ad5-a0a640a592a4",
   "metadata": {},
   "source": [
    "4. items()\n",
    "Returns a view object that displays a list of the dictionary’s key-value tuple pairs.\n",
    "\n"
   ]
  },
  {
   "cell_type": "code",
   "execution_count": 56,
   "id": "0e1d75a1-aa20-48e4-8f9b-d71bb4fe91c0",
   "metadata": {},
   "outputs": [
    {
     "name": "stdout",
     "output_type": "stream",
     "text": [
      "dict_items([('name', 'Alice'), ('age', 28)])\n"
     ]
    }
   ],
   "source": [
    "print(person.items())"
   ]
  },
  {
   "cell_type": "markdown",
   "id": "adccc2f9-27e4-4d2d-8e0d-aa87d345b95a",
   "metadata": {},
   "source": [
    "5. update()\n",
    "Updates the dictionary with elements from another dictionary or from an iterable of key-value pairs."
   ]
  },
  {
   "cell_type": "code",
   "execution_count": 59,
   "id": "881c83bf-46ef-42f0-8697-16dd214def6c",
   "metadata": {},
   "outputs": [
    {
     "name": "stdout",
     "output_type": "stream",
     "text": [
      "{'name': 'Alice', 'age': 29, 'city': 'New York'}\n"
     ]
    }
   ],
   "source": [
    "person.update({\"city\": \"New York\", \"age\": 29})\n",
    "print(person) "
   ]
  },
  {
   "cell_type": "markdown",
   "id": "6a51e6c0-becd-46d4-b5c9-cf18f02a1c18",
   "metadata": {},
   "source": [
    "6. pop()\n",
    "Removes the specified key and returns its value. If the key does not exist, it raises a KeyError, unless a default value is provided."
   ]
  },
  {
   "cell_type": "code",
   "execution_count": 85,
   "id": "63ee26f2-841e-4160-91e4-39ce2210dd14",
   "metadata": {},
   "outputs": [
    {
     "name": "stdout",
     "output_type": "stream",
     "text": [
      "28\n",
      "{'name': 'Alice', 'city': 'New York'}\n"
     ]
    }
   ],
   "source": [
    "age = person.pop(\"age\")\n",
    "print(age)  \n",
    "print(person) \n"
   ]
  },
  {
   "cell_type": "markdown",
   "id": "348a514f-99a1-4745-a8dd-f4e0fe14e9bb",
   "metadata": {},
   "source": [
    "7. popitem()\n",
    "Removes and returns the last inserted key-value pair as a tuple. Raises KeyError if the dictionary is empty."
   ]
  },
  {
   "cell_type": "code",
   "execution_count": 76,
   "id": "c0ffdfee-9c8a-4d0c-ae86-24bd9e71545b",
   "metadata": {},
   "outputs": [
    {
     "name": "stdout",
     "output_type": "stream",
     "text": [
      "('country', 'USA')\n",
      "{}\n"
     ]
    }
   ],
   "source": [
    "item = person.popitem()\n",
    "print(item)  \n",
    "print(person) "
   ]
  },
  {
   "cell_type": "markdown",
   "id": "ee80528e-66b8-4174-9258-86362a9b0071",
   "metadata": {},
   "source": [
    "8. clear()\n",
    "Removes all elements from the dictionary."
   ]
  },
  {
   "cell_type": "code",
   "execution_count": 68,
   "id": "1ea6c272-b3fa-4315-9673-176b4067bc0b",
   "metadata": {},
   "outputs": [
    {
     "name": "stdout",
     "output_type": "stream",
     "text": [
      "{}\n"
     ]
    }
   ],
   "source": [
    "person.clear()\n",
    "print(person)  "
   ]
  },
  {
   "cell_type": "markdown",
   "id": "0c9983fe-369c-4c8e-8881-f72c99f28db1",
   "metadata": {},
   "source": [
    "9. setdefault()\n",
    "Returns the value of a specified key. If the key does not exist, it inserts the key with a specified value"
   ]
  },
  {
   "cell_type": "code",
   "execution_count": 74,
   "id": "3cadd001-1543-40e7-bbd8-9bdae421766a",
   "metadata": {},
   "outputs": [
    {
     "name": "stdout",
     "output_type": "stream",
     "text": [
      "{'country': 'USA'}\n",
      "{'country': 'USA'}\n"
     ]
    }
   ],
   "source": [
    "person.setdefault(\"country\", \"USA\")\n",
    "print(person)  \n",
    "\n",
    "person.setdefault(\"country\", \"Canada\")\n",
    "print(person) \n"
   ]
  },
  {
   "cell_type": "markdown",
   "id": "07d9d202-1123-4623-9c3d-2661949113af",
   "metadata": {},
   "source": [
    "10. copy()\n",
    "Returns a shallow copy of the dictionary."
   ]
  },
  {
   "cell_type": "code",
   "execution_count": 80,
   "id": "ff7d2999-aedf-4236-bea2-9418c5b494f3",
   "metadata": {},
   "outputs": [
    {
     "name": "stdout",
     "output_type": "stream",
     "text": [
      "{}\n"
     ]
    }
   ],
   "source": [
    "new_person = person.copy()\n",
    "print(new_person) "
   ]
  },
  {
   "cell_type": "code",
   "execution_count": null,
   "id": "daf64000-30f3-4a3b-93ac-b2aba36b9837",
   "metadata": {},
   "outputs": [],
   "source": []
  }
 ],
 "metadata": {
  "kernelspec": {
   "display_name": "Python 3 (ipykernel)",
   "language": "python",
   "name": "python3"
  },
  "language_info": {
   "codemirror_mode": {
    "name": "ipython",
    "version": 3
   },
   "file_extension": ".py",
   "mimetype": "text/x-python",
   "name": "python",
   "nbconvert_exporter": "python",
   "pygments_lexer": "ipython3",
   "version": "3.12.4"
  }
 },
 "nbformat": 4,
 "nbformat_minor": 5
}
