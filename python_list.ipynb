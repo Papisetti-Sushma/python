{
 "cells": [
  {
   "cell_type": "markdown",
   "id": "5fff3365-0ad1-423a-ab89-81ff904ed30a",
   "metadata": {},
   "source": [
    "# 1) Define List ?\n",
    "\n",
    "- Lists are used to store multiple items in a single variable.\n",
    "- It is a common data type\n",
    "- Used to collect the data / element\n",
    "- stores different datatypes like boolean,int,float,complex\n",
    "- list is mutable\n",
    "- List can be modified,add and can change\n",
    "- represented bt square brackets[] and the elements are seperated by comas(,)\n",
    "- list allows duplicate"
   ]
  },
  {
   "cell_type": "code",
   "execution_count": 2,
   "id": "1b15e720-6ac5-47b0-85e5-1a7eb6ac7943",
   "metadata": {},
   "outputs": [],
   "source": [
    "a=[1,2,34,5]"
   ]
  },
  {
   "cell_type": "code",
   "execution_count": 4,
   "id": "ad44ce25-116c-4231-8572-fae958bf479c",
   "metadata": {},
   "outputs": [],
   "source": [
    "sushma=[21.3,43.6,65.2,61.8,100.7]"
   ]
  },
  {
   "cell_type": "code",
   "execution_count": 6,
   "id": "e9169784-8d4d-472e-a87a-877741a4bac1",
   "metadata": {},
   "outputs": [],
   "source": [
    "hi=[1+0j,32+5j,31+7j,62+6j]"
   ]
  },
  {
   "cell_type": "code",
   "execution_count": 8,
   "id": "e92aa5ff-2b56-4ed7-b9b9-203db4607de4",
   "metadata": {},
   "outputs": [],
   "source": [
    "college=[1,2,4,1.5]"
   ]
  },
  {
   "cell_type": "code",
   "execution_count": 10,
   "id": "c27fa080-0bf2-4213-ab20-128438c8e0d4",
   "metadata": {},
   "outputs": [],
   "source": [
    "b=[24.6,6,54.3,9+0j]"
   ]
  },
  {
   "cell_type": "code",
   "execution_count": 12,
   "id": "93481e90-cefa-4296-bd40-a534b002f9ed",
   "metadata": {},
   "outputs": [],
   "source": [
    "c=[321.4,2.43,1,100,432]"
   ]
  },
  {
   "cell_type": "code",
   "execution_count": 14,
   "id": "39cd5784-9aad-4aec-820c-55a8e45dc889",
   "metadata": {},
   "outputs": [],
   "source": [
    "numbers=[1,2,3,4,5]"
   ]
  },
  {
   "cell_type": "code",
   "execution_count": 16,
   "id": "b5a200a4-294e-4d25-a8b1-e32bc796fdfd",
   "metadata": {},
   "outputs": [],
   "source": [
    "mixed_types=[1,\"apple\",True,3.15,431]"
   ]
  },
  {
   "cell_type": "code",
   "execution_count": 18,
   "id": "1aaf276c-f658-4ddc-81e4-ecc29e90de9b",
   "metadata": {},
   "outputs": [],
   "source": [
    "my_list=[2,5,1,9,0,34.5]"
   ]
  },
  {
   "cell_type": "code",
   "execution_count": 20,
   "id": "ce6a4059-f992-4c90-9598-a2fefa1b445d",
   "metadata": {},
   "outputs": [],
   "source": [
    "complex_numbers=[1+0j,32+5j,31+7j,62+6j,4+7j,2+5j]"
   ]
  },
  {
   "cell_type": "markdown",
   "id": "8d9b9e72-369e-465f-9a90-89395ee5550a",
   "metadata": {},
   "source": [
    "# 2) Accessing the list\n",
    "\n",
    "- List are ordered and each item in a list is a associated with a number. The number is called as  a \"list index\"\n",
    "- The first element in a list is inder 0;and second is index is 1 and so on ....\n",
    "- There are 2 types of index : positve index\n",
    "                               Negative index\n",
    "- Positive index : index are given from left to right [ 0,1,2,3,4..]\n",
    "- Negative index : index are givenfrom right to left [-4,-3,-2,-1]"
   ]
  },
  {
   "cell_type": "code",
   "execution_count": 23,
   "id": "7819ff65-bf67-4e40-b5c8-80ffcac16355",
   "metadata": {},
   "outputs": [],
   "source": [
    "numbers = [1,2,3,4,5,6,7,10,11,12,32,76,90,36]"
   ]
  },
  {
   "cell_type": "code",
   "execution_count": 27,
   "id": "22e7b363-ea1d-4ca5-ab59-d9edd15bbdb1",
   "metadata": {},
   "outputs": [
    {
     "name": "stdout",
     "output_type": "stream",
     "text": [
      "1\n"
     ]
    }
   ],
   "source": [
    "print(numbers[0])"
   ]
  },
  {
   "cell_type": "code",
   "execution_count": 29,
   "id": "02f49497-075e-4208-82d6-3caa9361862d",
   "metadata": {},
   "outputs": [
    {
     "name": "stdout",
     "output_type": "stream",
     "text": [
      "3\n"
     ]
    }
   ],
   "source": [
    "print(numbers[2])"
   ]
  },
  {
   "cell_type": "code",
   "execution_count": 31,
   "id": "f436934c-c3f2-4fd8-9a2e-55591b148e1e",
   "metadata": {},
   "outputs": [
    {
     "name": "stdout",
     "output_type": "stream",
     "text": [
      "7\n"
     ]
    }
   ],
   "source": [
    "print(numbers[6])"
   ]
  },
  {
   "cell_type": "code",
   "execution_count": 33,
   "id": "ada4bd68-360f-49cd-9a91-527a80f0b9c9",
   "metadata": {},
   "outputs": [
    {
     "name": "stdout",
     "output_type": "stream",
     "text": [
      "36\n"
     ]
    }
   ],
   "source": [
    "print(numbers[-1])"
   ]
  },
  {
   "cell_type": "code",
   "execution_count": 35,
   "id": "e25fcf66-6cad-45eb-8fdf-dbabb80ee0ac",
   "metadata": {},
   "outputs": [
    {
     "name": "stdout",
     "output_type": "stream",
     "text": [
      "11\n"
     ]
    }
   ],
   "source": [
    "print(numbers[8])"
   ]
  },
  {
   "cell_type": "code",
   "execution_count": 37,
   "id": "63f6180f-356e-47a1-9558-415e507aae07",
   "metadata": {},
   "outputs": [
    {
     "name": "stdout",
     "output_type": "stream",
     "text": [
      "5\n"
     ]
    }
   ],
   "source": [
    "print(numbers[4])"
   ]
  },
  {
   "cell_type": "code",
   "execution_count": 39,
   "id": "90da2906-400d-449e-88ac-1a607bd5f08f",
   "metadata": {},
   "outputs": [
    {
     "name": "stdout",
     "output_type": "stream",
     "text": [
      "90\n"
     ]
    }
   ],
   "source": [
    "print(numbers[-2])"
   ]
  },
  {
   "cell_type": "code",
   "execution_count": 41,
   "id": "e752a586-6521-49f9-b1fa-fe36268a07c4",
   "metadata": {},
   "outputs": [
    {
     "name": "stdout",
     "output_type": "stream",
     "text": [
      "76\n"
     ]
    }
   ],
   "source": [
    "print(numbers[-3])"
   ]
  },
  {
   "cell_type": "code",
   "execution_count": 43,
   "id": "35ec587f-e6ba-424a-b78b-60d5c49da07c",
   "metadata": {},
   "outputs": [
    {
     "name": "stdout",
     "output_type": "stream",
     "text": [
      "32\n"
     ]
    }
   ],
   "source": [
    "print(numbers[-4])"
   ]
  },
  {
   "cell_type": "code",
   "execution_count": 45,
   "id": "f38f3e91-7579-49c7-ad98-a790483b8415",
   "metadata": {},
   "outputs": [
    {
     "name": "stdout",
     "output_type": "stream",
     "text": [
      "12\n"
     ]
    }
   ],
   "source": [
    "print(numbers[-5])"
   ]
  },
  {
   "cell_type": "code",
   "execution_count": 47,
   "id": "96e50e66-c790-400b-97f9-0cac5fbaa27f",
   "metadata": {},
   "outputs": [
    {
     "name": "stdout",
     "output_type": "stream",
     "text": [
      "11\n"
     ]
    }
   ],
   "source": [
    "print(numbers[8])"
   ]
  },
  {
   "cell_type": "code",
   "execution_count": 49,
   "id": "d17ff82b-4bb9-4563-9074-86d4f701b050",
   "metadata": {},
   "outputs": [
    {
     "name": "stdout",
     "output_type": "stream",
     "text": [
      "32\n"
     ]
    }
   ],
   "source": [
    "print(numbers[10])"
   ]
  },
  {
   "cell_type": "code",
   "execution_count": 51,
   "id": "c2c3e856-c9aa-45ce-b529-a1a8d1f7341c",
   "metadata": {},
   "outputs": [
    {
     "name": "stdout",
     "output_type": "stream",
     "text": [
      "76\n"
     ]
    }
   ],
   "source": [
    "print(numbers[11])"
   ]
  },
  {
   "cell_type": "code",
   "execution_count": 53,
   "id": "25ca8a80-3519-4684-ac1c-4680d4c55f1a",
   "metadata": {},
   "outputs": [
    {
     "name": "stdout",
     "output_type": "stream",
     "text": [
      "90\n"
     ]
    }
   ],
   "source": [
    "print(numbers[12])"
   ]
  },
  {
   "cell_type": "code",
   "execution_count": 55,
   "id": "b307ad90-3b73-4640-828d-d80ced21c195",
   "metadata": {},
   "outputs": [
    {
     "name": "stdout",
     "output_type": "stream",
     "text": [
      "4\n"
     ]
    }
   ],
   "source": [
    "print(numbers[3])"
   ]
  },
  {
   "cell_type": "code",
   "execution_count": 57,
   "id": "aa7ff61d-2573-4125-87a7-7f0177faa4ed",
   "metadata": {},
   "outputs": [
    {
     "name": "stdout",
     "output_type": "stream",
     "text": [
      "5\n"
     ]
    }
   ],
   "source": [
    "print(numbers[4])"
   ]
  },
  {
   "cell_type": "code",
   "execution_count": 59,
   "id": "0c5beb4d-44f4-4431-99ca-b3c057b211ad",
   "metadata": {},
   "outputs": [
    {
     "name": "stdout",
     "output_type": "stream",
     "text": [
      "7\n"
     ]
    }
   ],
   "source": [
    "print(numbers[6])"
   ]
  },
  {
   "cell_type": "code",
   "execution_count": 63,
   "id": "7df71935-c273-4d5c-be9c-6e5607d4f497",
   "metadata": {},
   "outputs": [
    {
     "name": "stdout",
     "output_type": "stream",
     "text": [
      "12\n"
     ]
    }
   ],
   "source": [
    "print(numbers[-5])"
   ]
  },
  {
   "cell_type": "code",
   "execution_count": 65,
   "id": "4e6bad8d-2116-4d83-8688-766765c07539",
   "metadata": {},
   "outputs": [
    {
     "name": "stdout",
     "output_type": "stream",
     "text": [
      "1\n"
     ]
    }
   ],
   "source": [
    "print(numbers[-14])"
   ]
  },
  {
   "cell_type": "code",
   "execution_count": 67,
   "id": "6226cf2b-fcfa-4ad1-999e-ed220b33164a",
   "metadata": {},
   "outputs": [
    {
     "name": "stdout",
     "output_type": "stream",
     "text": [
      "12\n"
     ]
    }
   ],
   "source": [
    "print(numbers[9])"
   ]
  },
  {
   "cell_type": "code",
   "execution_count": 69,
   "id": "60a711b1-092e-4411-a897-8f1da77e2970",
   "metadata": {},
   "outputs": [
    {
     "name": "stdout",
     "output_type": "stream",
     "text": [
      "11\n"
     ]
    }
   ],
   "source": [
    "print(numbers[8])"
   ]
  },
  {
   "cell_type": "code",
   "execution_count": 71,
   "id": "c7b543bb-8d6d-484e-8ab7-00249e5e212a",
   "metadata": {},
   "outputs": [
    {
     "name": "stdout",
     "output_type": "stream",
     "text": [
      "6\n"
     ]
    }
   ],
   "source": [
    "print(numbers[5])"
   ]
  },
  {
   "cell_type": "code",
   "execution_count": 73,
   "id": "b41f13ba-d431-4fce-8c0d-296493e4b6dd",
   "metadata": {},
   "outputs": [
    {
     "name": "stdout",
     "output_type": "stream",
     "text": [
      "32\n"
     ]
    }
   ],
   "source": [
    "print(numbers[10])"
   ]
  },
  {
   "cell_type": "code",
   "execution_count": 75,
   "id": "3a126ff6-3ae9-4583-ba66-40dc92ab4100",
   "metadata": {},
   "outputs": [
    {
     "name": "stdout",
     "output_type": "stream",
     "text": [
      "76\n"
     ]
    }
   ],
   "source": [
    "print(numbers[11])"
   ]
  },
  {
   "cell_type": "code",
   "execution_count": 83,
   "id": "d596d5fd-83db-4537-a961-faa3cd243d81",
   "metadata": {},
   "outputs": [
    {
     "name": "stdout",
     "output_type": "stream",
     "text": [
      "32\n"
     ]
    }
   ],
   "source": [
    "print(numbers[10])"
   ]
  },
  {
   "cell_type": "code",
   "execution_count": 85,
   "id": "fb4472a2-4576-4f57-b9a6-ef02a865ee6f",
   "metadata": {},
   "outputs": [],
   "source": [
    "numbers = [1,2,3,4,5,6,7,10,11,12,32,76,90,36]"
   ]
  },
  {
   "cell_type": "code",
   "execution_count": 87,
   "id": "d5269785-bc1c-44e6-97ab-b257368e3d49",
   "metadata": {},
   "outputs": [
    {
     "name": "stdout",
     "output_type": "stream",
     "text": [
      "[2, 3]\n"
     ]
    }
   ],
   "source": [
    "print(numbers[1:3])"
   ]
  },
  {
   "cell_type": "code",
   "execution_count": 89,
   "id": "8396fd1f-526a-4b91-81b8-633469cd1f24",
   "metadata": {},
   "outputs": [
    {
     "name": "stdout",
     "output_type": "stream",
     "text": [
      "[6, 7, 10, 11, 12, 32, 76]\n"
     ]
    }
   ],
   "source": [
    "print(numbers[5:12])"
   ]
  },
  {
   "cell_type": "code",
   "execution_count": 91,
   "id": "aa03b946-bf11-4f38-afd0-d69e43377788",
   "metadata": {},
   "outputs": [
    {
     "name": "stdout",
     "output_type": "stream",
     "text": [
      "[1, 2, 3, 4, 5, 6, 7, 10, 11, 12, 32]\n"
     ]
    }
   ],
   "source": [
    "print(numbers[0:11])"
   ]
  },
  {
   "cell_type": "code",
   "execution_count": 93,
   "id": "614c0ec2-b53b-4cc2-8188-2d33e28723f7",
   "metadata": {},
   "outputs": [
    {
     "name": "stdout",
     "output_type": "stream",
     "text": [
      "[5, 6, 7, 10, 11, 12, 32, 76, 90, 36]\n"
     ]
    }
   ],
   "source": [
    "print(numbers[4:14])"
   ]
  },
  {
   "cell_type": "code",
   "execution_count": 95,
   "id": "1f809723-645b-426d-adb4-62482db8c0bc",
   "metadata": {},
   "outputs": [
    {
     "name": "stdout",
     "output_type": "stream",
     "text": [
      "[1, 2, 3, 4, 5, 6]\n"
     ]
    }
   ],
   "source": [
    "print(numbers[:6])"
   ]
  },
  {
   "cell_type": "code",
   "execution_count": 97,
   "id": "2951da73-38c6-4e5c-bf08-fe3f0a02d7a8",
   "metadata": {},
   "outputs": [
    {
     "name": "stdout",
     "output_type": "stream",
     "text": [
      "[32, 76, 90, 36]\n"
     ]
    }
   ],
   "source": [
    "print(numbers[10:])"
   ]
  },
  {
   "cell_type": "code",
   "execution_count": 99,
   "id": "a22eb98f-bdfe-4371-9119-c875e9fd0755",
   "metadata": {},
   "outputs": [
    {
     "name": "stdout",
     "output_type": "stream",
     "text": [
      "[1, 2, 3, 4, 5]\n"
     ]
    }
   ],
   "source": [
    "print(numbers[:5])"
   ]
  },
  {
   "cell_type": "code",
   "execution_count": 101,
   "id": "af3978db-80c2-4efc-9883-11d4e34fffd1",
   "metadata": {},
   "outputs": [
    {
     "name": "stdout",
     "output_type": "stream",
     "text": [
      "[1, 2, 3, 4, 5, 6, 7, 10]\n"
     ]
    }
   ],
   "source": [
    "print(numbers[:8])"
   ]
  },
  {
   "cell_type": "code",
   "execution_count": 103,
   "id": "5f8932f3-406d-4170-b0d8-f1f5b14ba038",
   "metadata": {},
   "outputs": [
    {
     "name": "stdout",
     "output_type": "stream",
     "text": [
      "[1, 2, 3, 4, 5]\n"
     ]
    }
   ],
   "source": [
    "print(numbers[:5])"
   ]
  },
  {
   "cell_type": "code",
   "execution_count": 105,
   "id": "c1a01398-3f71-4293-85ca-9c7f9ee30df9",
   "metadata": {},
   "outputs": [
    {
     "name": "stdout",
     "output_type": "stream",
     "text": [
      "[5, 6, 7, 10, 11, 12, 32, 76, 90, 36]\n"
     ]
    }
   ],
   "source": [
    "print(numbers[4:])"
   ]
  },
  {
   "cell_type": "code",
   "execution_count": 107,
   "id": "6ef26bbe-df09-42f6-9c8c-b696577c2a35",
   "metadata": {},
   "outputs": [
    {
     "name": "stdout",
     "output_type": "stream",
     "text": [
      "[1, 2, 3, 4, 5, 6, 7, 10]\n"
     ]
    }
   ],
   "source": [
    "print(numbers[:8])"
   ]
  },
  {
   "cell_type": "code",
   "execution_count": 109,
   "id": "5d6fe62e-1c10-4b63-8c0d-1956e1db98d4",
   "metadata": {},
   "outputs": [
    {
     "name": "stdout",
     "output_type": "stream",
     "text": [
      "[1, 2, 3]\n"
     ]
    }
   ],
   "source": [
    "print(numbers[:3])"
   ]
  },
  {
   "cell_type": "code",
   "execution_count": 111,
   "id": "1cd59645-e28a-47a5-9944-a8a4c4ebb794",
   "metadata": {},
   "outputs": [
    {
     "name": "stdout",
     "output_type": "stream",
     "text": [
      "[5, 6]\n"
     ]
    }
   ],
   "source": [
    "print(numbers[4:6])"
   ]
  },
  {
   "cell_type": "code",
   "execution_count": 113,
   "id": "5a6e8799-014c-4a12-baf7-07316f951490",
   "metadata": {},
   "outputs": [
    {
     "name": "stdout",
     "output_type": "stream",
     "text": [
      "[32, 76, 90, 36]\n"
     ]
    }
   ],
   "source": [
    "print(numbers[10:15])"
   ]
  },
  {
   "cell_type": "code",
   "execution_count": 117,
   "id": "bd955f37-377f-4073-94ac-67071b811544",
   "metadata": {},
   "outputs": [
    {
     "name": "stdout",
     "output_type": "stream",
     "text": [
      "[12, 32, 76, 90, 36]\n"
     ]
    }
   ],
   "source": [
    "print(numbers[9:14])"
   ]
  },
  {
   "cell_type": "markdown",
   "id": "0fcaede3-c730-4717-8f58-e163af557599",
   "metadata": {},
   "source": [
    "# 3) Concatenation \n",
    "\n",
    "- adding two lists\n",
    "- using +"
   ]
  },
  {
   "cell_type": "code",
   "execution_count": 119,
   "id": "37ab13e0-772a-4b91-be92-8eea9847e1ee",
   "metadata": {},
   "outputs": [
    {
     "name": "stdout",
     "output_type": "stream",
     "text": [
      "[1, 4, 3, 6, 2, 5, 3, 2, 8, 6]\n"
     ]
    }
   ],
   "source": [
    "a=[1,4,3,6,2]\n",
    "b=[5,3,2,8,6]\n",
    "c=a+b\n",
    "print(c)"
   ]
  },
  {
   "cell_type": "code",
   "execution_count": 123,
   "id": "69de34ac-a5d7-4378-aa0b-c3d304bfb370",
   "metadata": {},
   "outputs": [
    {
     "name": "stdout",
     "output_type": "stream",
     "text": [
      "[4, 5, 1, 9, 0, 3, 2, 1]\n"
     ]
    }
   ],
   "source": [
    "d=[4,5,1]\n",
    "f=[9,0,3,2,1]\n",
    "print(d+f)"
   ]
  },
  {
   "cell_type": "code",
   "execution_count": 125,
   "id": "1009e950-1dce-4672-8c5a-c40c50cfc6c4",
   "metadata": {},
   "outputs": [
    {
     "name": "stdout",
     "output_type": "stream",
     "text": [
      "[4, 6, 7, 8, 1, 7, 3, 2, 0]\n"
     ]
    }
   ],
   "source": [
    "b=[4,6,7,8,1]\n",
    "v=[7,3,2,0]\n",
    "print(b+v)"
   ]
  },
  {
   "cell_type": "code",
   "execution_count": 127,
   "id": "21383ee5-4adb-4b97-bcae-47eb02279d7e",
   "metadata": {},
   "outputs": [
    {
     "name": "stdout",
     "output_type": "stream",
     "text": [
      "[5, 3, 1, 2, 0, 7, 3, 9, 0, 3]\n"
     ]
    }
   ],
   "source": [
    "x=[5,3,1,2,0]\n",
    "y=[7,3,9,0,3]\n",
    "print(x+y)"
   ]
  },
  {
   "cell_type": "code",
   "execution_count": 135,
   "id": "0a3f5581-9d4f-420f-a397-fb1890eccfab",
   "metadata": {},
   "outputs": [
    {
     "name": "stdout",
     "output_type": "stream",
     "text": [
      "[5, 34, 590, 32154, 543, 56, 325, 90]\n"
     ]
    }
   ],
   "source": [
    "g=[5,34,590,32154]\n",
    "f=[543,56,325,90]\n",
    "print(g+f)"
   ]
  },
  {
   "cell_type": "markdown",
   "id": "fe363393-3dbe-4bb4-96b0-0c2dc0942613",
   "metadata": {},
   "source": [
    "# 4) Repetation\n",
    "\n",
    "- Repeating the list "
   ]
  },
  {
   "cell_type": "code",
   "execution_count": 138,
   "id": "06b899f5-f147-47c9-b07c-8e9abeb8aa7c",
   "metadata": {},
   "outputs": [
    {
     "name": "stdout",
     "output_type": "stream",
     "text": [
      "[4, 3, 6, 4, 3, 6, 4, 3, 6]\n"
     ]
    }
   ],
   "source": [
    "a=[4,3,6]\n",
    "b=a*3\n",
    "print(b)"
   ]
  },
  {
   "cell_type": "code",
   "execution_count": 142,
   "id": "21a9d311-0652-45cb-be51-86c91da5240c",
   "metadata": {},
   "outputs": [
    {
     "name": "stdout",
     "output_type": "stream",
     "text": [
      "[4, 3, 6, 5, 2, 4, 3, 6, 5, 2, 4, 3, 6, 5, 2, 4, 3, 6, 5, 2, 4, 3, 6, 5, 2]\n"
     ]
    }
   ],
   "source": [
    "x=[4,3,6,5,2]\n",
    "b=x*5\n",
    "print(b)"
   ]
  },
  {
   "cell_type": "code",
   "execution_count": 146,
   "id": "3c982d3e-c17e-4794-94ca-55cf0153e198",
   "metadata": {},
   "outputs": [
    {
     "name": "stdout",
     "output_type": "stream",
     "text": [
      "[3, 8, 9, 0, 2, 1, 3, 8, 9, 0, 2, 1, 3, 8, 9, 0, 2, 1, 3, 8, 9, 0, 2, 1, 3, 8, 9, 0, 2, 1, 3, 8, 9, 0, 2, 1]\n"
     ]
    }
   ],
   "source": [
    "a=[3,8,9,0,2,1]\n",
    "c=a*6\n",
    "print(c)"
   ]
  },
  {
   "cell_type": "code",
   "execution_count": 150,
   "id": "5dbd59f2-5a0b-472c-8b56-099f669fed79",
   "metadata": {},
   "outputs": [
    {
     "name": "stdout",
     "output_type": "stream",
     "text": [
      "[3, 6, 1, 3, 6, 1, 3, 6, 1, 3, 6, 1]\n"
     ]
    }
   ],
   "source": [
    "d=[3,6,1]\n",
    "b=d*4\n",
    "print(b)"
   ]
  },
  {
   "cell_type": "code",
   "execution_count": 152,
   "id": "02302b67-7f71-4dca-8fec-2f76b44e62c9",
   "metadata": {},
   "outputs": [
    {
     "name": "stdout",
     "output_type": "stream",
     "text": [
      "[3, 6, 1, 9, 0, 3, 6, 1, 9, 0, 3, 6, 1, 9, 0, 3, 6, 1, 9, 0]\n"
     ]
    }
   ],
   "source": [
    "d=[3,6,1,9,0]\n",
    "c=d*4\n",
    "print(c)"
   ]
  },
  {
   "cell_type": "code",
   "execution_count": 160,
   "id": "ffc013cf-8908-4825-ab8b-a0c93a34674d",
   "metadata": {},
   "outputs": [],
   "source": [
    " numbers = [1,2,3,4,5,6,7,10,11,12,32,76,90,36,103,432]"
   ]
  },
  {
   "cell_type": "code",
   "execution_count": 162,
   "id": "1de98eef-ec4b-472f-b7a1-4e3432851dd7",
   "metadata": {},
   "outputs": [
    {
     "name": "stdout",
     "output_type": "stream",
     "text": [
      "[1, 2, 3, 3, 5, 6, 7, 10, 11, 12, 32, 76, 90, 36, 103, 432]\n"
     ]
    }
   ],
   "source": [
    "numbers[3] = 3\n",
    "print(numbers)"
   ]
  },
  {
   "cell_type": "code",
   "execution_count": 164,
   "id": "4c5d3bc6-235a-4d93-b683-8072056ccf08",
   "metadata": {},
   "outputs": [
    {
     "name": "stdout",
     "output_type": "stream",
     "text": [
      "[1, 2, 3, 3, 5, 29, 7, 10, 11, 12, 32, 76, 90, 36, 103, 432]\n"
     ]
    }
   ],
   "source": [
    "numbers[5] = 29\n",
    "print(numbers)"
   ]
  },
  {
   "cell_type": "code",
   "execution_count": 166,
   "id": "12218b71-2469-4f88-beb5-6455da800ce6",
   "metadata": {},
   "outputs": [
    {
     "name": "stdout",
     "output_type": "stream",
     "text": [
      "[1, 2, 1, 6, 8, 9, 20, 45, 67, 76, 31, 70, 36, 103, 432]\n"
     ]
    }
   ],
   "source": [
    "numbers[2:13] = 1,6,8,9,20,45,67,76,31,70\n",
    "print(numbers)"
   ]
  },
  {
   "cell_type": "code",
   "execution_count": 168,
   "id": "f13b6a77-92e6-4ba2-ba53-153bee821195",
   "metadata": {},
   "outputs": [
    {
     "name": "stdout",
     "output_type": "stream",
     "text": [
      "[1, 2, 1, 6, 8, 9, 20, 45, 67, 76, 31, 70, 31, 70, 36, 103, 432]\n"
     ]
    }
   ],
   "source": [
    "numbers[2:10] = 1,6,8,9,20,45,67,76,31,70\n",
    "print(numbers)"
   ]
  },
  {
   "cell_type": "code",
   "execution_count": 188,
   "id": "f2eb1118-8238-4cab-92ff-809db2bd4570",
   "metadata": {},
   "outputs": [
    {
     "name": "stdout",
     "output_type": "stream",
     "text": [
      "[1, 6, 8, 9, 20, 45, 67, 76, 31, 70, 861]\n"
     ]
    }
   ],
   "source": [
    "numbers[1:] \n",
    "print(numbers)"
   ]
  },
  {
   "cell_type": "markdown",
   "id": "1bb800f9-2605-4a69-8abe-258788c74826",
   "metadata": {},
   "source": [
    "# 5) List methods \n",
    "\n",
    "- There are mainly 9 methods\n",
    "- Which are used to change the list,add the element,subtract the element,modify the element\n",
    "- append(),extend(),insert(),remove(),pop(),index(),count(),sort(),reverse()"
   ]
  },
  {
   "cell_type": "markdown",
   "id": "422aed23-3a0d-46b2-b1c2-5b88744a359f",
   "metadata": {},
   "source": [
    "1.append() :\n",
    "\n",
    "- adds an element to the end of the list "
   ]
  },
  {
   "cell_type": "code",
   "execution_count": 204,
   "id": "71d5c378-d141-4d9a-a378-c64fbe346606",
   "metadata": {},
   "outputs": [
    {
     "name": "stdout",
     "output_type": "stream",
     "text": [
      "[1, 2, 34, 5, 321]\n"
     ]
    }
   ],
   "source": [
    "numbers=[1,2,34,5]\n",
    "numbers.append(321)\n",
    "print(numbers)"
   ]
  },
  {
   "cell_type": "code",
   "execution_count": 206,
   "id": "c8a68295-c144-49e9-838f-933d68cde89f",
   "metadata": {},
   "outputs": [
    {
     "ename": "TypeError",
     "evalue": "list.append() takes exactly one argument (2 given)",
     "output_type": "error",
     "traceback": [
      "\u001b[1;31m---------------------------------------------------------------------------\u001b[0m",
      "\u001b[1;31mTypeError\u001b[0m                                 Traceback (most recent call last)",
      "Cell \u001b[1;32mIn[206], line 1\u001b[0m\n\u001b[1;32m----> 1\u001b[0m numbers\u001b[38;5;241m.\u001b[39mappend(\u001b[38;5;241m321\u001b[39m,\u001b[38;5;241m43\u001b[39m)\n\u001b[0;32m      2\u001b[0m \u001b[38;5;28mprint\u001b[39m(numbers)\n",
      "\u001b[1;31mTypeError\u001b[0m: list.append() takes exactly one argument (2 given)"
     ]
    }
   ],
   "source": [
    "numbers.append(321,43)\n",
    "print(numbers)"
   ]
  },
  {
   "cell_type": "code",
   "execution_count": 208,
   "id": "fc101443-4ab6-4a29-ac4d-45af1c7b2ea1",
   "metadata": {},
   "outputs": [
    {
     "name": "stdout",
     "output_type": "stream",
     "text": [
      "[1, 2, 34, 5, 321, 32]\n"
     ]
    }
   ],
   "source": [
    "numbers.append(321)\n",
    "print(numbers)"
   ]
  },
  {
   "cell_type": "code",
   "execution_count": 210,
   "id": "5d57c7b7-f2b4-4d3e-bded-eb5db43f84a4",
   "metadata": {},
   "outputs": [
    {
     "name": "stdout",
     "output_type": "stream",
     "text": [
      "[1, 2, 34, 5, 321, 32, 332]\n"
     ]
    }
   ],
   "source": [
    "numbers.append(332)\n",
    "print(numbers)"
   ]
  },
  {
   "cell_type": "code",
   "execution_count": 212,
   "id": "0eacccc2-8a20-4a86-a31d-919f4374157b",
   "metadata": {},
   "outputs": [
    {
     "name": "stdout",
     "output_type": "stream",
     "text": [
      "[1, 2, 34, 5, 321, 32, 332, 3201]\n"
     ]
    }
   ],
   "source": [
    "numbers.append(3201)\n",
    "print(numbers)"
   ]
  },
  {
   "cell_type": "markdown",
   "id": "57e0422b-2b1f-48e9-81e0-eedeb2f51292",
   "metadata": {},
   "source": [
    "2.extend():\n",
    "\n",
    "- Appends elements from anaother list to the ends\n",
    "- it ends the list using another list "
   ]
  },
  {
   "cell_type": "code",
   "execution_count": 216,
   "id": "9bddb14b-7db3-4bf3-a573-12beb30fba7a",
   "metadata": {},
   "outputs": [
    {
     "name": "stdout",
     "output_type": "stream",
     "text": [
      "[4, 3, 7, 8, 4, 8, 2, 1, 9, 0, 5]\n"
     ]
    }
   ],
   "source": [
    "numbers=[4,3,7,8]\n",
    "numbers1=[4,8,2,1,9,0,5]\n",
    "numbers.extend(numbers1)\n",
    "print(numbers)"
   ]
  },
  {
   "cell_type": "code",
   "execution_count": 218,
   "id": "93f60206-4feb-4fdc-8b8f-4795579029c8",
   "metadata": {},
   "outputs": [
    {
     "name": "stdout",
     "output_type": "stream",
     "text": [
      "[4, 3, 7, 8, 4, 8, 2, 1, 9, 0, 5, 5, 8, 1, 0, 4, 2, 54, 1]\n"
     ]
    }
   ],
   "source": [
    "numbers2=[5,8,1,0,4,2,54,1]\n",
    "numbers.extend(numbers2)\n",
    "print(numbers)"
   ]
  },
  {
   "cell_type": "code",
   "execution_count": 220,
   "id": "11ab729b-aa19-4c89-b089-88ea29c939d4",
   "metadata": {},
   "outputs": [
    {
     "name": "stdout",
     "output_type": "stream",
     "text": [
      "[4, 3, 7, 8, 4, 8, 2, 1, 9, 0, 5, 5, 8, 1, 0, 4, 2, 54, 1, 4, 8, 2, 1, 9]\n"
     ]
    }
   ],
   "source": [
    "numbers4=[4,8,2,1,9]\n",
    "numbers.extend(numbers4)\n",
    "print(numbers)"
   ]
  },
  {
   "cell_type": "code",
   "execution_count": 222,
   "id": "bb8521b6-4199-4de6-bd92-c61da7d3fbe5",
   "metadata": {},
   "outputs": [
    {
     "name": "stdout",
     "output_type": "stream",
     "text": [
      "[4, 3, 1, 2, 4, 3, 2]\n"
     ]
    }
   ],
   "source": [
    "numbers=[4,3]\n",
    "numbers1=[1,2,4,3,2]\n",
    "numbers.extend(numbers1)\n",
    "print(numbers)"
   ]
  },
  {
   "cell_type": "code",
   "execution_count": 224,
   "id": "60da53ea-1689-40f5-a2e7-2b3460bff0bf",
   "metadata": {},
   "outputs": [
    {
     "name": "stdout",
     "output_type": "stream",
     "text": [
      "[4, 3, 7, 8, 0, 41, 46, 702]\n"
     ]
    }
   ],
   "source": [
    "numbers=[4,3,7,8,0]\n",
    "numbers1=[41,46,702]\n",
    "numbers.extend(numbers1)\n",
    "print(numbers)"
   ]
  },
  {
   "cell_type": "markdown",
   "id": "39b71b66-2045-4905-9c3a-07e58feaf516",
   "metadata": {},
   "source": [
    "3. insert():\n",
    "\n",
    "- inserts an element in a specific position"
   ]
  },
  {
   "cell_type": "code",
   "execution_count": 231,
   "id": "905b154c-d00c-4a7e-8c81-1c1e4bbb1557",
   "metadata": {},
   "outputs": [
    {
     "name": "stdout",
     "output_type": "stream",
     "text": [
      "[3, 6, 9, 1, 1]\n"
     ]
    }
   ],
   "source": [
    "numbers=[3,6,9,1]\n",
    "numbers.insert(4,1)\n",
    "print(numbers)"
   ]
  },
  {
   "cell_type": "code",
   "execution_count": 233,
   "id": "c0d44906-3846-412d-9985-48fe5a65da78",
   "metadata": {},
   "outputs": [
    {
     "name": "stdout",
     "output_type": "stream",
     "text": [
      "[3, 6, 9, 1, 90, 3]\n"
     ]
    }
   ],
   "source": [
    "numbers=[3,6,9,1,3]\n",
    "numbers.insert(4,90)\n",
    "print(numbers)"
   ]
  },
  {
   "cell_type": "code",
   "execution_count": 235,
   "id": "4fe6df34-21d1-4282-b732-9148dc71b424",
   "metadata": {},
   "outputs": [
    {
     "name": "stdout",
     "output_type": "stream",
     "text": [
      "[3, 6, 9, 1, 4, 0, 2, 5]\n"
     ]
    }
   ],
   "source": [
    "numbers=[3,6,9,1,4,2,5]\n",
    "numbers.insert(5,0)\n",
    "print(numbers)"
   ]
  },
  {
   "cell_type": "code",
   "execution_count": 237,
   "id": "ccad2a32-263d-4cd8-aad0-79e36c2575f6",
   "metadata": {},
   "outputs": [
    {
     "name": "stdout",
     "output_type": "stream",
     "text": [
      "[3, 6, 9, 1, 6, 3, 1, 9, 0]\n"
     ]
    }
   ],
   "source": [
    "numbers=[3,6,9,1,6,3,1,0]\n",
    "numbers.insert(-1,9)\n",
    "print(numbers)"
   ]
  },
  {
   "cell_type": "code",
   "execution_count": 241,
   "id": "df17fe23-6a40-4ac2-ae90-19a8d36c07b6",
   "metadata": {},
   "outputs": [
    {
     "name": "stdout",
     "output_type": "stream",
     "text": [
      "[9, 3, 6, 9, 1, 6, 3, 1, 0]\n"
     ]
    }
   ],
   "source": [
    "numbers=[3,6,9,1,6,3,1,0]\n",
    "numbers.insert(0,9)\n",
    "print(numbers)"
   ]
  },
  {
   "cell_type": "markdown",
   "id": "9a9dcfe8-1513-440d-8c27-bf366bc86c08",
   "metadata": {},
   "source": [
    "4.remove() :\n",
    "\n",
    "- Removes the first occurence of a value"
   ]
  },
  {
   "cell_type": "code",
   "execution_count": 244,
   "id": "1aed9dd6-bcc6-449e-9514-d34cd40ffa9c",
   "metadata": {},
   "outputs": [
    {
     "name": "stdout",
     "output_type": "stream",
     "text": [
      "[1, 4, 8, 0, 1, 4, 6, 4, 1, 9]\n"
     ]
    }
   ],
   "source": [
    "numbers=[1,4,2,8,0,1,4,6,4,1,9,]\n",
    "numbers.remove(2)\n",
    "print(numbers)"
   ]
  },
  {
   "cell_type": "code",
   "execution_count": 246,
   "id": "3908894b-572a-4262-93b7-812be7fec1a1",
   "metadata": {},
   "outputs": [
    {
     "name": "stdout",
     "output_type": "stream",
     "text": [
      "[1, 8, 0, 1, 4, 6, 4, 1, 9]\n"
     ]
    }
   ],
   "source": [
    "numbers.remove(4)\n",
    "print(numbers)"
   ]
  },
  {
   "cell_type": "code",
   "execution_count": 250,
   "id": "11a3ca4a-dbf9-4fb2-a34d-b826299663d8",
   "metadata": {},
   "outputs": [
    {
     "name": "stdout",
     "output_type": "stream",
     "text": [
      "[8, 0, 1, 4, 6, 4, 1, 9]\n"
     ]
    }
   ],
   "source": [
    "numbers.remove(1)\n",
    "print(numbers)"
   ]
  },
  {
   "cell_type": "code",
   "execution_count": 254,
   "id": "c1eb67d4-ccdb-48c9-be99-d17061e157fa",
   "metadata": {},
   "outputs": [
    {
     "name": "stdout",
     "output_type": "stream",
     "text": [
      "[8, 0, 1, 6, 4, 1, 9]\n"
     ]
    }
   ],
   "source": [
    "numbers.remove(4)\n",
    "print(numbers)"
   ]
  },
  {
   "cell_type": "code",
   "execution_count": 256,
   "id": "9441772c-b7d9-4be2-9552-58b3f7a96880",
   "metadata": {},
   "outputs": [
    {
     "name": "stdout",
     "output_type": "stream",
     "text": [
      "[8, 1, 6, 4, 1, 9]\n"
     ]
    }
   ],
   "source": [
    "numbers.remove(0)\n",
    "print(numbers)"
   ]
  },
  {
   "cell_type": "markdown",
   "id": "db8f05e3-c12f-4160-bd60-9dbbe6a0e89b",
   "metadata": {},
   "source": [
    "5.pop():\n",
    "\n",
    "- Removes and returns an element at a specific index"
   ]
  },
  {
   "cell_type": "code",
   "execution_count": 261,
   "id": "f4d548f9-3866-4f84-b516-661c601305bf",
   "metadata": {},
   "outputs": [
    {
     "name": "stdout",
     "output_type": "stream",
     "text": [
      "3\n"
     ]
    }
   ],
   "source": [
    "sushma=[1,4,2,3,7,6,5,9,0,3,1,4,2]\n",
    "popped_sushma = sushma.pop(3)\n",
    "print(popped_sushma)"
   ]
  },
  {
   "cell_type": "code",
   "execution_count": 263,
   "id": "2371abdb-3a13-4998-ab64-7d980e5bacff",
   "metadata": {},
   "outputs": [
    {
     "name": "stdout",
     "output_type": "stream",
     "text": [
      "6\n"
     ]
    }
   ],
   "source": [
    "popped_sushma = sushma.pop(4)\n",
    "print(popped_sushma)"
   ]
  },
  {
   "cell_type": "code",
   "execution_count": 265,
   "id": "61d97119-d898-42d5-a4ad-12d036c7ab5a",
   "metadata": {},
   "outputs": [
    {
     "name": "stdout",
     "output_type": "stream",
     "text": [
      "2\n"
     ]
    }
   ],
   "source": [
    "popped_sushma = sushma.pop(-1)\n",
    "print(popped_sushma)"
   ]
  },
  {
   "cell_type": "code",
   "execution_count": 269,
   "id": "36194c04-29a5-4cd3-b627-a4edf6a606a8",
   "metadata": {},
   "outputs": [
    {
     "name": "stdout",
     "output_type": "stream",
     "text": [
      "1\n"
     ]
    }
   ],
   "source": [
    "popped_sushma = sushma.pop(-10)\n",
    "print(popped_sushma)"
   ]
  },
  {
   "cell_type": "code",
   "execution_count": 275,
   "id": "58430d77-2927-446c-9c3c-9faf3d0bd3b7",
   "metadata": {},
   "outputs": [
    {
     "name": "stdout",
     "output_type": "stream",
     "text": [
      "4\n"
     ]
    }
   ],
   "source": [
    "popped_sushma = sushma.pop(8)\n",
    "print(popped_sushma)"
   ]
  },
  {
   "cell_type": "markdown",
   "id": "a1d2a8c3-d86f-4cff-bc3c-18c800eb1166",
   "metadata": {},
   "source": [
    "6.index() :\n",
    "\n",
    "- Gives the index number of particular element."
   ]
  },
  {
   "cell_type": "code",
   "execution_count": 278,
   "id": "1f0d9283-9d0c-435c-a01d-8679b821dd4c",
   "metadata": {},
   "outputs": [
    {
     "name": "stdout",
     "output_type": "stream",
     "text": [
      "3\n"
     ]
    }
   ],
   "source": [
    "numbers=[12,20,40,100,53,51,60,90,203]\n",
    "index=numbers.index(100)\n",
    "print(index)"
   ]
  },
  {
   "cell_type": "code",
   "execution_count": 280,
   "id": "bc593826-1245-48f5-9245-55d8da8cce25",
   "metadata": {},
   "outputs": [
    {
     "name": "stdout",
     "output_type": "stream",
     "text": [
      "7\n"
     ]
    }
   ],
   "source": [
    "index=numbers.index(90)\n",
    "print(index)"
   ]
  },
  {
   "cell_type": "code",
   "execution_count": 286,
   "id": "17e01842-2efd-4a00-9f9d-f6ae93a045e0",
   "metadata": {},
   "outputs": [
    {
     "name": "stdout",
     "output_type": "stream",
     "text": [
      "1\n"
     ]
    }
   ],
   "source": [
    "index=numbers.index(20)\n",
    "print(index)"
   ]
  },
  {
   "cell_type": "code",
   "execution_count": 290,
   "id": "82692d7b-d54e-49fa-be10-035bc164e643",
   "metadata": {},
   "outputs": [
    {
     "name": "stdout",
     "output_type": "stream",
     "text": [
      "4\n"
     ]
    }
   ],
   "source": [
    "index=numbers.index(53)\n",
    "print(index)"
   ]
  },
  {
   "cell_type": "code",
   "execution_count": 292,
   "id": "9e20a3a8-faf6-4049-b633-ded58d4dd09a",
   "metadata": {},
   "outputs": [
    {
     "name": "stdout",
     "output_type": "stream",
     "text": [
      "2\n"
     ]
    }
   ],
   "source": [
    "index=numbers.index(40)\n",
    "print(index)"
   ]
  },
  {
   "cell_type": "markdown",
   "id": "c06fee5a-f03a-45cf-9bcb-dfdee4aa1f71",
   "metadata": {},
   "source": [
    "7.count() :\n",
    "\n",
    "- Returns the number of occurences of the exact value"
   ]
  },
  {
   "cell_type": "code",
   "execution_count": 305,
   "id": "8306f0c5-f5a6-4f1f-8cba-9a01cb21da57",
   "metadata": {},
   "outputs": [
    {
     "name": "stdout",
     "output_type": "stream",
     "text": [
      "3\n"
     ]
    }
   ],
   "source": [
    "numbers=[3,2,1,6,5,4,3,2,1,9,0,8,6,4,4,5,2,1,0,2,3]\n",
    "count=numbers.count(3)\n",
    "print(count)"
   ]
  },
  {
   "cell_type": "code",
   "execution_count": 307,
   "id": "fb954264-12b8-4946-bb13-1927e462c95c",
   "metadata": {},
   "outputs": [
    {
     "name": "stdout",
     "output_type": "stream",
     "text": [
      "3\n"
     ]
    }
   ],
   "source": [
    "count=numbers.count(1)\n",
    "print(count)"
   ]
  },
  {
   "cell_type": "code",
   "execution_count": 309,
   "id": "258661ec-b734-4ddd-9594-c0cf6efb3ce8",
   "metadata": {},
   "outputs": [
    {
     "name": "stdout",
     "output_type": "stream",
     "text": [
      "2\n"
     ]
    }
   ],
   "source": [
    "count=numbers.count(0)\n",
    "print(count)"
   ]
  },
  {
   "cell_type": "code",
   "execution_count": 311,
   "id": "3cac0c8b-99db-4544-a5fd-f283a8687ceb",
   "metadata": {},
   "outputs": [
    {
     "name": "stdout",
     "output_type": "stream",
     "text": [
      "3\n"
     ]
    }
   ],
   "source": [
    "count=numbers.count(4)\n",
    "print(count)"
   ]
  },
  {
   "cell_type": "code",
   "execution_count": 313,
   "id": "fa5bf2c8-ba3d-461b-ba3d-13fa2cb1859a",
   "metadata": {},
   "outputs": [
    {
     "name": "stdout",
     "output_type": "stream",
     "text": [
      "2\n"
     ]
    }
   ],
   "source": [
    "count=numbers.count(5)\n",
    "print(count)"
   ]
  },
  {
   "cell_type": "code",
   "execution_count": 315,
   "id": "885202d8-4b94-4f4f-a005-1bffcbe5ba76",
   "metadata": {},
   "outputs": [
    {
     "name": "stdout",
     "output_type": "stream",
     "text": [
      "0\n"
     ]
    }
   ],
   "source": [
    "count=numbers.count(7)\n",
    "print(count)"
   ]
  },
  {
   "cell_type": "code",
   "execution_count": 317,
   "id": "6790b756-a72d-4006-b945-5fdba6f2ec0e",
   "metadata": {},
   "outputs": [
    {
     "name": "stdout",
     "output_type": "stream",
     "text": [
      "1\n"
     ]
    }
   ],
   "source": [
    "count=numbers.count(8)\n",
    "print(count)"
   ]
  },
  {
   "cell_type": "markdown",
   "id": "1cf1f843-db35-4048-91d4-e5cb3285cfe4",
   "metadata": {},
   "source": [
    "8.sort() : \n",
    "\n",
    "- sorting the list in a ascending order."
   ]
  },
  {
   "cell_type": "code",
   "execution_count": 320,
   "id": "83db992d-8705-46f7-a3f4-5c5136ecfe86",
   "metadata": {},
   "outputs": [
    {
     "name": "stdout",
     "output_type": "stream",
     "text": [
      "[0, 0, 1, 1, 1, 2, 2, 2, 2, 3, 3, 3, 4, 4, 4, 5, 5, 6, 6, 8, 9]\n"
     ]
    }
   ],
   "source": [
    "numbers=[3,2,1,6,5,4,3,2,1,9,0,8,6,4,4,5,2,1,0,2,3]\n",
    "numbers.sort()\n",
    "print(numbers)"
   ]
  },
  {
   "cell_type": "code",
   "execution_count": 322,
   "id": "95cb7261-c5d4-4934-a9a5-2bffb6422d90",
   "metadata": {},
   "outputs": [
    {
     "name": "stdout",
     "output_type": "stream",
     "text": [
      "[0, 1, 1, 2, 2, 3, 3, 4, 4, 4, 5, 5, 6, 6, 8, 9]\n"
     ]
    }
   ],
   "source": [
    "numbers=[3,2,1,6,5,4,3,2,1,9,0,8,6,4,4,5]\n",
    "numbers.sort()\n",
    "print(numbers)"
   ]
  },
  {
   "cell_type": "code",
   "execution_count": 324,
   "id": "0be51bcc-6233-4133-a60c-d0704626c5e7",
   "metadata": {},
   "outputs": [
    {
     "name": "stdout",
     "output_type": "stream",
     "text": [
      "[0, 0, 1, 1, 2, 2, 2, 2, 3, 3, 3, 4, 4, 4, 5, 5, 6, 8, 9]\n"
     ]
    }
   ],
   "source": [
    "numbers=[3,2,5,4,3,2,1,9,0,8,6,4,4,5,2,1,0,2,3]\n",
    "numbers.sort()\n",
    "print(numbers)"
   ]
  },
  {
   "cell_type": "code",
   "execution_count": 326,
   "id": "b6992523-64b8-4a54-b025-886207194b58",
   "metadata": {},
   "outputs": [
    {
     "name": "stdout",
     "output_type": "stream",
     "text": [
      "[0, 0, 1, 1, 1, 2, 2, 2, 2, 3, 3, 3, 4, 4, 4, 5, 5, 6, 9]\n"
     ]
    }
   ],
   "source": [
    "numbers=[3,2,1,6,5,4,3,2,1,9,0,4,4,5,2,1,0,2,3]\n",
    "numbers.sort()\n",
    "print(numbers)"
   ]
  },
  {
   "cell_type": "code",
   "execution_count": 328,
   "id": "59c61a9c-f814-45db-8cb9-6e675cad30a4",
   "metadata": {},
   "outputs": [
    {
     "name": "stdout",
     "output_type": "stream",
     "text": [
      "[0, 0, 1, 1, 1, 2, 2, 2, 2, 3, 3, 3, 4, 4, 4, 5, 5, 6, 6, 8, 9, 10, 20, 41, 50]\n"
     ]
    }
   ],
   "source": [
    "numbers=[3,2,1,6,5,4,3,2,1,9,0,8,6,4,4,5,2,1,0,2,3,10,20,41,50]\n",
    "numbers.sort()\n",
    "print(numbers)"
   ]
  },
  {
   "cell_type": "code",
   "execution_count": 330,
   "id": "8205448c-1004-4dde-ac9a-fea4c89da6f6",
   "metadata": {},
   "outputs": [
    {
     "name": "stdout",
     "output_type": "stream",
     "text": [
      "[9, 8, 6, 6, 5, 5, 4, 4, 4, 3, 3, 3, 2, 2, 2, 2, 1, 1, 1, 0, 0]\n"
     ]
    }
   ],
   "source": [
    "numbers=[3,2,1,6,5,4,3,2,1,9,0,8,6,4,4,5,2,1,0,2,3]\n",
    "numbers.sort(reverse = True)\n",
    "print(numbers)"
   ]
  },
  {
   "cell_type": "code",
   "execution_count": 332,
   "id": "d333fe75-eb4a-4ce2-a40e-d45c6803ad82",
   "metadata": {},
   "outputs": [
    {
     "name": "stdout",
     "output_type": "stream",
     "text": [
      "[50, 41, 20, 10, 9, 8, 6, 6, 5, 5, 4, 4, 4, 3, 3, 3, 2, 2, 2, 2, 1, 1, 1, 0, 0]\n"
     ]
    }
   ],
   "source": [
    "numbers=[3,2,1,6,5,4,3,2,1,9,0,8,6,4,4,5,2,1,0,2,3,10,20,41,50]\n",
    "numbers.sort(reverse = True)\n",
    "print(numbers)"
   ]
  },
  {
   "cell_type": "code",
   "execution_count": 334,
   "id": "32b1f2b6-ae11-476e-9ad1-a9ce1cb9cfcb",
   "metadata": {},
   "outputs": [
    {
     "name": "stdout",
     "output_type": "stream",
     "text": [
      "[9, 6, 5, 5, 4, 4, 4, 3, 3, 3, 2, 2, 2, 2, 1, 1, 1, 0, 0]\n"
     ]
    }
   ],
   "source": [
    "numbers=[3,2,1,6,5,4,3,2,1,9,0,4,4,5,2,1,0,2,3]\n",
    "numbers.sort(reverse = True)\n",
    "print(numbers)"
   ]
  },
  {
   "cell_type": "code",
   "execution_count": 336,
   "id": "8b3bb706-9ce4-4507-bc25-25cc93003ab0",
   "metadata": {},
   "outputs": [
    {
     "name": "stdout",
     "output_type": "stream",
     "text": [
      "[50, 41, 20, 10, 9, 8, 6, 6, 5, 4, 4, 3, 3, 3, 2, 2, 2, 1, 1, 0]\n"
     ]
    }
   ],
   "source": [
    "numbers=[3,2,1,6,5,4,3,2,1,9,0,8,6,4,2,3,10,20,41,50]\n",
    "numbers.sort(reverse = True)\n",
    "print(numbers)"
   ]
  },
  {
   "cell_type": "code",
   "execution_count": 338,
   "id": "34f68700-92dd-4e80-8779-abbee15d2b3a",
   "metadata": {},
   "outputs": [
    {
     "name": "stdout",
     "output_type": "stream",
     "text": [
      "[9, 8, 6, 5, 5, 4, 4, 4, 3, 3, 3, 2, 2, 2, 2, 1, 1, 0, 0]\n"
     ]
    }
   ],
   "source": [
    "numbers=[3,2,5,4,3,2,1,9,0,8,6,4,4,5,2,1,0,2,3]\n",
    "numbers.sort(reverse = True)\n",
    "print(numbers)"
   ]
  },
  {
   "cell_type": "markdown",
   "id": "c409d684-1f19-4746-89ab-b8c491d1979d",
   "metadata": {},
   "source": [
    "9.reverse():\n",
    "\n",
    "- reverse the order of the elements in the list "
   ]
  },
  {
   "cell_type": "code",
   "execution_count": 342,
   "id": "78963a19-77cf-4987-9ca9-a06b9f2c0cdc",
   "metadata": {},
   "outputs": [
    {
     "name": "stdout",
     "output_type": "stream",
     "text": [
      "[5, 0, 2, 3, 4, 1]\n"
     ]
    }
   ],
   "source": [
    "number=[1,4,3,2,0,5]\n",
    "number.reverse()\n",
    "print(number)"
   ]
  },
  {
   "cell_type": "code",
   "execution_count": 344,
   "id": "785822af-180a-48e0-95cb-428117658eaf",
   "metadata": {},
   "outputs": [
    {
     "name": "stdout",
     "output_type": "stream",
     "text": [
      "[5, 0, 2, 3, 14, 10]\n"
     ]
    }
   ],
   "source": [
    "number=[10,14,3,2,0,5]\n",
    "number.reverse()\n",
    "print(number)"
   ]
  },
  {
   "cell_type": "code",
   "execution_count": 346,
   "id": "6edb6e99-94c7-4c67-96be-90b60b2bc125",
   "metadata": {},
   "outputs": [
    {
     "name": "stdout",
     "output_type": "stream",
     "text": [
      "[3224, 5, 53, 0, 12, 3, 4, 1]\n"
     ]
    }
   ],
   "source": [
    "number=[1,4,3,12,0,53,5,3224]\n",
    "number.reverse()\n",
    "print(number)"
   ]
  },
  {
   "cell_type": "code",
   "execution_count": 348,
   "id": "32ad25b0-619b-4b7e-8f59-0936861fc187",
   "metadata": {},
   "outputs": [
    {
     "name": "stdout",
     "output_type": "stream",
     "text": [
      "[3224, 5, 53, 0, 12]\n"
     ]
    }
   ],
   "source": [
    "number=[12,0,53,5,3224]\n",
    "number.reverse()\n",
    "print(number)"
   ]
  },
  {
   "cell_type": "code",
   "execution_count": 350,
   "id": "b8d8c87c-16a3-4560-bd01-63ae7d7ab5e5",
   "metadata": {},
   "outputs": [
    {
     "name": "stdout",
     "output_type": "stream",
     "text": [
      "[1432, 100, 3224, 5, 53, 0, 12]\n"
     ]
    }
   ],
   "source": [
    "number=[12,0,53,5,3224,100,1432]\n",
    "number.reverse()\n",
    "print(number)"
   ]
  },
  {
   "cell_type": "markdown",
   "id": "7b7f1821-ad17-4513-9aa8-c0f7b7287583",
   "metadata": {},
   "source": [
    "10.copy():\n",
    "\n",
    "- returns the copy of a list"
   ]
  },
  {
   "cell_type": "code",
   "execution_count": 353,
   "id": "401051ee-ff87-4c4c-ae93-c81b06ca4348",
   "metadata": {},
   "outputs": [
    {
     "name": "stdout",
     "output_type": "stream",
     "text": [
      "[12, 0, 53, 5, 3224]\n"
     ]
    }
   ],
   "source": [
    "number=[12,0,53,5,3224]\n",
    "number.copy()\n",
    "print(number)"
   ]
  },
  {
   "cell_type": "code",
   "execution_count": 355,
   "id": "46424ff8-23e0-44f5-8f5a-8d676de18033",
   "metadata": {},
   "outputs": [
    {
     "name": "stdout",
     "output_type": "stream",
     "text": [
      "[12, 0, 533224]\n"
     ]
    }
   ],
   "source": [
    "number=[12,0,533224]\n",
    "number.copy()\n",
    "print(number)"
   ]
  },
  {
   "cell_type": "code",
   "execution_count": 357,
   "id": "68facee4-943d-4756-89b7-b44a0c5a77c9",
   "metadata": {},
   "outputs": [
    {
     "name": "stdout",
     "output_type": "stream",
     "text": [
      "[12, 0, 53, 5, 3224, 100, 121]\n"
     ]
    }
   ],
   "source": [
    "number=[12,0,53,5,3224,100,121]\n",
    "number.copy()\n",
    "print(number)"
   ]
  },
  {
   "cell_type": "code",
   "execution_count": 361,
   "id": "c4d4f183-bb25-4e5d-8860-c494f49f7b4a",
   "metadata": {},
   "outputs": [
    {
     "name": "stdout",
     "output_type": "stream",
     "text": [
      "[12, 0, 53, 5, 3224, 51, 68, 9]\n"
     ]
    }
   ],
   "source": [
    "number=[12,0,53,5,3224,51,68,9]\n",
    "number.copy()\n",
    "print(number)"
   ]
  },
  {
   "cell_type": "code",
   "execution_count": 363,
   "id": "5c6e78c3-7d70-4cc0-98e1-bcebfefe1f2a",
   "metadata": {},
   "outputs": [
    {
     "name": "stdout",
     "output_type": "stream",
     "text": [
      "[12, 0, 53, 5, 322, 4, 5431]\n"
     ]
    }
   ],
   "source": [
    "number=[12,0,53,5,322,4,5431]\n",
    "number.copy()\n",
    "print(number)"
   ]
  },
  {
   "cell_type": "markdown",
   "id": "5d66f9eb-d33e-4be8-a002-f486579aa897",
   "metadata": {},
   "source": [
    "11.clear():\n",
    "\n",
    "- removes all the items from the list\n",
    "- makes null or empty list "
   ]
  },
  {
   "cell_type": "code",
   "execution_count": 366,
   "id": "43574014-78d2-4623-bf42-b4e631a0e093",
   "metadata": {},
   "outputs": [
    {
     "name": "stdout",
     "output_type": "stream",
     "text": [
      "[]\n"
     ]
    }
   ],
   "source": [
    "lst=[1,2,3,57]\n",
    "lst.clear()\n",
    "print(lst)"
   ]
  },
  {
   "cell_type": "code",
   "execution_count": 368,
   "id": "09cd9274-a20d-4908-be46-a9ccb20c4c36",
   "metadata": {},
   "outputs": [
    {
     "name": "stdout",
     "output_type": "stream",
     "text": [
      "[]\n"
     ]
    }
   ],
   "source": [
    "lst=[1,2,3,57,51,567]\n",
    "lst.clear()\n",
    "print(lst)"
   ]
  },
  {
   "cell_type": "code",
   "execution_count": 370,
   "id": "ece7438c-ed08-4f1e-8c7c-dddee8e42ee9",
   "metadata": {},
   "outputs": [
    {
     "name": "stdout",
     "output_type": "stream",
     "text": [
      "[]\n"
     ]
    }
   ],
   "source": [
    "lst=[1,2,3,57,51,567,1000]\n",
    "lst.clear()\n",
    "print(lst)"
   ]
  },
  {
   "cell_type": "code",
   "execution_count": 372,
   "id": "6442ffa5-d596-48bc-8fa5-e684006f2451",
   "metadata": {},
   "outputs": [
    {
     "name": "stdout",
     "output_type": "stream",
     "text": [
      "[]\n"
     ]
    }
   ],
   "source": [
    "lst=[1,2,3,57,51,567,897]\n",
    "lst.clear()\n",
    "print(lst)"
   ]
  },
  {
   "cell_type": "code",
   "execution_count": 374,
   "id": "5a578608-aebb-4275-b2c1-1964b6769c4a",
   "metadata": {},
   "outputs": [
    {
     "name": "stdout",
     "output_type": "stream",
     "text": [
      "[]\n"
     ]
    }
   ],
   "source": [
    "lst=[10,20,30,40,43]\n",
    "lst.clear()\n",
    "print(lst)"
   ]
  },
  {
   "cell_type": "markdown",
   "id": "ef2d59a6-4d85-42bd-8c38-c6a4ecf4633e",
   "metadata": {},
   "source": [
    "12.max():\n",
    "\n",
    "- Calculates the maximum of all the elements of the List"
   ]
  },
  {
   "cell_type": "code",
   "execution_count": 379,
   "id": "8644e23b-31c5-47ea-8381-9396d0d8798b",
   "metadata": {},
   "outputs": [
    {
     "name": "stdout",
     "output_type": "stream",
     "text": [
      "9\n"
     ]
    }
   ],
   "source": [
    "my_list = [1, 5, 3, 9, 2]\n",
    "largest_value = max(my_list)\n",
    "print(largest_value)"
   ]
  },
  {
   "cell_type": "code",
   "execution_count": 381,
   "id": "679d420a-d852-4fca-b2eb-24a6a0e962ac",
   "metadata": {},
   "outputs": [
    {
     "name": "stdout",
     "output_type": "stream",
     "text": [
      "123\n"
     ]
    }
   ],
   "source": [
    "my_list = [1, 5, 3, 9, 2,43,123]\n",
    "largest_value = max(my_list)\n",
    "print(largest_value)"
   ]
  },
  {
   "cell_type": "code",
   "execution_count": 383,
   "id": "fc015711-c893-4688-a032-ed94c51e8949",
   "metadata": {},
   "outputs": [
    {
     "name": "stdout",
     "output_type": "stream",
     "text": [
      "15\n"
     ]
    }
   ],
   "source": [
    "my_list = [15, 3, 9, 2]\n",
    "largest_value = max(my_list)\n",
    "print(largest_value)"
   ]
  },
  {
   "cell_type": "code",
   "execution_count": 397,
   "id": "13ba6671-6391-45e2-b514-a2a2b6f55fee",
   "metadata": {},
   "outputs": [
    {
     "name": "stdout",
     "output_type": "stream",
     "text": [
      "15\n"
     ]
    }
   ],
   "source": [
    "lst = [15, 3, 9, 2]\n",
    "maximum= max(lst)\n",
    "print(maximum)"
   ]
  },
  {
   "cell_type": "code",
   "execution_count": 399,
   "id": "58b4db04-5b3c-4a86-a278-5258bc4f7fa5",
   "metadata": {},
   "outputs": [
    {
     "name": "stdout",
     "output_type": "stream",
     "text": [
      "431\n"
     ]
    }
   ],
   "source": [
    "lst = [15, 3, 9, 2, 431]\n",
    "maximum= max(lst)\n",
    "print(maximum)"
   ]
  },
  {
   "cell_type": "markdown",
   "id": "511b5c40-988d-4232-af7a-231981d7a22d",
   "metadata": {},
   "source": [
    "13.min():\n",
    "\n",
    "- Calculates the minimum of all the elements of the List"
   ]
  },
  {
   "cell_type": "code",
   "execution_count": 403,
   "id": "731eedee-1323-4b3d-a606-5ec828d9bdde",
   "metadata": {},
   "outputs": [
    {
     "name": "stdout",
     "output_type": "stream",
     "text": [
      "2\n"
     ]
    }
   ],
   "source": [
    "lst = [15, 3, 9, 2, 431]\n",
    "maximum= min(lst)\n",
    "print(maximum)"
   ]
  },
  {
   "cell_type": "code",
   "execution_count": 409,
   "id": "e9bdde36-8bfb-4b29-ac8b-cf907c9c0360",
   "metadata": {},
   "outputs": [
    {
     "name": "stdout",
     "output_type": "stream",
     "text": [
      "0\n"
     ]
    }
   ],
   "source": [
    "lst = [15, 3, 9, 2,1,0]\n",
    "maximum= min(lst)\n",
    "print(maximum)"
   ]
  },
  {
   "cell_type": "code",
   "execution_count": 413,
   "id": "383173ca-5329-442d-9d97-a66151ab4a4c",
   "metadata": {},
   "outputs": [
    {
     "name": "stdout",
     "output_type": "stream",
     "text": [
      "1\n"
     ]
    }
   ],
   "source": [
    "my_list = [1, 5, 3, 9, 2,43,123]\n",
    "minimum = min(my_list)\n",
    "print(minimum)"
   ]
  },
  {
   "cell_type": "code",
   "execution_count": 419,
   "id": "3646b2e5-7a33-4a3d-af5f-b5d9d2a726b0",
   "metadata": {},
   "outputs": [
    {
     "name": "stdout",
     "output_type": "stream",
     "text": [
      "-1\n"
     ]
    }
   ],
   "source": [
    "my_list = [1, 5, 3, 9, 2,0,-1]\n",
    "largest_value = min(my_list)\n",
    "print(largest_value)"
   ]
  },
  {
   "cell_type": "code",
   "execution_count": 431,
   "id": "dc4e8739-a926-4444-9fb5-f2bf08c395eb",
   "metadata": {},
   "outputs": [
    {
     "name": "stdout",
     "output_type": "stream",
     "text": [
      "10\n"
     ]
    }
   ],
   "source": [
    "my_lst=[10,20,30,40,43]\n",
    "minimum = min(my_lst)\n",
    "print(minimum)"
   ]
  },
  {
   "cell_type": "code",
   "execution_count": null,
   "id": "2beb70c3-a3ed-4f8d-9f73-3ca3b11d2fc4",
   "metadata": {},
   "outputs": [],
   "source": []
  }
 ],
 "metadata": {
  "kernelspec": {
   "display_name": "Python 3 (ipykernel)",
   "language": "python",
   "name": "python3"
  },
  "language_info": {
   "codemirror_mode": {
    "name": "ipython",
    "version": 3
   },
   "file_extension": ".py",
   "mimetype": "text/x-python",
   "name": "python",
   "nbconvert_exporter": "python",
   "pygments_lexer": "ipython3",
   "version": "3.12.4"
  }
 },
 "nbformat": 4,
 "nbformat_minor": 5
}
