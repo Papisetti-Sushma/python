{
 "cells": [
  {
   "cell_type": "markdown",
   "id": "8ce5aad8-36f3-41dd-b21d-d2f47459f343",
   "metadata": {},
   "source": [
    "# 1) Explain about Operators?\n",
    "\n",
    "- Used to perform operations between variables / values\n",
    "- there are 7 types of operators\n",
    "- Arithmetic operators\n",
    "- logical operators\n",
    "- comparsion operators\n",
    "- Assignment operators\n",
    "- Membership operators\n",
    "- Identical operators\n",
    "- Bitwise operators"
   ]
  },
  {
   "cell_type": "markdown",
   "id": "5afdf90b-e309-4bcd-bed4-76b97dbb239f",
   "metadata": {},
   "source": [
    "# a ) Arithmetic operators\n",
    "\n",
    "- are used with numeric values to perform common operators\n",
    "- there are 7 types of arithmetic operators\n",
    "- + ( addition)\n",
    "- - (subtraction)\n",
    "- * (Multiplication)\n",
    "- / (Division) ( after division it gives output as Quotient)\n",
    "- // (float division) ( it removes decimal points)\n",
    "- ** (Exponention)\n",
    "- % (Modules) ( after division it gives output as remainder)"
   ]
  },
  {
   "cell_type": "code",
   "execution_count": 1,
   "id": "f97a8ae9-6e74-4740-a974-f9c1b879b5b4",
   "metadata": {},
   "outputs": [],
   "source": [
    "a=1\n",
    "b=56"
   ]
  },
  {
   "cell_type": "code",
   "execution_count": 3,
   "id": "d789f19b-9ddb-4995-b236-60439248f90e",
   "metadata": {},
   "outputs": [
    {
     "name": "stdout",
     "output_type": "stream",
     "text": [
      "57\n"
     ]
    }
   ],
   "source": [
    "print(a+b)"
   ]
  },
  {
   "cell_type": "code",
   "execution_count": 5,
   "id": "4f9dde7c-f1ae-409c-990e-ae91bf342d53",
   "metadata": {},
   "outputs": [
    {
     "name": "stdout",
     "output_type": "stream",
     "text": [
      "-55\n"
     ]
    }
   ],
   "source": [
    "print(a-b)"
   ]
  },
  {
   "cell_type": "code",
   "execution_count": 7,
   "id": "59bed0ab-42cb-4168-9bd6-d93fa838170c",
   "metadata": {},
   "outputs": [
    {
     "name": "stdout",
     "output_type": "stream",
     "text": [
      "56\n"
     ]
    }
   ],
   "source": [
    "print(a*b)"
   ]
  },
  {
   "cell_type": "code",
   "execution_count": 9,
   "id": "056d3a08-80fe-4500-abd7-5dc2df14dc44",
   "metadata": {},
   "outputs": [
    {
     "name": "stdout",
     "output_type": "stream",
     "text": [
      "0.017857142857142856\n"
     ]
    }
   ],
   "source": [
    "print(a/b)"
   ]
  },
  {
   "cell_type": "code",
   "execution_count": 11,
   "id": "90642dfb-ec87-451e-8c0e-c847c3382cba",
   "metadata": {},
   "outputs": [
    {
     "name": "stdout",
     "output_type": "stream",
     "text": [
      "0\n"
     ]
    }
   ],
   "source": [
    "print(a//b)"
   ]
  },
  {
   "cell_type": "code",
   "execution_count": 13,
   "id": "5d010b88-a7a2-46c9-a1ad-ba603c3063c0",
   "metadata": {},
   "outputs": [
    {
     "name": "stdout",
     "output_type": "stream",
     "text": [
      "1\n"
     ]
    }
   ],
   "source": [
    "print(a**b)"
   ]
  },
  {
   "cell_type": "code",
   "execution_count": 15,
   "id": "c4b683b9-7675-4fc7-98a0-aef1787924bf",
   "metadata": {},
   "outputs": [
    {
     "name": "stdout",
     "output_type": "stream",
     "text": [
      "1\n"
     ]
    }
   ],
   "source": [
    "print(a%b)"
   ]
  },
  {
   "cell_type": "code",
   "execution_count": 17,
   "id": "4c48f4bd-55f5-4222-a8b9-9a37d7983b74",
   "metadata": {},
   "outputs": [],
   "source": [
    "a=43\n",
    "b=12"
   ]
  },
  {
   "cell_type": "code",
   "execution_count": 21,
   "id": "5cb66139-b7f4-43f1-88d9-428845fe3ac1",
   "metadata": {},
   "outputs": [
    {
     "name": "stdout",
     "output_type": "stream",
     "text": [
      "55\n"
     ]
    }
   ],
   "source": [
    "print(a+b)"
   ]
  },
  {
   "cell_type": "code",
   "execution_count": 23,
   "id": "b90986db-1010-4766-b288-4f79e3674db8",
   "metadata": {},
   "outputs": [
    {
     "name": "stdout",
     "output_type": "stream",
     "text": [
      "31\n"
     ]
    }
   ],
   "source": [
    "print(a-b)"
   ]
  },
  {
   "cell_type": "code",
   "execution_count": 25,
   "id": "2d8edfeb-810a-4eef-96ff-6294ceb80e5d",
   "metadata": {},
   "outputs": [
    {
     "name": "stdout",
     "output_type": "stream",
     "text": [
      "516\n"
     ]
    }
   ],
   "source": [
    "print(a*b)"
   ]
  },
  {
   "cell_type": "code",
   "execution_count": 27,
   "id": "5177e327-23e9-4c78-bc05-cbe38f32455c",
   "metadata": {},
   "outputs": [
    {
     "name": "stdout",
     "output_type": "stream",
     "text": [
      "3.5833333333333335\n"
     ]
    }
   ],
   "source": [
    "print(a/b)"
   ]
  },
  {
   "cell_type": "code",
   "execution_count": 29,
   "id": "e15e360e-7724-4d95-aff3-bf808c83c6ca",
   "metadata": {},
   "outputs": [
    {
     "name": "stdout",
     "output_type": "stream",
     "text": [
      "3\n"
     ]
    }
   ],
   "source": [
    "print(a//b)"
   ]
  },
  {
   "cell_type": "code",
   "execution_count": 31,
   "id": "b9454dc4-1945-4f95-9ecc-ac562a859179",
   "metadata": {},
   "outputs": [
    {
     "name": "stdout",
     "output_type": "stream",
     "text": [
      "39959630797262576401\n"
     ]
    }
   ],
   "source": [
    "print(a**b)"
   ]
  },
  {
   "cell_type": "code",
   "execution_count": 33,
   "id": "65b44c48-d343-4d44-874c-f6071154198d",
   "metadata": {},
   "outputs": [
    {
     "name": "stdout",
     "output_type": "stream",
     "text": [
      "7\n"
     ]
    }
   ],
   "source": [
    "print(a%b)"
   ]
  },
  {
   "cell_type": "code",
   "execution_count": 35,
   "id": "c9e957dd-a0e0-439f-a831-3a32f47136e9",
   "metadata": {},
   "outputs": [],
   "source": [
    "x=26\n",
    "y=19"
   ]
  },
  {
   "cell_type": "code",
   "execution_count": 37,
   "id": "aa8c57ae-1b2d-49bb-9d8b-368e07be5aaf",
   "metadata": {},
   "outputs": [
    {
     "name": "stdout",
     "output_type": "stream",
     "text": [
      "45\n"
     ]
    }
   ],
   "source": [
    "print(x+y)"
   ]
  },
  {
   "cell_type": "code",
   "execution_count": 39,
   "id": "67fd368c-715b-4974-84fc-cb9b2a630750",
   "metadata": {},
   "outputs": [
    {
     "name": "stdout",
     "output_type": "stream",
     "text": [
      "7\n"
     ]
    }
   ],
   "source": [
    "print(x-y)"
   ]
  },
  {
   "cell_type": "code",
   "execution_count": 41,
   "id": "fa334eb0-6771-462c-b772-ffc366158d6a",
   "metadata": {},
   "outputs": [
    {
     "name": "stdout",
     "output_type": "stream",
     "text": [
      "494\n"
     ]
    }
   ],
   "source": [
    "print(x*y)"
   ]
  },
  {
   "cell_type": "code",
   "execution_count": 43,
   "id": "93abecd2-6d3a-48f1-b34e-79580da2f542",
   "metadata": {},
   "outputs": [
    {
     "name": "stdout",
     "output_type": "stream",
     "text": [
      "1.368421052631579\n"
     ]
    }
   ],
   "source": [
    "print(x/y)"
   ]
  },
  {
   "cell_type": "code",
   "execution_count": 45,
   "id": "be35a6a8-0e01-4730-bcbd-5a786d814072",
   "metadata": {},
   "outputs": [
    {
     "name": "stdout",
     "output_type": "stream",
     "text": [
      "1\n"
     ]
    }
   ],
   "source": [
    "print(x//y)"
   ]
  },
  {
   "cell_type": "code",
   "execution_count": 47,
   "id": "d5653c62-ee39-4f59-8006-cd2856e91f00",
   "metadata": {},
   "outputs": [
    {
     "name": "stdout",
     "output_type": "stream",
     "text": [
      "766467265200361890474622976\n"
     ]
    }
   ],
   "source": [
    "print(x**y)"
   ]
  },
  {
   "cell_type": "code",
   "execution_count": 49,
   "id": "421772a8-33b9-43e4-b030-fd64cb21e95a",
   "metadata": {},
   "outputs": [
    {
     "name": "stdout",
     "output_type": "stream",
     "text": [
      "7\n"
     ]
    }
   ],
   "source": [
    "print(x%y)"
   ]
  },
  {
   "cell_type": "markdown",
   "id": "c2d1ed48-1535-41fd-a24f-9a5b697ac9f2",
   "metadata": {},
   "source": [
    "# b) Comparision Operator ?\n",
    "\n",
    "- comparing two variables or values with == , > ,<\n",
    "- connot able to compare using complex numbers\n",
    "- There are 6 types of comparision operations\n",
    "- == (real equal to )\n",
    "- != (not equal to)\n",
    "- <(less than )\n",
    "- > (greater than)\n",
    "- >= (greater than equal to )\n",
    "- <= (Less than equal to )"
   ]
  },
  {
   "cell_type": "code",
   "execution_count": 51,
   "id": "e399c383-8d92-4461-a8cb-caff72983aaf",
   "metadata": {},
   "outputs": [],
   "source": [
    "s=32\n",
    "n=58"
   ]
  },
  {
   "cell_type": "code",
   "execution_count": 53,
   "id": "8230654a-7dd8-4316-ba5b-94cb43d423a1",
   "metadata": {},
   "outputs": [
    {
     "name": "stdout",
     "output_type": "stream",
     "text": [
      "False\n"
     ]
    }
   ],
   "source": [
    "print(s==n)"
   ]
  },
  {
   "cell_type": "code",
   "execution_count": 55,
   "id": "842a5648-92f6-4072-a184-b789477820ea",
   "metadata": {},
   "outputs": [
    {
     "name": "stdout",
     "output_type": "stream",
     "text": [
      "True\n"
     ]
    }
   ],
   "source": [
    "print(s != n)"
   ]
  },
  {
   "cell_type": "code",
   "execution_count": 57,
   "id": "7d2cd6c2-729f-42ec-856f-06f18853f604",
   "metadata": {},
   "outputs": [
    {
     "name": "stdout",
     "output_type": "stream",
     "text": [
      "True\n"
     ]
    }
   ],
   "source": [
    "print(s<n)"
   ]
  },
  {
   "cell_type": "code",
   "execution_count": 59,
   "id": "922a0e07-f68d-4cc9-9b89-f01bdf81f236",
   "metadata": {},
   "outputs": [
    {
     "name": "stdout",
     "output_type": "stream",
     "text": [
      "False\n"
     ]
    }
   ],
   "source": [
    "print(s>n)"
   ]
  },
  {
   "cell_type": "code",
   "execution_count": 63,
   "id": "d1223b25-1390-45dd-8e7a-d21870bf6ed7",
   "metadata": {},
   "outputs": [
    {
     "name": "stdout",
     "output_type": "stream",
     "text": [
      "False\n"
     ]
    }
   ],
   "source": [
    "print(s>=n)"
   ]
  },
  {
   "cell_type": "code",
   "execution_count": 65,
   "id": "f77902e9-2a51-49c7-8c58-9c3a7b9b6721",
   "metadata": {},
   "outputs": [
    {
     "name": "stdout",
     "output_type": "stream",
     "text": [
      "True\n"
     ]
    }
   ],
   "source": [
    "print(s<=n)"
   ]
  },
  {
   "cell_type": "code",
   "execution_count": 67,
   "id": "5b6e4a9c-02fe-4a10-b5a2-c8ede8bb6273",
   "metadata": {},
   "outputs": [],
   "source": [
    "c = 12\n",
    "d = 24"
   ]
  },
  {
   "cell_type": "code",
   "execution_count": 69,
   "id": "8dbaaee4-a796-4e9b-9e9b-0e6c70a17996",
   "metadata": {},
   "outputs": [
    {
     "name": "stdout",
     "output_type": "stream",
     "text": [
      "False\n"
     ]
    }
   ],
   "source": [
    "print(c==d)"
   ]
  },
  {
   "cell_type": "code",
   "execution_count": 71,
   "id": "8219bab1-10ba-4df1-b068-0d807697e99a",
   "metadata": {},
   "outputs": [
    {
     "name": "stdout",
     "output_type": "stream",
     "text": [
      "True\n"
     ]
    }
   ],
   "source": [
    "print(c!=d)"
   ]
  },
  {
   "cell_type": "code",
   "execution_count": 73,
   "id": "5ffdbf31-c9bc-4cd7-8342-75a8e8e9f58f",
   "metadata": {},
   "outputs": [
    {
     "name": "stdout",
     "output_type": "stream",
     "text": [
      "False\n"
     ]
    }
   ],
   "source": [
    "print(c>d)"
   ]
  },
  {
   "cell_type": "code",
   "execution_count": 75,
   "id": "6887dcc4-f8d8-411c-8e4d-dfe7c28a28c9",
   "metadata": {},
   "outputs": [
    {
     "name": "stdout",
     "output_type": "stream",
     "text": [
      "True\n"
     ]
    }
   ],
   "source": [
    "print(c<d)"
   ]
  },
  {
   "cell_type": "code",
   "execution_count": 77,
   "id": "60b9b13e-a412-4685-8939-9f2fb7682c7a",
   "metadata": {},
   "outputs": [
    {
     "name": "stdout",
     "output_type": "stream",
     "text": [
      "True\n"
     ]
    }
   ],
   "source": [
    "print(c<=d)"
   ]
  },
  {
   "cell_type": "code",
   "execution_count": 79,
   "id": "4c579e31-610d-41fa-9a45-04363eefe1e1",
   "metadata": {},
   "outputs": [
    {
     "name": "stdout",
     "output_type": "stream",
     "text": [
      "False\n"
     ]
    }
   ],
   "source": [
    "print(c>=d)"
   ]
  },
  {
   "cell_type": "markdown",
   "id": "6cede04e-e337-445f-b9c6-a42c4bcf1c44",
   "metadata": {},
   "source": [
    "# c) Assignment Operator\n",
    "\n",
    "- combination of both arithmetic and equal to(=).\n",
    "- Reduces the usage of memory\n",
    "- 7 types of operators\n",
    "- a+=b = a=a+b\n",
    "- a-=b = a=a-b\n",
    "- a*=b = a=a*b\n",
    "- a/=b = a=a/b\n",
    "- a//=b = a=a//b\n",
    "- a**=b = a=a**b\n",
    "- a%=b = a=a%b"
   ]
  },
  {
   "cell_type": "code",
   "execution_count": 5,
   "id": "633cc08b-f95b-4ce4-8eb5-0d45ab7ef71f",
   "metadata": {},
   "outputs": [
    {
     "name": "stdout",
     "output_type": "stream",
     "text": [
      "28\n"
     ]
    }
   ],
   "source": [
    "j=23\n",
    "j+= 5\n",
    "print(j)"
   ]
  },
  {
   "cell_type": "code",
   "execution_count": 7,
   "id": "4ca1d2f1-a784-49dd-941c-2a8e43d60ce9",
   "metadata": {},
   "outputs": [
    {
     "name": "stdout",
     "output_type": "stream",
     "text": [
      "6\n"
     ]
    }
   ],
   "source": [
    "s=12\n",
    "s-=6\n",
    "print(s)"
   ]
  },
  {
   "cell_type": "code",
   "execution_count": 9,
   "id": "f6d4e498-e2e1-43d1-ac7b-e3be10888330",
   "metadata": {},
   "outputs": [
    {
     "name": "stdout",
     "output_type": "stream",
     "text": [
      "96\n"
     ]
    }
   ],
   "source": [
    "b= 24\n",
    "b*=4\n",
    "print(b)"
   ]
  },
  {
   "cell_type": "code",
   "execution_count": 11,
   "id": "05661b54-b44b-47b9-8c6e-28a2d9ddf866",
   "metadata": {},
   "outputs": [
    {
     "name": "stdout",
     "output_type": "stream",
     "text": [
      "8.0\n"
     ]
    }
   ],
   "source": [
    "c=32\n",
    "c/=4\n",
    "print(c)"
   ]
  },
  {
   "cell_type": "code",
   "execution_count": 13,
   "id": "e847ab76-40e1-4242-82f3-03ec73dc63b4",
   "metadata": {},
   "outputs": [],
   "source": [
    "d=42\n",
    "d//=3"
   ]
  },
  {
   "cell_type": "code",
   "execution_count": 15,
   "id": "f7208500-4ad6-4cab-ab23-629d5502fa3e",
   "metadata": {},
   "outputs": [
    {
     "name": "stdout",
     "output_type": "stream",
     "text": [
      "14\n"
     ]
    }
   ],
   "source": [
    "print(d)"
   ]
  },
  {
   "cell_type": "code",
   "execution_count": 17,
   "id": "63a0247a-19af-431e-84df-e75c7a31f893",
   "metadata": {},
   "outputs": [
    {
     "name": "stdout",
     "output_type": "stream",
     "text": [
      "8\n"
     ]
    }
   ],
   "source": [
    "f=2\n",
    "f=f**3\n",
    "print(f)"
   ]
  },
  {
   "cell_type": "code",
   "execution_count": 19,
   "id": "f3525368-ff60-4b16-b95a-bf136a03608f",
   "metadata": {},
   "outputs": [
    {
     "name": "stdout",
     "output_type": "stream",
     "text": [
      "1\n"
     ]
    }
   ],
   "source": [
    "k=4\n",
    "k=k%3\n",
    "print(k)"
   ]
  },
  {
   "cell_type": "code",
   "execution_count": 21,
   "id": "b1e82e1d-2c7d-480b-a171-250b7c483b46",
   "metadata": {},
   "outputs": [
    {
     "name": "stdout",
     "output_type": "stream",
     "text": [
      "38\n"
     ]
    }
   ],
   "source": [
    "x=34\n",
    "x+=4\n",
    "print(x)"
   ]
  },
  {
   "cell_type": "code",
   "execution_count": 25,
   "id": "e6534405-194d-4f8c-8229-b508977bc702",
   "metadata": {},
   "outputs": [
    {
     "name": "stdout",
     "output_type": "stream",
     "text": [
      "170\n"
     ]
    }
   ],
   "source": [
    "x=34\n",
    "x*=5\n",
    "print(x)"
   ]
  },
  {
   "cell_type": "code",
   "execution_count": 27,
   "id": "c32ae131-2b25-47fe-abfc-e81ef16f0d06",
   "metadata": {},
   "outputs": [
    {
     "name": "stdout",
     "output_type": "stream",
     "text": [
      "2\n"
     ]
    }
   ],
   "source": [
    "c=32\n",
    "c%=10\n",
    "print(c)"
   ]
  },
  {
   "cell_type": "markdown",
   "id": "5ad46add-fcd7-4e94-b8fa-56aea2ac3ab4",
   "metadata": {},
   "source": [
    "# d) Logical operators\n",
    "\n",
    "- are used to evaluate conditions\n",
    "- and return boolean operations (True or False)\n",
    "- there are 3 types of operaations (AND , OR, NOT)\n",
    "- AND : If both the statements are TRUE then it gives the output TRUE\n",
    "\n",
    "        B1    B2     OUTPUT\n",
    "        1     1        1\n",
    "        1     0        0\n",
    "        0     1        0\n",
    "        0     0        0\n",
    "\n",
    "- OR : Either of the condition needs to be TRUE the the output will be TRUE\n",
    "\n",
    "       B1     B2      OUTPUT\n",
    "       1      1         1\n",
    "       1      0         1\n",
    "       0      1         1\n",
    "       1      1         1\n",
    "\n",
    "- NOT : It is used to reversing the output\n",
    "        If the condition is True, by using the not function u will get output False.\n",
    "        If the condition is False, by using the not function u will get output True.\n",
    "\n",
    "       B1       B2     OUTPUT    USING NOT       \n",
    "       1      1         1         0  \n",
    "       1      0         0         1\n",
    "       0      1         0         1\n",
    "       1      1         0         1\n",
    "        "
   ]
  },
  {
   "cell_type": "code",
   "execution_count": 29,
   "id": "6d2331db-7801-4865-9f3e-9d1b6174ee5a",
   "metadata": {},
   "outputs": [
    {
     "name": "stdout",
     "output_type": "stream",
     "text": [
      "False\n"
     ]
    }
   ],
   "source": [
    "print(1==3 and 32==4)"
   ]
  },
  {
   "cell_type": "code",
   "execution_count": 31,
   "id": "c8b6dfdd-58ab-4a5b-95c3-94efb1c569ca",
   "metadata": {},
   "outputs": [
    {
     "name": "stdout",
     "output_type": "stream",
     "text": [
      "True\n"
     ]
    }
   ],
   "source": [
    "print(3<5 and 4>1)"
   ]
  },
  {
   "cell_type": "code",
   "execution_count": 33,
   "id": "dd035b08-84f1-4204-b86a-96b6fa76fae2",
   "metadata": {},
   "outputs": [
    {
     "name": "stdout",
     "output_type": "stream",
     "text": [
      "False\n"
     ]
    }
   ],
   "source": [
    "print(32<145 and 4>5)"
   ]
  },
  {
   "cell_type": "code",
   "execution_count": 39,
   "id": "89aaded8-690b-4030-b826-610d21c44164",
   "metadata": {},
   "outputs": [
    {
     "name": "stdout",
     "output_type": "stream",
     "text": [
      "True\n"
     ]
    }
   ],
   "source": [
    "print(31<40 and 34==34)"
   ]
  },
  {
   "cell_type": "code",
   "execution_count": 43,
   "id": "ecdc0a1a-ea19-42eb-8438-f18a1ba8680c",
   "metadata": {},
   "outputs": [
    {
     "name": "stdout",
     "output_type": "stream",
     "text": [
      "True\n"
     ]
    }
   ],
   "source": [
    "print(43<45 and 3>2)"
   ]
  },
  {
   "cell_type": "code",
   "execution_count": 45,
   "id": "2ecfa594-2071-44d1-b5b8-6efed9af6339",
   "metadata": {},
   "outputs": [
    {
     "name": "stdout",
     "output_type": "stream",
     "text": [
      "True\n"
     ]
    }
   ],
   "source": [
    "print(31<40 or 34==34)"
   ]
  },
  {
   "cell_type": "code",
   "execution_count": 47,
   "id": "f88e16bd-1dbd-4c9f-b4a1-0d044df22cdb",
   "metadata": {},
   "outputs": [
    {
     "name": "stdout",
     "output_type": "stream",
     "text": [
      "True\n"
     ]
    }
   ],
   "source": [
    "print(32<145 or 4>5)"
   ]
  },
  {
   "cell_type": "code",
   "execution_count": 51,
   "id": "6127a362-f1f8-4c8b-83f7-612460864312",
   "metadata": {},
   "outputs": [
    {
     "name": "stdout",
     "output_type": "stream",
     "text": [
      "False\n"
     ]
    }
   ],
   "source": [
    "print(1==3 or 32==4)"
   ]
  },
  {
   "cell_type": "code",
   "execution_count": 57,
   "id": "f8e93210-e9f3-40a5-9c77-f5358cdfad5e",
   "metadata": {},
   "outputs": [
    {
     "name": "stdout",
     "output_type": "stream",
     "text": [
      "True\n"
     ]
    }
   ],
   "source": [
    "print(3>2 or 1==1)"
   ]
  },
  {
   "cell_type": "code",
   "execution_count": 70,
   "id": "f814254d-0b7d-4efe-92f0-faa567091b17",
   "metadata": {},
   "outputs": [
    {
     "name": "stdout",
     "output_type": "stream",
     "text": [
      "False\n"
     ]
    }
   ],
   "source": [
    "print(1>10 or 2>3)"
   ]
  },
  {
   "cell_type": "code",
   "execution_count": 97,
   "id": "c27ac5ba-c19c-46b3-9909-e1c98d4f6257",
   "metadata": {},
   "outputs": [
    {
     "name": "stdout",
     "output_type": "stream",
     "text": [
      "True\n"
     ]
    }
   ],
   "source": [
    "s=1>2 and 3<5\n",
    "print(not(s))"
   ]
  },
  {
   "cell_type": "code",
   "execution_count": 99,
   "id": "9ba7ba35-972b-46de-8568-33b1b881b86b",
   "metadata": {},
   "outputs": [
    {
     "name": "stdout",
     "output_type": "stream",
     "text": [
      "False\n"
     ]
    }
   ],
   "source": [
    "s=1>2 or 3<5\n",
    "print(not(s))"
   ]
  },
  {
   "cell_type": "code",
   "execution_count": 101,
   "id": "d1c12480-33ee-454e-84c0-6ea867acec12",
   "metadata": {},
   "outputs": [
    {
     "name": "stdout",
     "output_type": "stream",
     "text": [
      "True\n"
     ]
    }
   ],
   "source": [
    "d=(4<2 and 4==4)\n",
    "print(not(d))"
   ]
  },
  {
   "cell_type": "code",
   "execution_count": 103,
   "id": "aa7e0372-2a53-44df-a083-8d89a57ae1fc",
   "metadata": {},
   "outputs": [
    {
     "name": "stdout",
     "output_type": "stream",
     "text": [
      "False\n"
     ]
    }
   ],
   "source": [
    "d=(4<2 or 4==4)\n",
    "print(not(d))"
   ]
  },
  {
   "cell_type": "code",
   "execution_count": 107,
   "id": "c6c0056b-b2f6-43fd-9390-c0c293bf5c24",
   "metadata": {},
   "outputs": [
    {
     "name": "stdout",
     "output_type": "stream",
     "text": [
      "False\n"
     ]
    }
   ],
   "source": [
    "x=(32<43 and 20>12)\n",
    "print(not(x))"
   ]
  },
  {
   "cell_type": "code",
   "execution_count": 113,
   "id": "423f294f-1a02-496e-b6bc-29dc1b9b5161",
   "metadata": {},
   "outputs": [
    {
     "name": "stdout",
     "output_type": "stream",
     "text": [
      "True\n"
     ]
    }
   ],
   "source": [
    "x=(32>43 or 20<12)\n",
    "print(not(x))"
   ]
  },
  {
   "cell_type": "markdown",
   "id": "a7c1bbd5-92bd-439c-a2cc-80bc98e42967",
   "metadata": {},
   "source": [
    "# e) Identity operator:\n",
    "\n",
    "- used to identify whether the value is present or not\n",
    "- there 2 identity operators\n",
    "- is\n",
    "- in not\n",
    "- is : when the value is present then the output is TRUE\n",
    "     : when the value is not present then the output is FALSE\n",
    "- is not : when the value is present then the output is FALSE\n",
    "         : when the value is present then the output is TRUE"
   ]
  },
  {
   "cell_type": "code",
   "execution_count": 1,
   "id": "300e2931-dcbd-4700-b928-4c3e8e082438",
   "metadata": {},
   "outputs": [
    {
     "name": "stdout",
     "output_type": "stream",
     "text": [
      "False\n"
     ]
    }
   ],
   "source": [
    "x=7\n",
    "y=10\n",
    "print(x is y)"
   ]
  },
  {
   "cell_type": "code",
   "execution_count": 3,
   "id": "7ac1ac7d-1e30-4f6f-9448-6fa1cb51c4a7",
   "metadata": {},
   "outputs": [
    {
     "name": "stdout",
     "output_type": "stream",
     "text": [
      "True\n"
     ]
    }
   ],
   "source": [
    "x=14\n",
    "a=14\n",
    "print(x is a)"
   ]
  },
  {
   "cell_type": "code",
   "execution_count": 5,
   "id": "84b2dc11-585b-42c7-a9c1-a4c4dc2f4624",
   "metadata": {},
   "outputs": [
    {
     "name": "stdout",
     "output_type": "stream",
     "text": [
      "False\n"
     ]
    }
   ],
   "source": [
    "z=\"python\"\n",
    "y=\"Python\"\n",
    "print(z is y)"
   ]
  },
  {
   "cell_type": "code",
   "execution_count": 7,
   "id": "34e7cd0c-3dd2-4343-8552-9555606049a8",
   "metadata": {},
   "outputs": [
    {
     "name": "stdout",
     "output_type": "stream",
     "text": [
      "True\n"
     ]
    }
   ],
   "source": [
    "z=\"python\"\n",
    "y=\"python\"\n",
    "print(z is y)"
   ]
  },
  {
   "cell_type": "code",
   "execution_count": 9,
   "id": "8019f754-9f00-400e-9e20-aa81d59095f0",
   "metadata": {},
   "outputs": [
    {
     "name": "stdout",
     "output_type": "stream",
     "text": [
      "False\n"
     ]
    }
   ],
   "source": [
    "j= \" hello\" \n",
    "s=\"hello\"\n",
    "print(j is s)"
   ]
  },
  {
   "cell_type": "code",
   "execution_count": 11,
   "id": "89200166-b67f-4b6c-8b55-527cbc6e0ba0",
   "metadata": {},
   "outputs": [
    {
     "name": "stdout",
     "output_type": "stream",
     "text": [
      "True\n"
     ]
    }
   ],
   "source": [
    "x=7\n",
    "y=10\n",
    "print(x is not y)"
   ]
  },
  {
   "cell_type": "code",
   "execution_count": 13,
   "id": "a4638653-3f2c-46b0-a24c-249dbfb8c818",
   "metadata": {},
   "outputs": [
    {
     "name": "stdout",
     "output_type": "stream",
     "text": [
      "False\n"
     ]
    }
   ],
   "source": [
    "x=14\n",
    "a=14\n",
    "print(x is not a)"
   ]
  },
  {
   "cell_type": "code",
   "execution_count": 15,
   "id": "b8e35f84-203d-4d0f-96d2-a706f476778b",
   "metadata": {},
   "outputs": [
    {
     "name": "stdout",
     "output_type": "stream",
     "text": [
      "True\n"
     ]
    }
   ],
   "source": [
    "z=\"python\"\n",
    "y=\"Python\"\n",
    "print(z is not y)"
   ]
  },
  {
   "cell_type": "code",
   "execution_count": 17,
   "id": "90d6da75-7fbb-429f-a067-d3ad90d840a6",
   "metadata": {},
   "outputs": [
    {
     "name": "stdout",
     "output_type": "stream",
     "text": [
      "False\n"
     ]
    }
   ],
   "source": [
    "z=\"python\"\n",
    "y=\"python\"\n",
    "print(z is not  y)"
   ]
  },
  {
   "cell_type": "code",
   "execution_count": 19,
   "id": "1c20d881-ef61-4783-9ab4-4f3214374721",
   "metadata": {},
   "outputs": [
    {
     "name": "stdout",
     "output_type": "stream",
     "text": [
      "True\n"
     ]
    }
   ],
   "source": [
    "j= \" hello\"  \n",
    "s=\"hello\"\n",
    "print(j is not s)"
   ]
  },
  {
   "cell_type": "markdown",
   "id": "dee66cc1-67f0-423a-aa7b-54bbea28b048",
   "metadata": {},
   "source": [
    "# f) Membership Opertor :\n",
    "\n",
    "- used to identify the value is found in the sequence of data or not\n",
    "- there are two membership operators\n",
    "- in\n",
    "- not in\n",
    "- in : TRUE - when the value is FOUND\n",
    "     : FALSE - when the value is NOT FOUND\n",
    "- not in : TRUE - when the value is NOT FOUND\n",
    "         : FALSE - when the value is FOUND"
   ]
  },
  {
   "cell_type": "code",
   "execution_count": 21,
   "id": "aa60eba7-291b-4091-a590-01165a278637",
   "metadata": {},
   "outputs": [],
   "source": [
    "Name = \"Python code\""
   ]
  },
  {
   "cell_type": "code",
   "execution_count": 23,
   "id": "50b16714-1251-43ac-b638-53bdcde6aea1",
   "metadata": {},
   "outputs": [
    {
     "name": "stdout",
     "output_type": "stream",
     "text": [
      "True\n"
     ]
    }
   ],
   "source": [
    "print('P' in Name)"
   ]
  },
  {
   "cell_type": "code",
   "execution_count": 25,
   "id": "b12ea04d-51e2-4c4c-a881-97f60825cd8d",
   "metadata": {},
   "outputs": [
    {
     "name": "stdout",
     "output_type": "stream",
     "text": [
      "False\n"
     ]
    }
   ],
   "source": [
    "print('P' not in Name)"
   ]
  },
  {
   "cell_type": "code",
   "execution_count": 27,
   "id": "2d7f3bc4-8f90-4e5a-9683-e05b5ca92efc",
   "metadata": {},
   "outputs": [
    {
     "name": "stdout",
     "output_type": "stream",
     "text": [
      "False\n"
     ]
    }
   ],
   "source": [
    "print('p' in Name)"
   ]
  },
  {
   "cell_type": "code",
   "execution_count": 29,
   "id": "616c34af-3e86-44ee-bdf9-ca1e418f9fc8",
   "metadata": {},
   "outputs": [
    {
     "name": "stdout",
     "output_type": "stream",
     "text": [
      "True\n"
     ]
    }
   ],
   "source": [
    "print('p' not in Name)"
   ]
  },
  {
   "cell_type": "code",
   "execution_count": 31,
   "id": "7b3d8ebb-0e50-43b6-806a-b4224ff7d1f4",
   "metadata": {},
   "outputs": [],
   "source": [
    "j = \"hello world\""
   ]
  },
  {
   "cell_type": "code",
   "execution_count": 33,
   "id": "9b2c3c6e-353f-4acb-91d3-77506623d87e",
   "metadata": {},
   "outputs": [
    {
     "name": "stdout",
     "output_type": "stream",
     "text": [
      "True\n"
     ]
    }
   ],
   "source": [
    "print( 'world' in j)"
   ]
  },
  {
   "cell_type": "code",
   "execution_count": 35,
   "id": "939690c7-8a36-4291-970d-c59518d04b8a",
   "metadata": {},
   "outputs": [
    {
     "name": "stdout",
     "output_type": "stream",
     "text": [
      "False\n"
     ]
    }
   ],
   "source": [
    "print( 'world' not in j)"
   ]
  },
  {
   "cell_type": "code",
   "execution_count": null,
   "id": "365c280f-bc65-4b56-9a8d-3693a4831c32",
   "metadata": {},
   "outputs": [],
   "source": [
    "print( 'World' in j)"
   ]
  }
 ],
 "metadata": {
  "kernelspec": {
   "display_name": "Python 3 (ipykernel)",
   "language": "python",
   "name": "python3"
  },
  "language_info": {
   "codemirror_mode": {
    "name": "ipython",
    "version": 3
   },
   "file_extension": ".py",
   "mimetype": "text/x-python",
   "name": "python",
   "nbconvert_exporter": "python",
   "pygments_lexer": "ipython3",
   "version": "3.12.4"
  }
 },
 "nbformat": 4,
 "nbformat_minor": 5
}
