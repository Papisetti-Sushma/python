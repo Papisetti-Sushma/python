{
 "cells": [
  {
   "cell_type": "markdown",
   "id": "1fdc82c2-9885-4486-88cf-717903ca4a6c",
   "metadata": {},
   "source": [
    "# Encapsulation:"
   ]
  },
  {
   "cell_type": "markdown",
   "id": "16d3c8dd-7bd9-466d-9a29-bacb375d6659",
   "metadata": {},
   "source": [
    "- wrapping the data and methods in a single unit \n",
    "- used for security purpose\n",
    "- helps to achieve data hiding\n",
    "- we denote attributes using underscore(_)\n",
    "- we have three types here:\n",
    "\n",
    "  public/private\n",
    "\n",
    "  protect"
   ]
  },
  {
   "cell_type": "markdown",
   "id": "6950dc72-f7d7-466b-90d4-b3b7f5f945a6",
   "metadata": {},
   "source": [
    "- for proctectiong we use single underscore(_)\n",
    "- for private and public we use double underscore(__)"
   ]
  },
  {
   "cell_type": "markdown",
   "id": "0d81ed33-20d0-4e91-8dd6-ce1065de51e5",
   "metadata": {},
   "source": [
    "- private can be used only in particular class\n",
    "- we as protect can be used in everywhere when the inheritence is done"
   ]
  },
  {
   "cell_type": "code",
   "execution_count": 25,
   "id": "78b4d286-19c3-45d2-a23b-875f4aeffa39",
   "metadata": {},
   "outputs": [],
   "source": [
    "class Demo:\n",
    "    def __init__(self, a, b):\n",
    "        self.__a = a  \n",
    "        self._b = b   \n",
    "\n",
    "    def output(self):\n",
    "        print(self._b)\n",
    "        print(self.__a) \n",
    "\n",
    "\n",
    "class Demo1(Demo):\n",
    "    def input(self):\n",
    "        print(self._b)\n",
    "\n",
    "    def private(self):\n",
    "        print(self.__a)"
   ]
  },
  {
   "cell_type": "code",
   "execution_count": 29,
   "id": "5256b781-09b3-4fe5-9ff0-5c9121ff4da7",
   "metadata": {},
   "outputs": [
    {
     "name": "stdout",
     "output_type": "stream",
     "text": [
      "10\n",
      "5\n",
      "10\n"
     ]
    }
   ],
   "source": [
    "d = Demo1(5, 10)\n",
    "d.output()\n",
    "d.input()"
   ]
  },
  {
   "cell_type": "code",
   "execution_count": 67,
   "id": "6aa02acc-c271-4c6d-b6c8-bdf3ae160438",
   "metadata": {},
   "outputs": [],
   "source": [
    "class dog:\n",
    "\n",
    "    def __init__(self,name,age):\n",
    "        self.__name=name\n",
    "        self.__age=age\n",
    "\n",
    "    def get_name(self):\n",
    "        print(self.__name)\n",
    "\n",
    "    def get_age(self):\n",
    "        print(self.__age)\n",
    "\n",
    "class dog1(dog):\n",
    "    def input(self):\n",
    "        self.get_name()\n",
    "        self.get_age() "
   ]
  },
  {
   "cell_type": "code",
   "execution_count": 51,
   "id": "4e48784d-95a3-4955-840a-4507bf32eb73",
   "metadata": {},
   "outputs": [],
   "source": [
    "max=dog(\"max\",5)"
   ]
  },
  {
   "cell_type": "code",
   "execution_count": 53,
   "id": "f90530f7-79ee-46db-8181-c1b94186524a",
   "metadata": {},
   "outputs": [
    {
     "name": "stdout",
     "output_type": "stream",
     "text": [
      "max\n"
     ]
    }
   ],
   "source": [
    "max.get_name()"
   ]
  },
  {
   "cell_type": "code",
   "execution_count": 69,
   "id": "fd562a4a-7108-4651-9514-d958985efffc",
   "metadata": {},
   "outputs": [
    {
     "name": "stdout",
     "output_type": "stream",
     "text": [
      "Buddy\n",
      "3\n"
     ]
    }
   ],
   "source": [
    "d = dog1(\"Buddy\", 3)\n",
    "d.input()"
   ]
  },
  {
   "cell_type": "markdown",
   "id": "59bb1179-7cb8-4c45-985b-287f7b9d1226",
   "metadata": {},
   "source": [
    "# Polymorphism:"
   ]
  },
  {
   "cell_type": "markdown",
   "id": "10bc4849-d1ce-4af5-bca1-fa3314bdd366",
   "metadata": {},
   "source": [
    "- poly simply means many forms\n",
    "- the same entity can perform different operations in different scenarios"
   ]
  },
  {
   "cell_type": "code",
   "execution_count": 73,
   "id": "06587dc3-f570-46a8-8a7a-f5bf560abed0",
   "metadata": {},
   "outputs": [],
   "source": [
    "class add:\n",
    "    def add(self,a,b):\n",
    "        print(a+b)"
   ]
  },
  {
   "cell_type": "code",
   "execution_count": 75,
   "id": "04ff8907-56be-4a21-a056-242472c77bd3",
   "metadata": {},
   "outputs": [],
   "source": [
    "a=add()"
   ]
  },
  {
   "cell_type": "code",
   "execution_count": 81,
   "id": "454e2684-5350-4d69-9320-dc9634a6120c",
   "metadata": {},
   "outputs": [
    {
     "name": "stdout",
     "output_type": "stream",
     "text": [
      "8\n",
      "ab\n",
      "7.6\n",
      "(7+27j)\n"
     ]
    }
   ],
   "source": [
    "a.add(3,5)\n",
    "a.add('a','b')\n",
    "a.add(3.4,4.2)\n",
    "a.add(3+4j,4+23j)"
   ]
  },
  {
   "cell_type": "code",
   "execution_count": 83,
   "id": "620c41d5-6a4d-41f2-9042-af716eff8e78",
   "metadata": {},
   "outputs": [],
   "source": [
    "class multi:\n",
    "    def mul(self,a,b,c):\n",
    "        print(a*b*c)"
   ]
  },
  {
   "cell_type": "code",
   "execution_count": 85,
   "id": "4c47d959-2b17-4e22-99c0-8b9dfd3ebb83",
   "metadata": {},
   "outputs": [],
   "source": [
    "b=multi()"
   ]
  },
  {
   "cell_type": "code",
   "execution_count": 89,
   "id": "13bea705-6bbd-4ece-ba6c-ca4473d5a07b",
   "metadata": {},
   "outputs": [
    {
     "name": "stdout",
     "output_type": "stream",
     "text": [
      "30\n"
     ]
    }
   ],
   "source": [
    "b.mul(3,5,2)"
   ]
  },
  {
   "cell_type": "code",
   "execution_count": 91,
   "id": "4e090626-6bc0-4b37-9480-5e3d2b34e2f1",
   "metadata": {},
   "outputs": [
    {
     "name": "stdout",
     "output_type": "stream",
     "text": [
      "385.56\n"
     ]
    }
   ],
   "source": [
    "b.mul(3.4,2.1,54)"
   ]
  },
  {
   "cell_type": "code",
   "execution_count": 93,
   "id": "65c44615-eb93-4b6b-81b1-be8a4426ca4f",
   "metadata": {},
   "outputs": [
    {
     "name": "stdout",
     "output_type": "stream",
     "text": [
      "(-792+2204j)\n"
     ]
    }
   ],
   "source": [
    "b.mul(2+12j,4+2j,43+2j)"
   ]
  },
  {
   "cell_type": "code",
   "execution_count": 95,
   "id": "15323311-23e9-440c-aa15-adfd18e88029",
   "metadata": {},
   "outputs": [
    {
     "ename": "TypeError",
     "evalue": "can't multiply sequence by non-int of type 'str'",
     "output_type": "error",
     "traceback": [
      "\u001b[1;31m---------------------------------------------------------------------------\u001b[0m",
      "\u001b[1;31mTypeError\u001b[0m                                 Traceback (most recent call last)",
      "Cell \u001b[1;32mIn[95], line 1\u001b[0m\n\u001b[1;32m----> 1\u001b[0m b\u001b[38;5;241m.\u001b[39mmul(\u001b[38;5;124m'\u001b[39m\u001b[38;5;124ma\u001b[39m\u001b[38;5;124m'\u001b[39m,\u001b[38;5;124m'\u001b[39m\u001b[38;5;124mb\u001b[39m\u001b[38;5;124m'\u001b[39m,\u001b[38;5;124m'\u001b[39m\u001b[38;5;124mc\u001b[39m\u001b[38;5;124m'\u001b[39m)\n",
      "Cell \u001b[1;32mIn[83], line 3\u001b[0m, in \u001b[0;36mmulti.mul\u001b[1;34m(self, a, b, c)\u001b[0m\n\u001b[0;32m      2\u001b[0m \u001b[38;5;28;01mdef\u001b[39;00m \u001b[38;5;21mmul\u001b[39m(\u001b[38;5;28mself\u001b[39m,a,b,c):\n\u001b[1;32m----> 3\u001b[0m     \u001b[38;5;28mprint\u001b[39m(a\u001b[38;5;241m*\u001b[39mb\u001b[38;5;241m*\u001b[39mc)\n",
      "\u001b[1;31mTypeError\u001b[0m: can't multiply sequence by non-int of type 'str'"
     ]
    }
   ],
   "source": [
    "b.mul('a','b','c')"
   ]
  },
  {
   "cell_type": "markdown",
   "id": "b9dd1427-6d6c-4291-968f-05894eb24572",
   "metadata": {},
   "source": [
    "# Abstraction:"
   ]
  },
  {
   "cell_type": "markdown",
   "id": "b0156344-a773-4482-ad75-554f5b51f6f0",
   "metadata": {},
   "source": [
    "- Hiding the unnecessary details\n",
    "- Abstarction allows us to focus on the what an object does rather than how it achieve its functionality\n"
   ]
  },
  {
   "cell_type": "code",
   "execution_count": 99,
   "id": "359d0fe8-9610-4a7e-88e6-29da02ff661c",
   "metadata": {},
   "outputs": [],
   "source": [
    "class car:\n",
    "    def start_engine(self):\n",
    "        pass\n",
    "    def start_drive(self):\n",
    "        pass\n",
    "    def stop_engine(self):\n",
    "        pass"
   ]
  }
 ],
 "metadata": {
  "kernelspec": {
   "display_name": "Python 3 (ipykernel)",
   "language": "python",
   "name": "python3"
  },
  "language_info": {
   "codemirror_mode": {
    "name": "ipython",
    "version": 3
   },
   "file_extension": ".py",
   "mimetype": "text/x-python",
   "name": "python",
   "nbconvert_exporter": "python",
   "pygments_lexer": "ipython3",
   "version": "3.12.4"
  }
 },
 "nbformat": 4,
 "nbformat_minor": 5
}
