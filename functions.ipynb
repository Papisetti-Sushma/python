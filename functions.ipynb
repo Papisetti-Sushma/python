{
 "cells": [
  {
   "cell_type": "markdown",
   "id": "b2e5ae6f-d3b3-4465-9c7b-c6e310b08b07",
   "metadata": {},
   "source": [
    "# Functions"
   ]
  },
  {
   "cell_type": "markdown",
   "id": "c5fb99c5-9b64-4145-a52b-12de93539d43",
   "metadata": {},
   "source": [
    "- A function is a block of code which only runs when it is called.\n",
    "- You can pass data, known as parameters, into a function.\n",
    "- A function can return data as a result.\n",
    "- There are 2 types of functions:\n",
    "\n",
    "  1. Build-in function\n",
    "  2. User defined function"
   ]
  },
  {
   "cell_type": "markdown",
   "id": "74e8ff86-a5e4-4f7c-b66a-5d47639092f7",
   "metadata": {},
   "source": [
    "1. Build in function:\n",
    "\n",
    "-These are pre-defined functions in python given by complier"
   ]
  },
  {
   "cell_type": "markdown",
   "id": "1c91a326-3dd7-440f-8281-cf9790212b77",
   "metadata": {},
   "source": [
    "2.User defined function:\n",
    "\n",
    "- these types of functions are defined by the user to perform any specific task"
   ]
  },
  {
   "cell_type": "code",
   "execution_count": 54,
   "id": "14f36002-8d41-4cae-ae66-0be67a7ba5b6",
   "metadata": {},
   "outputs": [],
   "source": [
    "def person(name, age):\n",
    "    print(f\"My name is {name} and I am {age}\")\n"
   ]
  },
  {
   "cell_type": "code",
   "execution_count": 60,
   "id": "0c00dfcf-3239-47ee-8970-65f344bc4e22",
   "metadata": {},
   "outputs": [
    {
     "name": "stdout",
     "output_type": "stream",
     "text": [
      "My name is sushma and I am 20\n"
     ]
    }
   ],
   "source": [
    "person(\"sushma\",20)"
   ]
  },
  {
   "cell_type": "code",
   "execution_count": 62,
   "id": "60ebc752-3eea-4b61-bd46-b3fcda0e6510",
   "metadata": {},
   "outputs": [
    {
     "name": "stdout",
     "output_type": "stream",
     "text": [
      "My name is harsha and I am 19\n"
     ]
    }
   ],
   "source": [
    "person(\"harsha\",19)"
   ]
  },
  {
   "cell_type": "code",
   "execution_count": 40,
   "id": "5829882a-afc6-4375-a3dd-ba3c50b87c16",
   "metadata": {},
   "outputs": [
    {
     "name": "stdin",
     "output_type": "stream",
     "text": [
      "Enter the bike name:  activa\n"
     ]
    },
    {
     "name": "stdout",
     "output_type": "stream",
     "text": [
      "No, we don't have that bike.\n"
     ]
    }
   ],
   "source": [
    "def check_bike(bike_name):\n",
    "    bike_list = ['duke', 'fz', 'bullet']\n",
    "    if bike_name in bike_list:\n",
    "        print(f\"Yes, we have {bike_name}. Which model are you looking for?\")\n",
    "    else:\n",
    "        print(\"No, we don't have that bike.\")\n",
    "\n",
    "\n",
    "bike_name = input(\"Enter the bike name: \")\n",
    "\n",
    "check_bike(bike_name)"
   ]
  },
  {
   "cell_type": "code",
   "execution_count": null,
   "id": "76c3061f-fcbf-4505-a8fa-fc89d34fa496",
   "metadata": {},
   "outputs": [],
   "source": []
  }
 ],
 "metadata": {
  "kernelspec": {
   "display_name": "Python 3 (ipykernel)",
   "language": "python",
   "name": "python3"
  },
  "language_info": {
   "codemirror_mode": {
    "name": "ipython",
    "version": 3
   },
   "file_extension": ".py",
   "mimetype": "text/x-python",
   "name": "python",
   "nbconvert_exporter": "python",
   "pygments_lexer": "ipython3",
   "version": "3.12.4"
  }
 },
 "nbformat": 4,
 "nbformat_minor": 5
}
