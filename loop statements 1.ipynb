{
 "cells": [
  {
   "cell_type": "markdown",
   "id": "67172217-270a-4fb0-ab9f-b320844ed299",
   "metadata": {},
   "source": [
    "# Loop Statements"
   ]
  },
  {
   "cell_type": "markdown",
   "id": "5a46c663-904d-4435-9cba-4bfda8a2c0fc",
   "metadata": {},
   "source": [
    "- used to execute a block of statements repeatedly until a given condition is satisfied\n",
    "- there are 2 types of loops:\n",
    "  \n",
    "  1.for\n",
    "  \n",
    "  2.while"
   ]
  },
  {
   "cell_type": "markdown",
   "id": "42c64e8f-18c3-430d-8912-8d7bb5f32a6c",
   "metadata": {},
   "source": [
    "# 1.while loop"
   ]
  },
  {
   "cell_type": "markdown",
   "id": "6f219324-2274-4505-bc8e-06538f763944",
   "metadata": {},
   "source": [
    "- run the code till the condition satisfies\n",
    "\n",
    "- mostly used in numerics\n",
    "\n",
    "- print statement should be written after the while condition\n",
    "\n",
    "- while loop has 2 important conditions\n",
    "\n",
    "- initializer: where the code is starting\n",
    "\n",
    "- increment : for how much value we need increment\n",
    "\n",
    "- syntax:\n",
    "\n",
    "   while condition:\n",
    "- here:\n",
    "\n",
    "- A while loop evaluates the condition\n",
    "\n",
    "- if condition is true,the code inside the while loop is executed\n",
    "\n",
    "- condition evaluated again\n",
    "\n",
    "- this process continues until condition is false\n",
    "\n",
    "- when the condition evaluates to false, then the code stops"
   ]
  },
  {
   "cell_type": "code",
   "execution_count": 5,
   "id": "6fa7f4ea-1616-4402-9abb-06c55db5e4e6",
   "metadata": {},
   "outputs": [
    {
     "name": "stdout",
     "output_type": "stream",
     "text": [
      "1\n",
      "2\n",
      "3\n"
     ]
    }
   ],
   "source": [
    "number = 1\n",
    "\n",
    "while number <= 3:\n",
    "    print(number)\n",
    "    number = number + 1"
   ]
  },
  {
   "cell_type": "code",
   "execution_count": 6,
   "id": "7e0a05c6-7750-4ff7-a010-5f3b1d901b62",
   "metadata": {},
   "outputs": [
    {
     "name": "stdout",
     "output_type": "stream",
     "text": [
      "10\n",
      "20\n",
      "30\n"
     ]
    }
   ],
   "source": [
    "i = 10\n",
    "\n",
    "while i <=30:\n",
    "    print(i)\n",
    "    i=i+10"
   ]
  },
  {
   "cell_type": "markdown",
   "id": "0f8be7b0-953d-47d2-b282-6185f212fbb3",
   "metadata": {},
   "source": [
    "# 2.For loop"
   ]
  },
  {
   "cell_type": "markdown",
   "id": "cf85be7f-45a6-4709-bfd2-c9817b4217a0",
   "metadata": {},
   "source": [
    "- iterates the sequence of the data\n",
    "\n",
    "- outps will always be given in vertical format\n",
    "\n",
    "- syntax:\n",
    "\n",
    "for val in sequence : #statement\n",
    "\n",
    "- here,value access each item of the sequence on each iteration\n",
    "\n",
    "- the loop continues until we reach the last item in the sequence"
   ]
  },
  {
   "cell_type": "code",
   "execution_count": 9,
   "id": "b9ed4a17-a626-41e4-958b-cb4895066846",
   "metadata": {},
   "outputs": [
    {
     "name": "stdout",
     "output_type": "stream",
     "text": [
      "s\n",
      "u\n",
      "s\n",
      "h\n",
      "m\n",
      "a\n"
     ]
    }
   ],
   "source": [
    "a=\"sushma\"\n",
    "\n",
    "for x in a:\n",
    "    print(x)"
   ]
  },
  {
   "cell_type": "code",
   "execution_count": 10,
   "id": "20a59435-7369-4544-a42d-13b9e221b8e4",
   "metadata": {},
   "outputs": [
    {
     "name": "stdout",
     "output_type": "stream",
     "text": [
      "s\n",
      "u\n",
      "s\n",
      "h\n",
      "m\n",
      "a\n"
     ]
    }
   ],
   "source": [
    "h=[\"s\",\"u\",\"s\",\"h\",\"m\",\"a\"]\n",
    "\n",
    "for s in h:\n",
    "    print(s)"
   ]
  },
  {
   "cell_type": "code",
   "execution_count": 11,
   "id": "16f8db93-3e0e-43eb-a7bb-b4bee6699d2d",
   "metadata": {},
   "outputs": [
    {
     "name": "stdout",
     "output_type": "stream",
     "text": [
      "hello\n",
      "datascience\n"
     ]
    }
   ],
   "source": [
    "tuple1=(\"hello\",\"datascience\")\n",
    "\n",
    "for b in tuple1:\n",
    "    f=print(b)"
   ]
  },
  {
   "cell_type": "code",
   "execution_count": 12,
   "id": "94d9a103-2172-435d-8100-da2399d0ab73",
   "metadata": {},
   "outputs": [
    {
     "name": "stdout",
     "output_type": "stream",
     "text": [
      "name sushma\n",
      "Age 20\n",
      "College sathyabama\n"
     ]
    }
   ],
   "source": [
    "dict = {\"name\":\"sushma\",\"Age\":20,\"College\":\"sathyabama\"}\n",
    "\n",
    "for key,values in dict.items():\n",
    "    print(key,values)\n"
   ]
  },
  {
   "cell_type": "code",
   "execution_count": 13,
   "id": "76e7de24-cf89-4049-af08-26241b22130f",
   "metadata": {},
   "outputs": [
    {
     "name": "stdout",
     "output_type": "stream",
     "text": [
      "key is name and value is sushma\n",
      "key is Age and value is 20\n",
      "key is College and value is sathyabama\n"
     ]
    }
   ],
   "source": [
    "dict = {\"name\":\"sushma\",\"Age\":20,\"College\":\"sathyabama\"}\n",
    "\n",
    "for key,value in dict.items():\n",
    "    print(f\"key is {key} and value is {value}\")"
   ]
  },
  {
   "cell_type": "markdown",
   "id": "20a0dcd6-d42c-4d67-8c4e-cbf56eab8e0b",
   "metadata": {},
   "source": [
    "# Q1 write a python program to check given year is leap or not"
   ]
  },
  {
   "cell_type": "code",
   "execution_count": 15,
   "id": "4a53a9c2-c4f3-4090-a62c-7d1c33bbd279",
   "metadata": {},
   "outputs": [
    {
     "name": "stdout",
     "output_type": "stream",
     "text": [
      "2000 is a leap year.\n",
      "2001 is not a leap year.\n",
      "2002 is not a leap year.\n",
      "2003 is not a leap year.\n",
      "2004 is a leap year.\n"
     ]
    }
   ],
   "source": [
    "years = [2000, 2001, 2002, 2003, 2004]\n",
    "\n",
    "for y in years:\n",
    "    if y % 4 == 0 :\n",
    "        print(f\"{y} is a leap year.\")\n",
    "    else:\n",
    "        print(f\"{y} is not a leap year.\")"
   ]
  },
  {
   "cell_type": "code",
   "execution_count": 16,
   "id": "28cba048-df98-4107-b087-7ceddd6d0599",
   "metadata": {},
   "outputs": [
    {
     "name": "stdout",
     "output_type": "stream",
     "text": [
      "2000 is a leap year.\n",
      "2001 is not a leap year.\n",
      "2004 is a leap year.\n",
      "1900 is a leap year.\n",
      "2000 is a leap year.\n"
     ]
    }
   ],
   "source": [
    "years = [2000, 2001, 2004, 1900, 2000]\n",
    "index = 0\n",
    "\n",
    "while index < len(years):\n",
    "    year = years[index]\n",
    "    if year % 4 == 0 :\n",
    "        print(f\"{year} is a leap year.\")\n",
    "    else:\n",
    "        print(f\"{year} is not a leap year.\")\n",
    "    index += 1"
   ]
  },
  {
   "cell_type": "markdown",
   "id": "34af186b-8c54-4c3d-9e66-a8bbb36a7ef5",
   "metadata": {},
   "source": [
    "# Q2 python program to find a given number even or odd"
   ]
  },
  {
   "cell_type": "code",
   "execution_count": 18,
   "id": "f3c93364-3af8-46dc-ab70-55a86cd59288",
   "metadata": {},
   "outputs": [
    {
     "name": "stdout",
     "output_type": "stream",
     "text": [
      "1 is odd\n",
      "2 is even\n",
      "3 is odd\n",
      "4 is even\n",
      "5 is odd\n"
     ]
    }
   ],
   "source": [
    "numbers = 1,2,3,4,5\n",
    "\n",
    "for i in numbers:\n",
    "    if i%2==0:\n",
    "        print(f\"{i} is even\")\n",
    "    else:\n",
    "        print(f\"{i} is odd\")"
   ]
  },
  {
   "cell_type": "code",
   "execution_count": 19,
   "id": "eb5b28ad-56ba-4b0d-a860-e8d337e48308",
   "metadata": {},
   "outputs": [
    {
     "name": "stdout",
     "output_type": "stream",
     "text": [
      "1 is odd\n",
      "2 is even\n",
      "3 is odd\n",
      "4 is even\n",
      "5 is odd\n"
     ]
    }
   ],
   "source": [
    "numbers = [1, 2, 3, 4, 5]\n",
    "index = 0\n",
    "\n",
    "while index < len(numbers):\n",
    "    i = numbers[index]\n",
    "    if i % 2 == 0:\n",
    "        print(f\"{i} is even\")\n",
    "    else:\n",
    "        print(f\"{i} is odd\")\n",
    "    index += 1 \n"
   ]
  },
  {
   "cell_type": "markdown",
   "id": "8c18b661-25d7-4c98-95dd-fad6a849423b",
   "metadata": {},
   "source": [
    "# Q3 python program to check if a list is empty or not"
   ]
  },
  {
   "cell_type": "code",
   "execution_count": 21,
   "id": "399966b2-43d2-4d83-86c6-dca3c11de5e1",
   "metadata": {},
   "outputs": [
    {
     "name": "stdout",
     "output_type": "stream",
     "text": [
      "The list is empty.\n"
     ]
    }
   ],
   "source": [
    "lst = []\n",
    "\n",
    "for item in lst:\n",
    "    print(\"The list is not empty.\")\n",
    "    break\n",
    "else:\n",
    "    print(\"The list is empty.\")\n"
   ]
  },
  {
   "cell_type": "code",
   "execution_count": 22,
   "id": "9cc27d40-8135-4409-bb42-e9720af81973",
   "metadata": {},
   "outputs": [
    {
     "name": "stdout",
     "output_type": "stream",
     "text": [
      "empty\n"
     ]
    }
   ],
   "source": [
    "lst = []\n",
    "index = 0\n",
    "\n",
    "while index == 0:\n",
    "    print(\"empty\")\n",
    "    break"
   ]
  },
  {
   "cell_type": "markdown",
   "id": "519f0d9c-50bc-45f3-ae6d-be091d374d4b",
   "metadata": {},
   "source": [
    "# Q4 python program to calculate grade of a students"
   ]
  },
  {
   "cell_type": "code",
   "execution_count": 30,
   "id": "f343d4ff-8e5f-4d10-bb62-7a2aca829753",
   "metadata": {},
   "outputs": [
    {
     "name": "stdin",
     "output_type": "stream",
     "text": [
      "Enter grades separated by commas:  89,56\n"
     ]
    },
    {
     "name": "stdout",
     "output_type": "stream",
     "text": [
      "89: B\n",
      "56: E\n"
     ]
    }
   ],
   "source": [
    "grades_input = input(\"Enter grades separated by commas: \")\n",
    "\n",
    "# Split the string into individual grade strings and convert to integers\n",
    "grades = [int(mark.strip()) for mark in grades_input.split(',')]\n",
    "\n",
    "#Splitting the string into individual grade strings.\n",
    "#Stripping whitespace from each grade string.\n",
    "\n",
    "for mark in grades:\n",
    "    if mark >= 90:\n",
    "        print(f\"{mark}: A\")\n",
    "    elif mark >= 80:\n",
    "        print(f\"{mark}: B\")\n",
    "    elif mark >= 70:\n",
    "        print(f\"{mark}: C\")\n",
    "    elif mark >= 60:\n",
    "        print(f\"{mark}: D\")\n",
    "    elif mark >= 50:\n",
    "        print(f\"{mark}: E\")\n",
    "    else:\n",
    "        print(f\"{mark}: F\")\n"
   ]
  },
  {
   "cell_type": "code",
   "execution_count": 36,
   "id": "0c2e18dd-d2af-45d7-b403-ad8b61e52516",
   "metadata": {},
   "outputs": [
    {
     "name": "stdin",
     "output_type": "stream",
     "text": [
      "Enter grades separated by commas:  87,67\n"
     ]
    },
    {
     "name": "stdout",
     "output_type": "stream",
     "text": [
      "87: B\n",
      "67: D\n"
     ]
    }
   ],
   "source": [
    "grades_input = input(\"Enter grades separated by commas: \")\n",
    "grades = [int(mark.strip()) for mark in grades_input.split(',')]\n",
    "#Splitting the string into individual grade strings.\n",
    "#Stripping whitespace from each grade string.\n",
    "\n",
    "index = 0\n",
    "\n",
    "while index < len(grades):\n",
    "    mark = grades[index]\n",
    "    if mark >= 90:\n",
    "        print(f\"{mark}: A\")\n",
    "    elif mark >= 80:\n",
    "        print(f\"{mark}: B\")\n",
    "    elif mark >= 70:\n",
    "        print(f\"{mark}: C\")\n",
    "    elif mark >= 60:\n",
    "        print(f\"{mark}: D\")\n",
    "    elif mark >= 50:\n",
    "        print(f\"{mark}: E\")\n",
    "    else:\n",
    "        print(f\"{mark}: F\")\n",
    "    \n",
    "    index += 1  # Move to the next index\n"
   ]
  },
  {
   "cell_type": "markdown",
   "id": "81222743-6d58-4fa9-8e6e-442f9a1c2c25",
   "metadata": {},
   "source": [
    "# Q5.check whether given word is a palindrome or not"
   ]
  },
  {
   "cell_type": "code",
   "execution_count": 40,
   "id": "4fdf10d9-079b-47a8-bceb-b0047058b623",
   "metadata": {},
   "outputs": [
    {
     "name": "stdin",
     "output_type": "stream",
     "text": [
      "Enter your word:  121\n"
     ]
    },
    {
     "name": "stdout",
     "output_type": "stream",
     "text": [
      "The word is a palindrome.\n"
     ]
    }
   ],
   "source": [
    "word = input(\"Enter your word: \")\n",
    "for i in word:\n",
    "    if word == word[::-1]:\n",
    "        print(\"The word is a palindrome.\")\n",
    "        break\n",
    "    else:\n",
    "        print(\"The word is not a palindrome.\")\n",
    "        break"
   ]
  },
  {
   "cell_type": "code",
   "execution_count": 42,
   "id": "c8a6f3be-d39a-4ac1-bff2-72cdd2845b13",
   "metadata": {},
   "outputs": [
    {
     "name": "stdin",
     "output_type": "stream",
     "text": [
      "Enter your word:  13231\n"
     ]
    },
    {
     "name": "stdout",
     "output_type": "stream",
     "text": [
      "The word is a palindrome\n"
     ]
    }
   ],
   "source": [
    "word = input(\"Enter your word: \")\n",
    "\n",
    "while True: \n",
    "    if word == word[::-1]: \n",
    "        print(\"The word is a palindrome\")\n",
    "        break \n",
    "    else:\n",
    "        print(\"The word is not a palindrome\")\n",
    "        break "
   ]
  },
  {
   "cell_type": "markdown",
   "id": "34c0c1c1-7d01-4e96-8418-02885ae1706e",
   "metadata": {},
   "source": [
    "# Q6.write a python program to find the smallest among the three number"
   ]
  },
  {
   "cell_type": "code",
   "execution_count": 48,
   "id": "b9803645-090d-4e84-8b78-58d2fabad2c2",
   "metadata": {},
   "outputs": [
    {
     "name": "stdin",
     "output_type": "stream",
     "text": [
      "Enter number 1:  7\n",
      "Enter number 2:  9\n",
      "Enter number 3:  6\n"
     ]
    },
    {
     "name": "stdout",
     "output_type": "stream",
     "text": [
      "The smallest number is: 6\n"
     ]
    }
   ],
   "source": [
    "smallest = float('inf')\n",
    "\n",
    "for i in range(3):\n",
    "    num = int(input(f\"Enter number {i + 1}: \"))\n",
    "    if num < smallest:\n",
    "        smallest = num  \n",
    "\n",
    "print(f\"The smallest number is: {smallest}\")\n"
   ]
  },
  {
   "cell_type": "code",
   "execution_count": 7,
   "id": "fef79132-c515-4e27-a460-9b0533c4867f",
   "metadata": {},
   "outputs": [
    {
     "name": "stdin",
     "output_type": "stream",
     "text": [
      "Enter a number:  90\n",
      "Enter a number:  54\n",
      "Enter a number:  100\n"
     ]
    },
    {
     "name": "stdout",
     "output_type": "stream",
     "text": [
      "The smallest number is: 54\n"
     ]
    }
   ],
   "source": [
    "smallest = float('inf')\n",
    "count = 0\n",
    "\n",
    "while count < 3:\n",
    "    num = int(input(\"Enter a number: \"))\n",
    "    if num < smallest:\n",
    "        smallest = num\n",
    "        \n",
    "    count += 1 \n",
    "\n",
    "print(f\"The smallest number is: {smallest}\")\n"
   ]
  },
  {
   "cell_type": "markdown",
   "id": "876d95a6-859a-4e78-a599-ce7cba262a0b",
   "metadata": {},
   "source": [
    "# Q7.find the second largest number in a list"
   ]
  },
  {
   "cell_type": "code",
   "execution_count": 22,
   "id": "4b12f6cc-1e37-4e0c-b37b-daf3de5a3e6b",
   "metadata": {},
   "outputs": [
    {
     "name": "stdout",
     "output_type": "stream",
     "text": [
      "8\n"
     ]
    }
   ],
   "source": [
    "my_list = [2, 5,8,10]\n",
    "largest = second_largest = 0\n",
    "\n",
    "for num in my_list:\n",
    "    if num > largest:\n",
    "        second_largest = largest\n",
    "        largest = num\n",
    "    else:\n",
    "        second_largest = num\n",
    "\n",
    "print(second_largest) \n"
   ]
  },
  {
   "cell_type": "code",
   "execution_count": 24,
   "id": "4d4f1b43-7858-490e-b3a0-52e8352403f4",
   "metadata": {},
   "outputs": [
    {
     "name": "stdout",
     "output_type": "stream",
     "text": [
      "5\n"
     ]
    }
   ],
   "source": [
    "my_list = [1, 2,5,6]\n",
    "largest = second_largest = 0\n",
    "index = 0\n",
    "\n",
    "while index < len(my_list):\n",
    "    num = my_list[index]\n",
    "    if num > largest:\n",
    "        second_largest = largest\n",
    "        largest = num\n",
    "    else:\n",
    "        second_largest = num\n",
    "    \n",
    "    index += 1\n",
    "print(second_largest)\n"
   ]
  },
  {
   "cell_type": "markdown",
   "id": "62aea105-a885-423b-ac16-3a6b67c774ef",
   "metadata": {},
   "source": [
    "# Q8.calculate Body Mass Index and categorize it"
   ]
  },
  {
   "cell_type": "code",
   "execution_count": 49,
   "id": "a5b948d1-63ed-4d7c-8e3d-0012aef3729e",
   "metadata": {},
   "outputs": [
    {
     "name": "stdin",
     "output_type": "stream",
     "text": [
      "Enter weight (kg):  90\n",
      "Enter height (cm):  199\n"
     ]
    },
    {
     "name": "stdout",
     "output_type": "stream",
     "text": [
      "Weight: 90.0 kg, Height: 199.0 m, Category: Underweight\n"
     ]
    }
   ],
   "source": [
    "n=0\n",
    "weight = float(input(\"Enter weight (kg): \"))\n",
    "height = float(input(\"Enter height (cm): \"))\n",
    "\n",
    "for n in range(1):  # Loop runs only once\n",
    "    bmi = weight / (height ** 2)\n",
    "    if bmi < 18.5:\n",
    "        category = \"Underweight\"\n",
    "    elif 18.5 <= bmi < 24.9:\n",
    "        category = \"Normal weight\"\n",
    "    elif 25 <= bmi < 29.9:\n",
    "        category = \"Overweight\"\n",
    "    else:\n",
    "        category = \"Obesity\"\n",
    "    print(f\"Weight: {weight} kg, Height: {height} m, Category: {category}\")\n"
   ]
  },
  {
   "cell_type": "code",
   "execution_count": 53,
   "id": "e5636e20-3e64-42ff-9981-1b72bd64d74b",
   "metadata": {},
   "outputs": [
    {
     "name": "stdin",
     "output_type": "stream",
     "text": [
      "Enter weight (kg):  100\n",
      "Enter height (cm):  90\n"
     ]
    },
    {
     "name": "stdout",
     "output_type": "stream",
     "text": [
      "Weight: 100.0 kg, Height: 90.0 m, Category: Underweight\n"
     ]
    }
   ],
   "source": [
    "weight = float(input(\"Enter weight (kg): \"))\n",
    "height = float(input(\"Enter height (cm): \"))\n",
    "index = 0\n",
    "\n",
    "while index < 1:  # Loop will run only once\n",
    "    bmi = weight / (height ** 2)\n",
    "\n",
    "    if bmi < 18.5:\n",
    "        category = \"Underweight\"\n",
    "    elif 18.5 <= bmi < 24.9:\n",
    "        category = \"Normal weight\"\n",
    "    elif 25 <= bmi < 29.9:\n",
    "        category = \"Overweight\"\n",
    "    else:\n",
    "        category = \"Obesity\"\n",
    "    print(f\"Weight: {weight} kg, Height: {height} m, Category: {category}\")\n",
    "    index += 1\n"
   ]
  },
  {
   "cell_type": "markdown",
   "id": "9946a0cb-7284-4af8-b1d3-3459ae5e2af2",
   "metadata": {},
   "source": [
    "# Q9.python program to check vote eligiblity"
   ]
  },
  {
   "cell_type": "code",
   "execution_count": 66,
   "id": "d3f5df55-7644-4249-bbfb-e98bff38cbe3",
   "metadata": {},
   "outputs": [
    {
     "name": "stdout",
     "output_type": "stream",
     "text": [
      "Age 24 is  eligible\n",
      "Age 31 is  eligible\n",
      "Age 7 is not eligible\n",
      "Age 10 is not eligible\n",
      "Age 9 is not eligible\n",
      "Age 91 is  eligible\n"
     ]
    }
   ],
   "source": [
    "age = [24, 31, 7, 10, 9,91]\n",
    "\n",
    "for n in age:\n",
    "    if n >= 18:\n",
    "        print(f\"Age {n} is  eligible\")\n",
    "    else:\n",
    "        print(f\"Age {n} is not eligible\")\n"
   ]
  },
  {
   "cell_type": "code",
   "execution_count": null,
   "id": "cd60c7dc-2892-44f3-aad6-5d7765c58196",
   "metadata": {},
   "outputs": [],
   "source": [
    "age = [24, 31, 18, 10, 9]\n",
    "index = 0\n",
    "\n",
    "while index < len(age):\n",
    "    n = age[index]\n",
    "    if n >= 18:\n",
    "        print(f\"Age {n} is eligible\")\n",
    "    else:\n",
    "        print(f\"Age {n} is not eligible\")\n",
    "    index += 1 "
   ]
  },
  {
   "cell_type": "markdown",
   "id": "ba2943f8-1b6d-4e26-b86a-46ad1afaf214",
   "metadata": {},
   "source": [
    "# Q10.python program to find the person age belong to which group"
   ]
  },
  {
   "cell_type": "code",
   "execution_count": 26,
   "id": "056cc06e-d9ef-403d-ae67-26ef3e77eaac",
   "metadata": {},
   "outputs": [
    {
     "name": "stdin",
     "output_type": "stream",
     "text": [
      "Enter your age:  23\n"
     ]
    },
    {
     "name": "stdout",
     "output_type": "stream",
     "text": [
      "Age 23 is Work group\n"
     ]
    }
   ],
   "source": [
    "i = 0\n",
    "age = int(input(\"Enter your age: \"))\n",
    "for i in range(1): \n",
    "    if age <= 22:\n",
    "        print(f\"Age {age} is School group\")\n",
    "    elif age > 22 and age <= 50:\n",
    "        print(f\"Age {age} is Work group\")\n",
    "    else:\n",
    "        print(f\"Age {age} is  Retire group\")\n",
    "\n"
   ]
  },
  {
   "cell_type": "code",
   "execution_count": 87,
   "id": "3a4c7f2a-d88a-46fd-9507-93ab610314f4",
   "metadata": {},
   "outputs": [
    {
     "name": "stdin",
     "output_type": "stream",
     "text": [
      "Enter your age:  43\n"
     ]
    },
    {
     "name": "stdout",
     "output_type": "stream",
     "text": [
      "Age 43: Work group\n"
     ]
    }
   ],
   "source": [
    "age = int(input(\"Enter your age: \"))\n",
    "count = 0\n",
    "\n",
    "while count < 1:\n",
    "    if age <= 22:\n",
    "        print(f\"Age {age}: School group\")\n",
    "    elif age > 22 and age <= 50:\n",
    "        print(f\"Age {age}: Work group\")\n",
    "    else:\n",
    "        print(f\"Age {age}: Retire group\")\n",
    "    \n",
    "    count += 1 \n"
   ]
  },
  {
   "cell_type": "code",
   "execution_count": null,
   "id": "1ac0710f-1a3f-4061-b341-a3a265d324de",
   "metadata": {},
   "outputs": [],
   "source": []
  }
 ],
 "metadata": {
  "kernelspec": {
   "display_name": "Python 3 (ipykernel)",
   "language": "python",
   "name": "python3"
  },
  "language_info": {
   "codemirror_mode": {
    "name": "ipython",
    "version": 3
   },
   "file_extension": ".py",
   "mimetype": "text/x-python",
   "name": "python",
   "nbconvert_exporter": "python",
   "pygments_lexer": "ipython3",
   "version": "3.12.4"
  }
 },
 "nbformat": 4,
 "nbformat_minor": 5
}
