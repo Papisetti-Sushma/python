{
 "cells": [
  {
   "cell_type": "markdown",
   "id": "f2af17e9-3dc3-4912-9603-6c02d86c0308",
   "metadata": {},
   "source": [
    "# 1) Explain about python?\n",
    "\n",
    "- Python is a very popular , general purpose programming language.\n",
    "- Python is a programming language that is widely used in web applications, software development, data science, and machine learning.\n",
    "- Python is a computer programming language often used to build websites and software, automate tasks, and analyze data.\n",
    "- Python is a programming language that lets you work quickly and integrate systems more effectively.\n",
    "- Python is the most accessible open-source coding language as it has a simple syntax to code."
   ]
  },
  {
   "cell_type": "markdown",
   "id": "2b643415-9a8e-4b9c-b9d8-f0bd928e6688",
   "metadata": {},
   "source": [
    "# 2) Rules of python?\n",
    "\n",
    "  1. variables can be written in alpha-numeric structure / character\n",
    "     ex: a=1\n",
    "         hi=5\n",
    "     \n",
    "  2. varaible can't start with special characters except underscore (_)\n",
    "     ex: @s=9 (false)\n",
    "         _s=9 (true)\n",
    "     \n",
    "  3. varaible can't start with digits\n",
    "      ex: 9=a ( false)\n",
    "          54=hello world (false )\n",
    "     \n",
    "  4. varaible can't start with keywords\n",
    "     ex: if = 8 ( false )\n",
    "         async = 67 ( false )\n",
    "     \n",
    "  5. varaiables are case sensitive\n",
    "     ex: a=2\n",
    "         print(a) [ true]\n",
    "\n",
    "        s=34\n",
    "        print(S)  [ false][ false]"
   ]
  },
  {
   "cell_type": "markdown",
   "id": "2b4df904-3d78-4051-846a-2f9ac9dd47ad",
   "metadata": {},
   "source": [
    " # 3) Types of variables?\n",
    "\n",
    "There are two types of varaibles\n",
    "  1. single variables\n",
    "  2. multiple variables\n",
    "\n",
    "1. single variables :\n",
    "   \n",
    "   - single variable is storing single value\n",
    "   - like a=1 , b=2\n",
    "   - ex: age = 25\n",
    "         name = \"Alice\"\n",
    "         height = 5.9\n",
    "     \n",
    "2. multiple variables:\n",
    "\n",
    "   - multiple variables stores multiple values\n",
    "   - divides the variable and value using comma(,)\n",
    "   - like a,b,c = 1,2,3\n",
    "   - ex: x, y, z = 10, 20, 30 "
   ]
  },
  {
   "cell_type": "markdown",
   "id": "85370a4e-637e-425d-8fe6-9a2575001329",
   "metadata": {},
   "source": [
    "# 4) Examples of types of variables ?"
   ]
  },
  {
   "cell_type": "code",
   "execution_count": 1,
   "id": "13b2be1b-9d8d-4bfd-a9f4-d4217858006e",
   "metadata": {},
   "outputs": [],
   "source": [
    "a=8"
   ]
  },
  {
   "cell_type": "code",
   "execution_count": 3,
   "id": "76c7ae61-6174-4b4f-8c64-d279b89996f6",
   "metadata": {},
   "outputs": [],
   "source": [
    "sushma = 76"
   ]
  },
  {
   "cell_type": "code",
   "execution_count": 5,
   "id": "929eab06-6d08-4bea-b899-21f2dfbf8935",
   "metadata": {},
   "outputs": [],
   "source": [
    "sathyabama = 56.74"
   ]
  },
  {
   "cell_type": "code",
   "execution_count": 7,
   "id": "1775d2ad-197d-4c32-acca-b3d4c7635661",
   "metadata": {},
   "outputs": [],
   "source": [
    "college = 123"
   ]
  },
  {
   "cell_type": "code",
   "execution_count": 9,
   "id": "73d9f1cf-96e8-4e40-b7be-1e683bfcb9f0",
   "metadata": {},
   "outputs": [],
   "source": [
    "datascience = 345"
   ]
  },
  {
   "cell_type": "code",
   "execution_count": 11,
   "id": "3cdbe0f4-49c5-4313-9c4b-bdcfff7e817f",
   "metadata": {},
   "outputs": [],
   "source": [
    "teacher = 7.6"
   ]
  },
  {
   "cell_type": "code",
   "execution_count": 13,
   "id": "3f565049-e518-418d-843d-2c7342b2fd36",
   "metadata": {},
   "outputs": [],
   "source": [
    "fruits = 6754"
   ]
  },
  {
   "cell_type": "code",
   "execution_count": 15,
   "id": "cfb26318-c33b-4be9-9644-08092d8600db",
   "metadata": {},
   "outputs": [],
   "source": [
    "parents = 2"
   ]
  },
  {
   "cell_type": "code",
   "execution_count": 17,
   "id": "9cb5ca0b-272a-4f53-86e2-36a9f4d126fe",
   "metadata": {},
   "outputs": [],
   "source": [
    "family = 4"
   ]
  },
  {
   "cell_type": "code",
   "execution_count": 19,
   "id": "40d8c87e-a872-4ccd-b9e9-70c88f78869f",
   "metadata": {},
   "outputs": [],
   "source": [
    "friends = 54+5j"
   ]
  },
  {
   "cell_type": "code",
   "execution_count": 22,
   "id": "82baa700-3b4f-4328-810b-5fc9eace6b70",
   "metadata": {},
   "outputs": [],
   "source": [
    "sushma,college,insta = 2,3,4"
   ]
  },
  {
   "cell_type": "code",
   "execution_count": 24,
   "id": "4e5b2299-b12e-4135-a279-f259fcc887b0",
   "metadata": {},
   "outputs": [],
   "source": [
    "apple,banana,juice = 34,56,98"
   ]
  },
  {
   "cell_type": "code",
   "execution_count": 28,
   "id": "8ede7f3a-ee93-4724-a80f-f3ca1f5f8160",
   "metadata": {},
   "outputs": [
    {
     "name": "stdout",
     "output_type": "stream",
     "text": [
      "<class 'float'>\n"
     ]
    }
   ],
   "source": [
    "a,b,c = 12,5.6,43+0j\n",
    "print(type(float))"
   ]
  },
  {
   "cell_type": "code",
   "execution_count": 30,
   "id": "ba733c10-ade8-4a19-bb25-5702849b44a7",
   "metadata": {},
   "outputs": [],
   "source": [
    "int,float,complex = 23,123+9j,4.53"
   ]
  },
  {
   "cell_type": "code",
   "execution_count": 32,
   "id": "d2fa0c91-a269-4524-957f-cb3ef8ee7a99",
   "metadata": {},
   "outputs": [
    {
     "name": "stdout",
     "output_type": "stream",
     "text": [
      "<class 'complex'>\n"
     ]
    }
   ],
   "source": [
    "x,y,z = 67.8,8j,43\n",
    "print(type(y))"
   ]
  },
  {
   "cell_type": "code",
   "execution_count": 36,
   "id": "7ee83f7c-e3b7-45a8-b88d-9cab324df7e2",
   "metadata": {},
   "outputs": [],
   "source": [
    "colors = 12,34,65"
   ]
  },
  {
   "cell_type": "code",
   "execution_count": 38,
   "id": "0115310c-08ed-4af4-af0e-f6c33ef47007",
   "metadata": {},
   "outputs": [],
   "source": [
    "student = 23,54,87"
   ]
  },
  {
   "cell_type": "code",
   "execution_count": 40,
   "id": "a64fc068-8d86-4a96-8bb9-3c23c8bbe833",
   "metadata": {},
   "outputs": [],
   "source": [
    "institute = 23,56,67"
   ]
  },
  {
   "cell_type": "code",
   "execution_count": 50,
   "id": "3238970f-ccf3-44ab-8718-b8b2d0109992",
   "metadata": {},
   "outputs": [
    {
     "name": "stdout",
     "output_type": "stream",
     "text": [
      "<class 'complex'>\n"
     ]
    }
   ],
   "source": [
    "sushma,harsha,nirmala = 54+9j , 7.6, 34\n",
    "print(type(sushma))"
   ]
  },
  {
   "cell_type": "code",
   "execution_count": 48,
   "id": "39d35212-78c2-4464-af72-af9b650a13f5",
   "metadata": {},
   "outputs": [
    {
     "name": "stdout",
     "output_type": "stream",
     "text": [
      "<class 'int'>\n"
     ]
    }
   ],
   "source": [
    "print(type(nirmala))"
   ]
  },
  {
   "cell_type": "code",
   "execution_count": 52,
   "id": "609c7dbe-87c4-4250-9e01-ae3aac17828c",
   "metadata": {},
   "outputs": [
    {
     "name": "stdout",
     "output_type": "stream",
     "text": [
      "<class 'float'>\n"
     ]
    }
   ],
   "source": [
    "print(type(harsha))"
   ]
  },
  {
   "cell_type": "code",
   "execution_count": 54,
   "id": "5cabaf7c-cf2e-4d83-b1a2-7d6a40e5e0f5",
   "metadata": {},
   "outputs": [],
   "source": [
    "a,b,c = 3,65,7.05"
   ]
  },
  {
   "cell_type": "code",
   "execution_count": 56,
   "id": "5231ae0c-8480-499c-9b62-e25e9bb68396",
   "metadata": {},
   "outputs": [
    {
     "name": "stdout",
     "output_type": "stream",
     "text": [
      "<class 'complex'>\n"
     ]
    }
   ],
   "source": [
    "data = 67.0j\n",
    "print(type(data))"
   ]
  },
  {
   "cell_type": "code",
   "execution_count": 58,
   "id": "f3bd12d3-03e5-40de-b578-1f7ba0c12a80",
   "metadata": {},
   "outputs": [
    {
     "name": "stdout",
     "output_type": "stream",
     "text": [
      "<class 'float'>\n"
     ]
    }
   ],
   "source": [
    "hi = -45.98\n",
    "print(type(hi))"
   ]
  },
  {
   "cell_type": "code",
   "execution_count": 60,
   "id": "4154983e-5efd-49d5-bcf3-f2bf10640ec8",
   "metadata": {},
   "outputs": [
    {
     "name": "stdout",
     "output_type": "stream",
     "text": [
      "<class 'int'>\n"
     ]
    }
   ],
   "source": [
    "books = 123489\n",
    "print(type(books))"
   ]
  },
  {
   "cell_type": "code",
   "execution_count": 62,
   "id": "58fba81c-3b4f-412a-9b7d-ed3c40bec2f8",
   "metadata": {},
   "outputs": [],
   "source": [
    "_sushma = 45"
   ]
  },
  {
   "cell_type": "code",
   "execution_count": 64,
   "id": "dd833531-209c-49e6-b626-815a7ba23328",
   "metadata": {},
   "outputs": [
    {
     "ename": "SyntaxError",
     "evalue": "invalid syntax. Maybe you meant '==' or ':=' instead of '='? (2504642123.py, line 1)",
     "output_type": "error",
     "traceback": [
      "\u001b[1;36m  Cell \u001b[1;32mIn[64], line 1\u001b[1;36m\u001b[0m\n\u001b[1;33m    @ sushma = 7659\u001b[0m\n\u001b[1;37m      ^\u001b[0m\n\u001b[1;31mSyntaxError\u001b[0m\u001b[1;31m:\u001b[0m invalid syntax. Maybe you meant '==' or ':=' instead of '='?\n"
     ]
    }
   ],
   "source": [
    "@ sushma = 7659"
   ]
  },
  {
   "cell_type": "code",
   "execution_count": 66,
   "id": "c1935f02-6b4f-4a00-87f0-3f86ee1ae4f5",
   "metadata": {},
   "outputs": [
    {
     "ename": "NameError",
     "evalue": "name 'B' is not defined",
     "output_type": "error",
     "traceback": [
      "\u001b[1;31m---------------------------------------------------------------------------\u001b[0m",
      "\u001b[1;31mNameError\u001b[0m                                 Traceback (most recent call last)",
      "Cell \u001b[1;32mIn[66], line 2\u001b[0m\n\u001b[0;32m      1\u001b[0m b\u001b[38;5;241m=\u001b[39m\u001b[38;5;241m43\u001b[39m\n\u001b[1;32m----> 2\u001b[0m \u001b[38;5;28mprint\u001b[39m(B)\n",
      "\u001b[1;31mNameError\u001b[0m: name 'B' is not defined"
     ]
    }
   ],
   "source": [
    "b=43\n",
    "print(B)"
   ]
  },
  {
   "cell_type": "code",
   "execution_count": null,
   "id": "9782292c-14fc-44da-afdc-f486bb14bcb6",
   "metadata": {},
   "outputs": [],
   "source": []
  }
 ],
 "metadata": {
  "kernelspec": {
   "display_name": "Python 3 (ipykernel)",
   "language": "python",
   "name": "python3"
  },
  "language_info": {
   "codemirror_mode": {
    "name": "ipython",
    "version": 3
   },
   "file_extension": ".py",
   "mimetype": "text/x-python",
   "name": "python",
   "nbconvert_exporter": "python",
   "pygments_lexer": "ipython3",
   "version": "3.12.4"
  }
 },
 "nbformat": 4,
 "nbformat_minor": 5
}
