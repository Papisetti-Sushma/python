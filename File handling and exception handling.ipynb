{
 "cells": [
  {
   "cell_type": "markdown",
   "id": "478d582f-d0e3-44a7-ba42-304f991a2358",
   "metadata": {},
   "source": [
    "# File handling"
   ]
  },
  {
   "cell_type": "markdown",
   "id": "c2d56d2b-18f4-43d3-b867-93570c532e60",
   "metadata": {},
   "source": [
    "- In python, file handling involves performing operations like reading and writing the files\n",
    "- Here , we have 5 operations in a flie\n",
    "- open file\n",
    "- read file\n",
    "- write file\n",
    "- append file(if we want)\n",
    "- close file"
   ]
  },
  {
   "cell_type": "markdown",
   "id": "0654f8be-66ad-4266-bd13-4f31295c3269",
   "metadata": {},
   "source": [
    "# Opening the file "
   ]
  },
  {
   "cell_type": "markdown",
   "id": "f0032566-5f7a-4b34-92a4-aff15cbd69ac",
   "metadata": {},
   "source": [
    "- To open the file we use open() function\n",
    "- This function require at least one argument (the name of the file to open )\n",
    "- you can also specify in which mode the file should be opened"
   ]
  },
  {
   "cell_type": "markdown",
   "id": "25c7dddc-980a-45e9-a5d8-d42e431eba26",
   "metadata": {},
   "source": [
    "commom modes include:\n",
    "\n",
    " - r(read)\n",
    " - w(write)\n",
    " - a(append)\n",
    " - b(binary write or read)\n",
    " - t(text mode)"
   ]
  },
  {
   "cell_type": "code",
   "execution_count": 11,
   "id": "1b2decfc-5e96-47ad-aa62-34b12f8934ae",
   "metadata": {},
   "outputs": [],
   "source": [
    "file=open('example.txt','r')"
   ]
  },
  {
   "cell_type": "markdown",
   "id": "e0f1da97-5da7-4742-956e-02490073c4f7",
   "metadata": {},
   "source": [
    "# Reading the file "
   ]
  },
  {
   "cell_type": "markdown",
   "id": "0aede274-9358-488f-b4ec-bf84d2928ebf",
   "metadata": {},
   "source": [
    "- There are several methods to read the file \n",
    "- read() - read the entire file\n",
    "- readline() - read one line at a time\n",
    "- readlines() - Read all lines and return them as a list "
   ]
  },
  {
   "cell_type": "code",
   "execution_count": 15,
   "id": "f3318e64-a2a7-4b92-b60b-341a837da13e",
   "metadata": {},
   "outputs": [
    {
     "name": "stdout",
     "output_type": "stream",
     "text": [
      "Hi My name is sushma \n",
      "Iam learning data science from Teks academy Hitech city branch\n",
      "And my timing are 5:30-6:30\n"
     ]
    }
   ],
   "source": [
    "content=file.read()\n",
    "print(content)"
   ]
  },
  {
   "cell_type": "code",
   "execution_count": 19,
   "id": "aefede5a-13ca-4735-92c4-3b7536996e6a",
   "metadata": {},
   "outputs": [
    {
     "name": "stdout",
     "output_type": "stream",
     "text": [
      "[]\n"
     ]
    }
   ],
   "source": [
    "lines=file.readlines()\n",
    "print(lines)"
   ]
  },
  {
   "cell_type": "code",
   "execution_count": 21,
   "id": "b9e52310-ce1b-4e2e-8b24-958446b5f457",
   "metadata": {},
   "outputs": [
    {
     "name": "stdout",
     "output_type": "stream",
     "text": [
      "['Hi My name is sushma \\n', 'Iam learning data science from Teks academy Hitech city branch\\n', 'And my timing are 5:30-6:30']\n"
     ]
    }
   ],
   "source": [
    "file = open('example.txt', 'r')\n",
    "lines = file.readlines()\n",
    "print(lines)\n"
   ]
  },
  {
   "cell_type": "code",
   "execution_count": 47,
   "id": "d755399b-2dcd-43a8-8304-8757f5e729d1",
   "metadata": {},
   "outputs": [
    {
     "name": "stdout",
     "output_type": "stream",
     "text": [
      "Hi My name is sushma \n",
      "\n"
     ]
    }
   ],
   "source": [
    "file = open('example.txt', 'r')\n",
    "lines = file.readline()\n",
    "print(lines)"
   ]
  },
  {
   "cell_type": "markdown",
   "id": "543f7ab0-5bdb-46e3-8a58-8671b7fbaeb0",
   "metadata": {},
   "source": [
    "# writing the file "
   ]
  },
  {
   "cell_type": "markdown",
   "id": "4b74b691-af83-4df2-b372-82ee212ee39e",
   "metadata": {},
   "source": [
    "- To write the file , open it and we can use 'w' for write \n",
    "- and append 'a' for add to the next line\n",
    "- In write 'w' mode it will delete the before data and add new data\n",
    "- In append 'a' mode it will add the data to the existing data                                           "
   ]
  },
  {
   "cell_type": "code",
   "execution_count": 57,
   "id": "facce734-dd8b-4ca2-9a9c-237afd8e27b3",
   "metadata": {},
   "outputs": [
    {
     "data": {
      "text/plain": [
       "21"
      ]
     },
     "execution_count": 57,
     "metadata": {},
     "output_type": "execute_result"
    }
   ],
   "source": [
    "file = open('example.txt', 'w')\n",
    "file.write(\"Hi My name is sushma\\n\")"
   ]
  },
  {
   "cell_type": "code",
   "execution_count": 63,
   "id": "d8359b32-4640-4f68-9880-2c0f1b427137",
   "metadata": {},
   "outputs": [
    {
     "data": {
      "text/plain": [
       "58"
      ]
     },
     "execution_count": 63,
     "metadata": {},
     "output_type": "execute_result"
    }
   ],
   "source": [
    "file = open('example.txt', 'a')\n",
    "file.write(\"I am excited to learn and improve my data science skills!\\n\")"
   ]
  },
  {
   "cell_type": "code",
   "execution_count": 67,
   "id": "c361dee5-8e54-4317-a14c-9cdf00edd5a4",
   "metadata": {},
   "outputs": [],
   "source": [
    "file = open('example.txt', 'w')\n",
    "lines = [\n",
    "    \"Hi My name is sushma\\n\",\n",
    "    \"I am learning data science from Teks academy Hitech city branch\\n\",\n",
    "    \"And my timing are 5:30-6:30\\n\"\n",
    "]\n",
    "file.writelines(lines)"
   ]
  },
  {
   "cell_type": "code",
   "execution_count": 71,
   "id": "d6276439-9a97-439c-9b74-0f5a142bfa8e",
   "metadata": {},
   "outputs": [
    {
     "data": {
      "text/plain": [
       "58"
      ]
     },
     "execution_count": 71,
     "metadata": {},
     "output_type": "execute_result"
    }
   ],
   "source": [
    "file = open('example.txt', 'a')\n",
    "file.write(\"I am excited to learn and improve my data science skills!\\n\")"
   ]
  },
  {
   "cell_type": "markdown",
   "id": "5eb4982b-09bd-4403-ac40-a88becce5313",
   "metadata": {},
   "source": [
    "# closing the file"
   ]
  },
  {
   "cell_type": "markdown",
   "id": "be13cc29-896f-45d3-810c-a0eadb05608e",
   "metadata": {},
   "source": [
    "- Always close a file after completing operations to free up the systems resources"
   ]
  },
  {
   "cell_type": "code",
   "execution_count": 78,
   "id": "e8dfed5b-60db-4f8d-ac0d-63c0e07d878f",
   "metadata": {},
   "outputs": [],
   "source": [
    "file.close()"
   ]
  },
  {
   "cell_type": "markdown",
   "id": "094018b2-ef8b-4033-9404-b27f43df6520",
   "metadata": {},
   "source": [
    "# Exception Handling in files"
   ]
  },
  {
   "cell_type": "markdown",
   "id": "7cdd8a6a-fc6a-4ce5-9d08-c8237bc992a0",
   "metadata": {},
   "source": [
    "- If an exception occurs when we are performing some operator with the file the code exists without closing the file\n",
    "- A safer way is to use a try .... finally or\n",
    "\n",
    "                          try .... except"
   ]
  },
  {
   "cell_type": "code",
   "execution_count": 87,
   "id": "f5435730-3bac-42ca-99bf-e6e1708c3da7",
   "metadata": {},
   "outputs": [
    {
     "name": "stdout",
     "output_type": "stream",
     "text": [
      "Hi My name is sushma\n",
      "I am learning data science from Teks academy Hitech city branch\n",
      "And my timing are 5:30-6:30\n",
      "I am excited to learn and improve my data science skills!\n"
     ]
    }
   ],
   "source": [
    "try:\n",
    "    file = open('example.txt', 'r')\n",
    "    read=file.read()\n",
    "    print(read)\n",
    "\n",
    "\n",
    "finally:\n",
    "    file.close()"
   ]
  },
  {
   "cell_type": "code",
   "execution_count": 89,
   "id": "8e163634-3502-4e31-875a-c0ca8c645aef",
   "metadata": {},
   "outputs": [
    {
     "name": "stdout",
     "output_type": "stream",
     "text": [
      "given den is zero\n"
     ]
    }
   ],
   "source": [
    "try:\n",
    "    result=num/den\n",
    "    print(result)\n",
    "\n",
    "except:\n",
    "    print(\"given den is zero\")"
   ]
  },
  {
   "cell_type": "code",
   "execution_count": 95,
   "id": "5462bd78-12ba-45dd-85bf-5b7255ffa988",
   "metadata": {},
   "outputs": [
    {
     "name": "stdin",
     "output_type": "stream",
     "text": [
      "enter the num: 4\n",
      "enter the num: 2\n"
     ]
    }
   ],
   "source": [
    "num=int(input(\"enter the num:\"))\n",
    "den=int(input(\"enter the num:\"))"
   ]
  },
  {
   "cell_type": "code",
   "execution_count": 97,
   "id": "26ba00e2-4098-46fa-96fd-54d625b4b789",
   "metadata": {},
   "outputs": [
    {
     "name": "stdout",
     "output_type": "stream",
     "text": [
      "2.0\n"
     ]
    }
   ],
   "source": [
    "try:\n",
    "    result=num/den\n",
    "    print(result)\n",
    "\n",
    "except:\n",
    "    print(\"given den is zero\")"
   ]
  },
  {
   "cell_type": "markdown",
   "id": "e9a2f8d8-13e1-4a5f-ad77-66db3b30c046",
   "metadata": {},
   "source": [
    "# Regular Expressions"
   ]
  },
  {
   "cell_type": "markdown",
   "id": "c56ad7bc-0dc1-422e-89c1-51edeed94be4",
   "metadata": {},
   "source": [
    "- useful for NLP\n",
    "- we can easily clean the data\n",
    "- used for pattern matching , text manipulation\n",
    "- flexible way to search ,match,manipulate the text data "
   ]
  },
  {
   "cell_type": "markdown",
   "id": "03f24775-3f1d-47b4-bd57-048d2ce9ffe8",
   "metadata": {},
   "source": [
    "# RegEx Functions"
   ]
  },
  {
   "cell_type": "markdown",
   "id": "b6ab1ee3-939f-45e3-ad9e-553a7c8eefdd",
   "metadata": {},
   "source": [
    "- The 're' module offers a set of functions that allows us to search a string for a match\n",
    "- there are 4 main functions"
   ]
  },
  {
   "cell_type": "markdown",
   "id": "47423f84-c47c-407d-bc8c-da129868340b",
   "metadata": {},
   "source": [
    "1.findall():"
   ]
  },
  {
   "cell_type": "markdown",
   "id": "8df535d8-4406-4f65-b15b-073519ce7eae",
   "metadata": {},
   "source": [
    "- returns a list of containing all matches"
   ]
  },
  {
   "cell_type": "code",
   "execution_count": 109,
   "id": "1df6ee57-ea01-4e0e-8063-673e63fd637f",
   "metadata": {},
   "outputs": [
    {
     "name": "stdin",
     "output_type": "stream",
     "text": [
      "enter the char: d\n"
     ]
    },
    {
     "name": "stdout",
     "output_type": "stream",
     "text": [
      "[]\n"
     ]
    }
   ],
   "source": [
    "import re \n",
    "user=input(\"enter the char:\")\n",
    "txt=\"sushma\"\n",
    "x=re.findall(user,txt)\n",
    "print(x)"
   ]
  },
  {
   "cell_type": "code",
   "execution_count": 117,
   "id": "a378225f-cb4d-4ddd-9479-a7232594e464",
   "metadata": {},
   "outputs": [
    {
     "name": "stdin",
     "output_type": "stream",
     "text": [
      "enter the char: s\n"
     ]
    },
    {
     "name": "stdout",
     "output_type": "stream",
     "text": [
      "matched ['s', 's']\n"
     ]
    }
   ],
   "source": [
    "import re \n",
    "user=input(\"enter the char:\")\n",
    "txt=\"sushma\"\n",
    "x=re.findall(user,txt)\n",
    "if x:\n",
    "    print(\"matched\",x)\n",
    "else:\n",
    "    print(\"not matched\",x)"
   ]
  },
  {
   "cell_type": "code",
   "execution_count": 123,
   "id": "1f679fee-7525-4611-bfe4-8523f5cc95dd",
   "metadata": {},
   "outputs": [
    {
     "name": "stdout",
     "output_type": "stream",
     "text": [
      "matched ['ma']\n"
     ]
    }
   ],
   "source": [
    "import re\n",
    "txt = \"sushma\"\n",
    "x = re.findall(\"ma\", txt)\n",
    "if x:\n",
    "    print(\"matched\",x)\n",
    "else:\n",
    "    print(\"not matched\",x)"
   ]
  },
  {
   "cell_type": "markdown",
   "id": "8a6fccf9-4c54-4a0a-996c-ec3f0ff120d9",
   "metadata": {},
   "source": [
    "2. Search():"
   ]
  },
  {
   "cell_type": "markdown",
   "id": "d1d8eeef-8174-4c1c-9254-c07ec9d1d0e4",
   "metadata": {},
   "source": [
    "- Searches for the string for a match and returns a match object,if there is a match\n",
    "- If there is more than one match ,only the first occurence of the match will be returned"
   ]
  },
  {
   "cell_type": "code",
   "execution_count": 129,
   "id": "aea4fff0-47df-412a-8326-d137d6ca5ee2",
   "metadata": {},
   "outputs": [
    {
     "name": "stdout",
     "output_type": "stream",
     "text": [
      "6\n"
     ]
    }
   ],
   "source": [
    "import re\n",
    "txt=\"the rain in spain\"\n",
    "x=re.search('i',txt)\n",
    "print(x.start())"
   ]
  },
  {
   "cell_type": "code",
   "execution_count": 133,
   "id": "d942c5dd-9144-49b1-9ca0-f30cda17607c",
   "metadata": {},
   "outputs": [
    {
     "name": "stdout",
     "output_type": "stream",
     "text": [
      "12\n"
     ]
    }
   ],
   "source": [
    "import re\n",
    "txt=\"the rain in spain\"\n",
    "x=re.search('sp',txt)\n",
    "print(x.start())"
   ]
  },
  {
   "cell_type": "markdown",
   "id": "351953d3-9ae3-471f-814e-cbb6e9956af6",
   "metadata": {},
   "source": [
    "3.split():"
   ]
  },
  {
   "cell_type": "markdown",
   "id": "ce563402-0bb4-4003-8b49-85dc1feac1a6",
   "metadata": {},
   "source": [
    "- used to return a list where the string has been split at each match\n"
   ]
  },
  {
   "cell_type": "code",
   "execution_count": 137,
   "id": "79a9e199-f709-4073-9ad7-c9d7dc593ad0",
   "metadata": {},
   "outputs": [
    {
     "name": "stdout",
     "output_type": "stream",
     "text": [
      "['the ra', 'n ', 'n spa', 'n']\n"
     ]
    }
   ],
   "source": [
    "import re\n",
    "txt=\"the rain in spain\"\n",
    "x=re.split('i',txt)\n",
    "print(x)"
   ]
  },
  {
   "cell_type": "code",
   "execution_count": 139,
   "id": "a6548ba6-c389-4ff3-9727-744fd7f22c89",
   "metadata": {},
   "outputs": [
    {
     "name": "stdout",
     "output_type": "stream",
     "text": [
      "['the ra', ' ', ' spa', '']\n"
     ]
    }
   ],
   "source": [
    "import re\n",
    "txt=\"the rain in spain\"\n",
    "x=re.split('in',txt)\n",
    "print(x)"
   ]
  },
  {
   "cell_type": "code",
   "execution_count": 145,
   "id": "13fc2bd2-665c-4f5c-9784-30427e909314",
   "metadata": {},
   "outputs": [
    {
     "name": "stdout",
     "output_type": "stream",
     "text": [
      "['the', 'rain', 'in', 'spain']\n"
     ]
    }
   ],
   "source": [
    "import re\n",
    "txt=\"the rain in spain\"\n",
    "x=re.split(' ',txt)\n",
    "print(x)"
   ]
  },
  {
   "cell_type": "code",
   "execution_count": 151,
   "id": "440e1d43-c640-410e-9fd9-55cd25e5d907",
   "metadata": {},
   "outputs": [
    {
     "name": "stdout",
     "output_type": "stream",
     "text": [
      "['the rai', ' i', ' spain']\n"
     ]
    }
   ],
   "source": [
    "import re\n",
    "txt=\"the rain in spain\"\n",
    "x=re.split('n',txt,2)\n",
    "print(x)"
   ]
  },
  {
   "cell_type": "markdown",
   "id": "b45a89d0-f97b-465c-a048-1da4d2c2dd66",
   "metadata": {},
   "source": [
    "4.sub():"
   ]
  },
  {
   "cell_type": "markdown",
   "id": "819dd9c6-eb8c-423a-ae53-efabf3f027be",
   "metadata": {},
   "source": [
    "- replaces the matches with the text of your choice"
   ]
  },
  {
   "cell_type": "code",
   "execution_count": 157,
   "id": "6f756d96-bc3c-4e9c-bf71-215c0b282a9a",
   "metadata": {},
   "outputs": [
    {
     "name": "stdout",
     "output_type": "stream",
     "text": [
      "tue rain in india\n"
     ]
    }
   ],
   "source": [
    "import re\n",
    "txt=\"the rain in india\"\n",
    "x=re.sub(\"h\",\"u\",txt)\n",
    "print(x)"
   ]
  },
  {
   "cell_type": "code",
   "execution_count": 159,
   "id": "74a05e7e-9df0-4085-9644-8beb9880f254",
   "metadata": {},
   "outputs": [
    {
     "name": "stdout",
     "output_type": "stream",
     "text": [
      "t12e rain in india\n"
     ]
    }
   ],
   "source": [
    "import re\n",
    "txt=\"the rain in india\"\n",
    "x=re.sub(\"h\",\"12\",txt)\n",
    "print(x)"
   ]
  },
  {
   "cell_type": "markdown",
   "id": "79377631-1133-443d-86b8-7228399899c1",
   "metadata": {},
   "source": [
    "# Remaining Functions"
   ]
  },
  {
   "cell_type": "markdown",
   "id": "0f6b5587-706b-4893-b7d9-8ca34f4a046a",
   "metadata": {},
   "source": [
    "1.Literal characters:"
   ]
  },
  {
   "cell_type": "markdown",
   "id": "fba57bcb-f08d-42cc-aeec-6bc85b0b3dbc",
   "metadata": {},
   "source": [
    "- that match exactly as they appear"
   ]
  },
  {
   "cell_type": "code",
   "execution_count": 168,
   "id": "98f1bd89-4a75-4143-b4ae-3f1dd1fe5c5e",
   "metadata": {},
   "outputs": [
    {
     "name": "stdout",
     "output_type": "stream",
     "text": [
      "match found: s\n"
     ]
    }
   ],
   "source": [
    "import re\n",
    "pattern = re.compile(r's')\n",
    "match = pattern.search('say hello to sushma')\n",
    "if match:\n",
    "    print('match found:', match.group())\n",
    "else:\n",
    "    print('match not found')"
   ]
  },
  {
   "cell_type": "code",
   "execution_count": 170,
   "id": "93ba758c-cb92-45d0-a2a5-b9df3df74516",
   "metadata": {},
   "outputs": [
    {
     "name": "stdout",
     "output_type": "stream",
     "text": [
      "match found: sus\n"
     ]
    }
   ],
   "source": [
    "import re\n",
    "pattern = re.compile(r'sus')\n",
    "match = pattern.search('say hello to sushma')\n",
    "if match:\n",
    "    print('match found:', match.group())\n",
    "else:\n",
    "    print('match not found')"
   ]
  },
  {
   "cell_type": "markdown",
   "id": "8243a4e2-5206-470c-8b40-b78ccbdcddcc",
   "metadata": {},
   "source": [
    "2.Dot(.)wild card:"
   ]
  },
  {
   "cell_type": "markdown",
   "id": "4e579fe6-a2a2-4ffa-984a-6dcf524d7a51",
   "metadata": {},
   "source": [
    "- is a special character that matches any single character except a newline"
   ]
  },
  {
   "cell_type": "code",
   "execution_count": 192,
   "id": "a0740015-d432-4f4c-87f9-b27f9c75d063",
   "metadata": {},
   "outputs": [
    {
     "name": "stdout",
     "output_type": "stream",
     "text": [
      "match found: ['frog', 'flag']\n"
     ]
    }
   ],
   "source": [
    "import re\n",
    "pattern = r\"f..g\"\n",
    "text = \"fog, frog, flag\"\n",
    "matches = re.findall(pattern, text)\n",
    "if match:\n",
    "    print(\"match found:\" ,matches)\n",
    "else:\n",
    "    print(\"match not found\")"
   ]
  },
  {
   "cell_type": "code",
   "execution_count": 200,
   "id": "d7d0bea9-0a55-42dc-aea6-be5a40f84873",
   "metadata": {},
   "outputs": [
    {
     "name": "stdout",
     "output_type": "stream",
     "text": [
      "match found: ['cat', 'cut']\n"
     ]
    }
   ],
   "source": [
    "import re\n",
    "pattern = r\"c.t\"\n",
    "text = \"cat, dog, cut, mouse\"\n",
    "matches = re.findall(pattern, text)\n",
    "if match:\n",
    "    print(\"match found:\" ,matches)\n",
    "else:\n",
    "    print(\"match not found\")"
   ]
  },
  {
   "cell_type": "markdown",
   "id": "d8755be4-3c19-43cc-99ad-19534b355499",
   "metadata": {},
   "source": [
    "3.Square brackets[ ]:"
   ]
  },
  {
   "cell_type": "markdown",
   "id": "13ff87eb-4f07-4d4b-a852-134eb77bf2e5",
   "metadata": {},
   "source": [
    "- define a character class, allowing you to match any one of several specified characters at a given position in the pattern."
   ]
  },
  {
   "cell_type": "code",
   "execution_count": 214,
   "id": "ff7e4730-1b29-42f4-b832-83ad0cdb5d77",
   "metadata": {},
   "outputs": [
    {
     "name": "stdout",
     "output_type": "stream",
     "text": [
      "Match found: H\n"
     ]
    }
   ],
   "source": [
    "import re\n",
    "pattern = re.compile(r'[Hhello]')\n",
    "match = pattern.search('Hello')\n",
    "if match:\n",
    "    print('Match found:', match.group())\n",
    "else:\n",
    "    print('Match not found')"
   ]
  },
  {
   "cell_type": "code",
   "execution_count": 216,
   "id": "33f71dca-6ac1-4831-86b1-f6d77f023f0e",
   "metadata": {},
   "outputs": [
    {
     "name": "stdout",
     "output_type": "stream",
     "text": [
      "Match found: Hello\n"
     ]
    }
   ],
   "source": [
    "import re\n",
    "pattern = re.compile(r'[Hh]ello')\n",
    "match = pattern.search('Hello')\n",
    "if match:\n",
    "    print('Match found:', match.group())\n",
    "else:\n",
    "    print('Match not found')"
   ]
  },
  {
   "cell_type": "code",
   "execution_count": 224,
   "id": "9c797db8-621b-4d53-9c4f-1473dbdeb480",
   "metadata": {},
   "outputs": [
    {
     "name": "stdout",
     "output_type": "stream",
     "text": [
      "Match found: ['cat', 'rat', 'mat']\n"
     ]
    }
   ],
   "source": [
    "import re\n",
    "text = \"cat, bat, rat, mat\"\n",
    "pattern = r\"[crm]at\"\n",
    "matches = re.findall(pattern, text)\n",
    "if match:\n",
    "    print('Match found:', matches)\n",
    "else:\n",
    "    print('Match not found')"
   ]
  },
  {
   "cell_type": "code",
   "execution_count": null,
   "id": "1ce59a68-454f-444c-a563-33c455afdf00",
   "metadata": {},
   "outputs": [],
   "source": []
  }
 ],
 "metadata": {
  "kernelspec": {
   "display_name": "Python 3 (ipykernel)",
   "language": "python",
   "name": "python3"
  },
  "language_info": {
   "codemirror_mode": {
    "name": "ipython",
    "version": 3
   },
   "file_extension": ".py",
   "mimetype": "text/x-python",
   "name": "python",
   "nbconvert_exporter": "python",
   "pygments_lexer": "ipython3",
   "version": "3.12.4"
  }
 },
 "nbformat": 4,
 "nbformat_minor": 5
}
